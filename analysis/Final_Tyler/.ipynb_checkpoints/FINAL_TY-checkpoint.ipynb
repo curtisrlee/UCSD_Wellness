{
 "cells": [
  {
   "cell_type": "code",
   "execution_count": 1,
   "metadata": {},
   "outputs": [
    {
     "name": "stderr",
     "output_type": "stream",
     "text": [
      "[nltk_data] Downloading package opinion_lexicon to\n",
      "[nltk_data]     /Users/tyler/nltk_data...\n",
      "[nltk_data]   Package opinion_lexicon is already up-to-date!\n",
      "[nltk_data] Downloading package stopwords to /Users/tyler/nltk_data...\n",
      "[nltk_data]   Package stopwords is already up-to-date!\n",
      "[nltk_data] Downloading package punkt to /Users/tyler/nltk_data...\n",
      "[nltk_data]   Package punkt is already up-to-date!\n",
      "[nltk_data] Downloading package averaged_perceptron_tagger to\n",
      "[nltk_data]     /Users/tyler/nltk_data...\n",
      "[nltk_data]   Package averaged_perceptron_tagger is already up-to-\n",
      "[nltk_data]       date!\n"
     ]
    }
   ],
   "source": [
    "from utility import *\n",
    "%matplotlib inline"
   ]
  },
  {
   "cell_type": "markdown",
   "metadata": {},
   "source": [
    "## Load and preprocess confessions dataset"
   ]
  },
  {
   "cell_type": "code",
   "execution_count": 2,
   "metadata": {},
   "outputs": [],
   "source": [
    "path = '/Users/tyler/UCSD_Wellness/analysis/data/data1.csv'\n",
    "confessions=pd.read_csv(path)"
   ]
  },
  {
   "cell_type": "code",
   "execution_count": 3,
   "metadata": {},
   "outputs": [
    {
     "data": {
      "text/html": [
       "<div>\n",
       "<style scoped>\n",
       "    .dataframe tbody tr th:only-of-type {\n",
       "        vertical-align: middle;\n",
       "    }\n",
       "\n",
       "    .dataframe tbody tr th {\n",
       "        vertical-align: top;\n",
       "    }\n",
       "\n",
       "    .dataframe thead th {\n",
       "        text-align: right;\n",
       "    }\n",
       "</style>\n",
       "<table border=\"1\" class=\"dataframe\">\n",
       "  <thead>\n",
       "    <tr style=\"text-align: right;\">\n",
       "      <th></th>\n",
       "      <th>id</th>\n",
       "      <th>timestamp</th>\n",
       "      <th>content</th>\n",
       "      <th>contact</th>\n",
       "      <th>tags</th>\n",
       "      <th>note</th>\n",
       "      <th>weekday</th>\n",
       "    </tr>\n",
       "  </thead>\n",
       "  <tbody>\n",
       "    <tr>\n",
       "      <th>0</th>\n",
       "      <td>14442</td>\n",
       "      <td>2019-10-12 17:05:24</td>\n",
       "      <td>I’m super excited for homecoming next weekend ...</td>\n",
       "      <td>NaN</td>\n",
       "      <td>NaN</td>\n",
       "      <td>NaN</td>\n",
       "      <td>Sat</td>\n",
       "    </tr>\n",
       "    <tr>\n",
       "      <th>1</th>\n",
       "      <td>14441</td>\n",
       "      <td>2019-10-12 13:22:03</td>\n",
       "      <td>If I never met you, I would never have gotten ...</td>\n",
       "      <td>NaN</td>\n",
       "      <td>serious</td>\n",
       "      <td>NaN</td>\n",
       "      <td>Sat</td>\n",
       "    </tr>\n",
       "    <tr>\n",
       "      <th>2</th>\n",
       "      <td>14440</td>\n",
       "      <td>2019-10-11 17:03:50</td>\n",
       "      <td>There is an abnormal amount of hot girls that ...</td>\n",
       "      <td>NaN</td>\n",
       "      <td>NaN</td>\n",
       "      <td>NaN</td>\n",
       "      <td>Fri</td>\n",
       "    </tr>\n",
       "    <tr>\n",
       "      <th>3</th>\n",
       "      <td>14439</td>\n",
       "      <td>2019-10-11 15:58:00</td>\n",
       "      <td>Just out of curiosity, on a scale of one to te...</td>\n",
       "      <td>NaN</td>\n",
       "      <td>NaN</td>\n",
       "      <td>NaN</td>\n",
       "      <td>Fri</td>\n",
       "    </tr>\n",
       "    <tr>\n",
       "      <th>4</th>\n",
       "      <td>14438</td>\n",
       "      <td>2019-10-10 19:10:20</td>\n",
       "      <td>To the person who was playing the trumpet outs...</td>\n",
       "      <td>NaN</td>\n",
       "      <td>wholesome</td>\n",
       "      <td>NaN</td>\n",
       "      <td>Thu</td>\n",
       "    </tr>\n",
       "  </tbody>\n",
       "</table>\n",
       "</div>"
      ],
      "text/plain": [
       "      id           timestamp  \\\n",
       "0  14442 2019-10-12 17:05:24   \n",
       "1  14441 2019-10-12 13:22:03   \n",
       "2  14440 2019-10-11 17:03:50   \n",
       "3  14439 2019-10-11 15:58:00   \n",
       "4  14438 2019-10-10 19:10:20   \n",
       "\n",
       "                                             content contact       tags note  \\\n",
       "0  I’m super excited for homecoming next weekend ...     NaN        NaN  NaN   \n",
       "1  If I never met you, I would never have gotten ...     NaN    serious  NaN   \n",
       "2  There is an abnormal amount of hot girls that ...     NaN        NaN  NaN   \n",
       "3  Just out of curiosity, on a scale of one to te...     NaN        NaN  NaN   \n",
       "4  To the person who was playing the trumpet outs...     NaN  wholesome  NaN   \n",
       "\n",
       "  weekday  \n",
       "0     Sat  \n",
       "1     Sat  \n",
       "2     Fri  \n",
       "3     Fri  \n",
       "4     Thu  "
      ]
     },
     "execution_count": 3,
     "metadata": {},
     "output_type": "execute_result"
    }
   ],
   "source": [
    "confessions['timestamp']=pd.to_datetime(confessions.timestamp)\n",
    "confessions['weekday']=confessions.timestamp.dt.strftime('%a')\n",
    "confessions['weekday']=pd.Categorical(confessions['weekday'],categories=['Mon','Tue','Wed','Thu','Fri','Sat','Sun'],ordered=True)\n",
    "\n",
    "confessions.head()"
   ]
  },
  {
   "cell_type": "code",
   "execution_count": 4,
   "metadata": {},
   "outputs": [
    {
     "name": "stdout",
     "output_type": "stream",
     "text": [
      "Total time: 0.7989609241485596 secs\n"
     ]
    }
   ],
   "source": [
    "start = time.time();\n",
    "clean_text(confessions['content'], './data/extra_clean_comments.txt')\n",
    "print('Total time: ' + str((time.time() - start)) + ' secs')"
   ]
  },
  {
   "cell_type": "code",
   "execution_count": 5,
   "metadata": {},
   "outputs": [],
   "source": [
    "extra_clean_txt_file = r\"./data/extra_clean_comments.txt\"\n",
    "extra_clean_csv_file = r\"extra_clean_comments.csv\""
   ]
  },
  {
   "cell_type": "code",
   "execution_count": 6,
   "metadata": {},
   "outputs": [],
   "source": [
    "clean_confessions = txt_to_csv(extra_clean_txt_file, extra_clean_csv_file, header=None)\n",
    "clean_content = clean_confessions[0].tolist()"
   ]
  },
  {
   "cell_type": "markdown",
   "metadata": {},
   "source": [
    "# Load pos/neg lexicon"
   ]
  },
  {
   "cell_type": "code",
   "execution_count": 7,
   "metadata": {},
   "outputs": [],
   "source": [
    "# This takes a while to run, load in the result in the cell below\n",
    "# compute_pos_neg_scores(clean_content)"
   ]
  },
  {
   "cell_type": "code",
   "execution_count": 8,
   "metadata": {},
   "outputs": [],
   "source": [
    "pkl_file = open('pn_lex_score.pkl', 'rb')\n",
    "pn_lex_score = pickle.load(pkl_file)\n",
    "pkl_file.close()"
   ]
  },
  {
   "cell_type": "code",
   "execution_count": 9,
   "metadata": {},
   "outputs": [],
   "source": [
    "temp = pd.DataFrame.from_dict(pn_lex_score, orient='index', columns=['#POS', '#NEG'])\n",
    "new_1 = pd.concat([confessions,temp],axis=1)"
   ]
  },
  {
   "cell_type": "markdown",
   "metadata": {},
   "source": [
    "## Load in VAD lexicon"
   ]
  },
  {
   "cell_type": "code",
   "execution_count": 10,
   "metadata": {},
   "outputs": [],
   "source": [
    "#setup vars for VAD lexicon load\n",
    "vad_text_file = r\"./data/NRC-VAD-Lexicon.txt\"\n",
    "vad_csv_file = r\"vad_lex.csv\"\n",
    "vad_lex = txt_to_csv(vad_text_file, vad_csv_file, header=0)"
   ]
  },
  {
   "cell_type": "code",
   "execution_count": 11,
   "metadata": {},
   "outputs": [],
   "source": [
    "# This takes a while to run, load in the result in the cell below\n",
    "# compute_VAD_scores(clean_content, vad_lex)"
   ]
  },
  {
   "cell_type": "code",
   "execution_count": 12,
   "metadata": {},
   "outputs": [],
   "source": [
    "import pickle\n",
    "import pandas as pd\n",
    "pkl_file = open('all_VAD_scores.pkl', 'rb')\n",
    "all_VAD_scores = pickle.load(pkl_file)\n",
    "pkl_file.close()"
   ]
  },
  {
   "cell_type": "code",
   "execution_count": 13,
   "metadata": {},
   "outputs": [],
   "source": [
    "temp_VAD = pd.DataFrame.from_dict(all_VAD_scores, orient='index', columns=['Valence','Arousal','Dominance'])\n",
    "new = pd.concat([new_1,temp_VAD],axis=1)"
   ]
  },
  {
   "cell_type": "code",
   "execution_count": null,
   "metadata": {},
   "outputs": [],
   "source": []
  },
  {
   "cell_type": "markdown",
   "metadata": {},
   "source": [
    "## Visualize VAD Scores across Week"
   ]
  },
  {
   "cell_type": "code",
   "execution_count": 14,
   "metadata": {},
   "outputs": [
    {
     "data": {
      "image/png": "[encoded data removed]",
      "text/plain": [
       "<Figure size 432x288 with 1 Axes>"
      ]
     },
     "metadata": {
      "needs_background": "light"
     },
     "output_type": "display_data"
    }
   ],
   "source": [
    "plot_vad_weekday_scores(new)"
   ]
  },
  {
   "cell_type": "code",
   "execution_count": null,
   "metadata": {},
   "outputs": [],
   "source": []
  }
 ],
 "metadata": {
  "kernelspec": {
   "display_name": "Python 3",
   "language": "python",
   "name": "python3"
  },
  "language_info": {
   "codemirror_mode": {
    "name": "ipython",
    "version": 3
   },
   "file_extension": ".py",
   "mimetype": "text/x-python",
   "name": "python",
   "nbconvert_exporter": "python",
   "pygments_lexer": "ipython3",
   "version": "3.7.1"
  }
 },
 "nbformat": 4,
 "nbformat_minor": 2
}
