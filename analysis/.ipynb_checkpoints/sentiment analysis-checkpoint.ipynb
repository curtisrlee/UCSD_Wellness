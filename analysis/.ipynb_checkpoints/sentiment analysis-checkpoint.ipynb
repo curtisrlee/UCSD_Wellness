{
 "cells": [
  {
   "cell_type": "markdown",
   "metadata": {},
   "source": [
    "## Import Modules"
   ]
  },
  {
   "cell_type": "code",
   "execution_count": 72,
   "metadata": {},
   "outputs": [],
   "source": [
    "import nltk\n",
    "import random\n",
    "from nltk.classify.scikitlearn import SklearnClassifier\n",
    "import pickle\n",
    "from sklearn.naive_bayes import MultinomialNB, BernoulliNB\n",
    "from sklearn.linear_model import LogisticRegression, SGDClassifier\n",
    "from sklearn.svm import SVC, LinearSVC, NuSVC\n",
    "from nltk.classify import ClassifierI\n",
    "from statistics import mode\n",
    "from nltk.tokenize import word_tokenize\n",
    "import re\n",
    "import os\n",
    "\n",
    "import csv\n",
    "import pandas as pd\n",
    "import numpy as np"
   ]
  },
  {
   "cell_type": "code",
   "execution_count": 73,
   "metadata": {},
   "outputs": [],
   "source": [
    "%matplotlib inline\n",
    "\n",
    "import nltk.data;\n",
    "from gensim.models import word2vec;\n",
    "from sklearn.cluster import KMeans;\n",
    "from sklearn.neighbors import KDTree;\n",
    "import pandas as pd;\n",
    "import numpy as np;\n",
    "import os;\n",
    "import re;\n",
    "import logging;\n",
    "import sqlite3;\n",
    "import time;\n",
    "import sys;\n",
    "import multiprocessing;\n",
    "from wordcloud import WordCloud, ImageColorGenerator\n",
    "import matplotlib.pyplot as plt;\n",
    "from itertools import cycle;"
   ]
  },
  {
   "cell_type": "code",
   "execution_count": null,
   "metadata": {},
   "outputs": [],
   "source": [
    "# !pip install wordcloud"
   ]
  },
  {
   "cell_type": "code",
   "execution_count": 86,
   "metadata": {},
   "outputs": [
    {
     "name": "stderr",
     "output_type": "stream",
     "text": [
      "[nltk_data] Downloading package opinion_lexicon to\n",
      "[nltk_data]     /Users/tyler/nltk_data...\n",
      "[nltk_data]   Package opinion_lexicon is already up-to-date!\n",
      "[nltk_data] Downloading package stopwords to /Users/tyler/nltk_data...\n",
      "[nltk_data]   Package stopwords is already up-to-date!\n",
      "[nltk_data] Downloading package punkt to /Users/tyler/nltk_data...\n",
      "[nltk_data]   Package punkt is already up-to-date!\n",
      "[nltk_data] Downloading package averaged_perceptron_tagger to\n",
      "[nltk_data]     /Users/tyler/nltk_data...\n",
      "[nltk_data]   Package averaged_perceptron_tagger is already up-to-\n",
      "[nltk_data]       date!\n"
     ]
    }
   ],
   "source": [
    "from nltk.corpus.reader import WordListCorpusReader\n",
    "from nltk.corpus.reader.api import *\n",
    "nltk.download('opinion_lexicon')\n",
    "nltk.download('stopwords')\n",
    "nltk.download('punkt')\n",
    "nltk.download('averaged_perceptron_tagger')\n",
    "from nltk.corpus import opinion_lexicon\n",
    "from nltk.corpus import stopwords"
   ]
  },
  {
   "cell_type": "code",
   "execution_count": 92,
   "metadata": {},
   "outputs": [],
   "source": [
    "from tqdm import tqdm\n",
    "import numpy as np\n",
    "from collections import defaultdict"
   ]
  },
  {
   "cell_type": "code",
   "execution_count": null,
   "metadata": {},
   "outputs": [],
   "source": []
  },
  {
   "cell_type": "markdown",
   "metadata": {},
   "source": [
    "# load lexicons"
   ]
  },
  {
   "cell_type": "code",
   "execution_count": 75,
   "metadata": {},
   "outputs": [],
   "source": [
    "#helper function \n",
    "def txt_to_csv(txt_file,new_csv_file, header=int):\n",
    "    # use 'with' if the program isn't going to immediately terminate\n",
    "    # so you don't leave files open\n",
    "    # the 'b' is necessary on Windows\n",
    "    # it prevents \\x1a, Ctrl-z, from ending the stream prematurely\n",
    "    # and also stops Python converting to / from different line terminators\n",
    "    # On other platforms, it has no effect\n",
    "    in_txt = csv.reader(open(txt_file, \"r\"), delimiter = '\\t')\n",
    "    out_csv = csv.writer(open(new_csv_file, 'w'))\n",
    "\n",
    "    out_csv.writerows(in_txt)\n",
    "    \n",
    "    lex_csv = pd.read_csv(str(new_csv_file),header=header)\n",
    "    \n",
    "    return lex_csv"
   ]
  },
  {
   "cell_type": "code",
   "execution_count": 76,
   "metadata": {},
   "outputs": [],
   "source": [
    "#setup vars for VAD lexicon load\n",
    "vad_text_file = r\"./data/NRC-VAD-Lexicon.txt\"\n",
    "vad_csv_file = r\"vad_lex.csv\""
   ]
  },
  {
   "cell_type": "code",
   "execution_count": 77,
   "metadata": {},
   "outputs": [],
   "source": [
    "vad_lex = txt_to_csv(vad_text_file, vad_csv_file, header=0)"
   ]
  },
  {
   "cell_type": "code",
   "execution_count": 78,
   "metadata": {},
   "outputs": [
    {
     "data": {
      "text/html": [
       "<div>\n",
       "<style scoped>\n",
       "    .dataframe tbody tr th:only-of-type {\n",
       "        vertical-align: middle;\n",
       "    }\n",
       "\n",
       "    .dataframe tbody tr th {\n",
       "        vertical-align: top;\n",
       "    }\n",
       "\n",
       "    .dataframe thead th {\n",
       "        text-align: right;\n",
       "    }\n",
       "</style>\n",
       "<table border=\"1\" class=\"dataframe\">\n",
       "  <thead>\n",
       "    <tr style=\"text-align: right;\">\n",
       "      <th></th>\n",
       "      <th>Word</th>\n",
       "      <th>Valence</th>\n",
       "      <th>Arousal</th>\n",
       "      <th>Dominance</th>\n",
       "    </tr>\n",
       "  </thead>\n",
       "  <tbody>\n",
       "    <tr>\n",
       "      <th>0</th>\n",
       "      <td>aaaaaaah</td>\n",
       "      <td>0.479</td>\n",
       "      <td>0.606</td>\n",
       "      <td>0.291</td>\n",
       "    </tr>\n",
       "    <tr>\n",
       "      <th>1</th>\n",
       "      <td>aaaah</td>\n",
       "      <td>0.520</td>\n",
       "      <td>0.636</td>\n",
       "      <td>0.282</td>\n",
       "    </tr>\n",
       "    <tr>\n",
       "      <th>2</th>\n",
       "      <td>aardvark</td>\n",
       "      <td>0.427</td>\n",
       "      <td>0.490</td>\n",
       "      <td>0.437</td>\n",
       "    </tr>\n",
       "    <tr>\n",
       "      <th>3</th>\n",
       "      <td>aback</td>\n",
       "      <td>0.385</td>\n",
       "      <td>0.407</td>\n",
       "      <td>0.288</td>\n",
       "    </tr>\n",
       "    <tr>\n",
       "      <th>4</th>\n",
       "      <td>abacus</td>\n",
       "      <td>0.510</td>\n",
       "      <td>0.276</td>\n",
       "      <td>0.485</td>\n",
       "    </tr>\n",
       "  </tbody>\n",
       "</table>\n",
       "</div>"
      ],
      "text/plain": [
       "       Word  Valence  Arousal  Dominance\n",
       "0  aaaaaaah    0.479    0.606      0.291\n",
       "1     aaaah    0.520    0.636      0.282\n",
       "2  aardvark    0.427    0.490      0.437\n",
       "3     aback    0.385    0.407      0.288\n",
       "4    abacus    0.510    0.276      0.485"
      ]
     },
     "execution_count": 78,
     "metadata": {},
     "output_type": "execute_result"
    }
   ],
   "source": [
    "vad_lex.head()"
   ]
  },
  {
   "cell_type": "code",
   "execution_count": 79,
   "metadata": {},
   "outputs": [],
   "source": [
    "# for i in range(len(vad_lex['Word'])):\n",
    "#     print(vad_lex['Word'][i])"
   ]
  },
  {
   "cell_type": "code",
   "execution_count": 80,
   "metadata": {},
   "outputs": [],
   "source": [
    "#nltk opinion lexicon\n",
    "pos_lex = opinion_lexicon.positive()\n",
    "neg_lex = opinion_lexicon.negative()"
   ]
  },
  {
   "cell_type": "code",
   "execution_count": null,
   "metadata": {},
   "outputs": [],
   "source": []
  },
  {
   "cell_type": "markdown",
   "metadata": {},
   "source": [
    "## load in pre-processed confessions"
   ]
  },
  {
   "cell_type": "code",
   "execution_count": 81,
   "metadata": {},
   "outputs": [],
   "source": [
    "import pandas as pd\n",
    "path = '/Users/tyler/UCSD_Wellness/analysis/data/data1.csv'\n",
    "confessions=pd.read_csv(path)"
   ]
  },
  {
   "cell_type": "code",
   "execution_count": 82,
   "metadata": {},
   "outputs": [],
   "source": [
    "# confessions.head()"
   ]
  },
  {
   "cell_type": "markdown",
   "metadata": {},
   "source": [
    "## Function for further pre-processing of confessions\n"
   ]
  },
  {
   "cell_type": "code",
   "execution_count": 87,
   "metadata": {},
   "outputs": [],
   "source": [
    "def clean_text(all_comments, out_name):\n",
    "    \n",
    "    tokenizer = nltk.data.load('tokenizers/punkt/english.pickle');\n",
    "    \n",
    "    stop_words = list(set(stopwords.words('english')))\n",
    "    \n",
    "    out_file = open(out_name, 'w');\n",
    "    \n",
    "    for pos in range(len(all_comments)):\n",
    "        \n",
    "        #Get the comment\n",
    "        val = all_comments.iloc[pos];\n",
    "        \n",
    "        #Normalize tabs and remove newlines\n",
    "        no_tabs = str(val).replace('\\t', ' ').replace('\\n', '');\n",
    "        \n",
    "        #Remove all characters except A-Z and a dot.\n",
    "        alphas_only = re.sub(\"[^a-zA-Z\\.]\", \" \", no_tabs);\n",
    "        \n",
    "        #Remove punctuation\n",
    "        no_punc = re.sub(r'[^(a-zA-Z)\\s]','', alphas_only)\n",
    "        \n",
    "        #Normalize spaces to 1\n",
    "        multi_spaces = re.sub(\" +\", \" \", no_punc);\n",
    "        \n",
    "        #Strip trailing and leading spaces\n",
    "        no_spaces = multi_spaces.strip();\n",
    "        \n",
    "        #Normalize all charachters to lowercase\n",
    "        clean_text = no_spaces.lower();\n",
    "        \n",
    "        #Get sentences from the tokenizer, remove the dot in each.\n",
    "        sentences = tokenizer.tokenize(clean_text);\n",
    "        \n",
    "        stopped = [w for w in sentences if not w in stop_words]\n",
    "        \n",
    "        sentences = [re.sub(\"[\\.]\", \"\", sentence) for sentence in sentences];\n",
    "        \n",
    "        #If the text has more than one space (removing single word comments) and one character, write it to the file.\n",
    "        out_file.write(\"%s\\n\" % sentences)\n",
    "                \n",
    "                \n",
    "        #Simple logging. At every 50000th step,\n",
    "        #print the total number of rows processed and time taken so far, and flush the file.\n",
    "#         if pos % 50000 == 0:\n",
    "#             total_time = time.time() - start;\n",
    "# #             sys.stdout.write('Completed ' + str(round(100 * (pos / total_rows), 2)) + '% - ' + str(pos) + ' rows in time ' + str(round(total_time / 60, 0)) + ' min & ' + str(round(total_time % 60, 2)) + ' secs\\r');\n",
    "#             out_file.flush();\n",
    "#             break;\n",
    "        \n",
    "    out_file.close();"
   ]
  },
  {
   "cell_type": "markdown",
   "metadata": {},
   "source": [
    "## Add date-time info to original confessions dataframe"
   ]
  },
  {
   "cell_type": "code",
   "execution_count": 88,
   "metadata": {},
   "outputs": [
    {
     "data": {
      "text/html": [
       "<div>\n",
       "<style scoped>\n",
       "    .dataframe tbody tr th:only-of-type {\n",
       "        vertical-align: middle;\n",
       "    }\n",
       "\n",
       "    .dataframe tbody tr th {\n",
       "        vertical-align: top;\n",
       "    }\n",
       "\n",
       "    .dataframe thead th {\n",
       "        text-align: right;\n",
       "    }\n",
       "</style>\n",
       "<table border=\"1\" class=\"dataframe\">\n",
       "  <thead>\n",
       "    <tr style=\"text-align: right;\">\n",
       "      <th></th>\n",
       "      <th>id</th>\n",
       "      <th>timestamp</th>\n",
       "      <th>content</th>\n",
       "      <th>contact</th>\n",
       "      <th>tags</th>\n",
       "      <th>note</th>\n",
       "      <th>weekday</th>\n",
       "    </tr>\n",
       "  </thead>\n",
       "  <tbody>\n",
       "    <tr>\n",
       "      <th>0</th>\n",
       "      <td>14442</td>\n",
       "      <td>2019-10-12 17:05:24</td>\n",
       "      <td>I’m super excited for homecoming next weekend ...</td>\n",
       "      <td>NaN</td>\n",
       "      <td>NaN</td>\n",
       "      <td>NaN</td>\n",
       "      <td>Sat</td>\n",
       "    </tr>\n",
       "    <tr>\n",
       "      <th>1</th>\n",
       "      <td>14441</td>\n",
       "      <td>2019-10-12 13:22:03</td>\n",
       "      <td>If I never met you, I would never have gotten ...</td>\n",
       "      <td>NaN</td>\n",
       "      <td>serious</td>\n",
       "      <td>NaN</td>\n",
       "      <td>Sat</td>\n",
       "    </tr>\n",
       "    <tr>\n",
       "      <th>2</th>\n",
       "      <td>14440</td>\n",
       "      <td>2019-10-11 17:03:50</td>\n",
       "      <td>There is an abnormal amount of hot girls that ...</td>\n",
       "      <td>NaN</td>\n",
       "      <td>NaN</td>\n",
       "      <td>NaN</td>\n",
       "      <td>Fri</td>\n",
       "    </tr>\n",
       "    <tr>\n",
       "      <th>3</th>\n",
       "      <td>14439</td>\n",
       "      <td>2019-10-11 15:58:00</td>\n",
       "      <td>Just out of curiosity, on a scale of one to te...</td>\n",
       "      <td>NaN</td>\n",
       "      <td>NaN</td>\n",
       "      <td>NaN</td>\n",
       "      <td>Fri</td>\n",
       "    </tr>\n",
       "    <tr>\n",
       "      <th>4</th>\n",
       "      <td>14438</td>\n",
       "      <td>2019-10-10 19:10:20</td>\n",
       "      <td>To the person who was playing the trumpet outs...</td>\n",
       "      <td>NaN</td>\n",
       "      <td>wholesome</td>\n",
       "      <td>NaN</td>\n",
       "      <td>Thu</td>\n",
       "    </tr>\n",
       "  </tbody>\n",
       "</table>\n",
       "</div>"
      ],
      "text/plain": [
       "      id           timestamp  \\\n",
       "0  14442 2019-10-12 17:05:24   \n",
       "1  14441 2019-10-12 13:22:03   \n",
       "2  14440 2019-10-11 17:03:50   \n",
       "3  14439 2019-10-11 15:58:00   \n",
       "4  14438 2019-10-10 19:10:20   \n",
       "\n",
       "                                             content contact       tags note  \\\n",
       "0  I’m super excited for homecoming next weekend ...     NaN        NaN  NaN   \n",
       "1  If I never met you, I would never have gotten ...     NaN    serious  NaN   \n",
       "2  There is an abnormal amount of hot girls that ...     NaN        NaN  NaN   \n",
       "3  Just out of curiosity, on a scale of one to te...     NaN        NaN  NaN   \n",
       "4  To the person who was playing the trumpet outs...     NaN  wholesome  NaN   \n",
       "\n",
       "  weekday  \n",
       "0     Sat  \n",
       "1     Sat  \n",
       "2     Fri  \n",
       "3     Fri  \n",
       "4     Thu  "
      ]
     },
     "execution_count": 88,
     "metadata": {},
     "output_type": "execute_result"
    }
   ],
   "source": [
    "confessions['timestamp']=pd.to_datetime(confessions.timestamp)\n",
    "confessions['weekday']=confessions.timestamp.dt.strftime('%a')\n",
    "confessions['weekday']=pd.Categorical(confessions['weekday'],categories=['Mon','Tue','Wed','Thu','Fri','Sat','Sun'],ordered=True)\n",
    "\n",
    "confessions.head()"
   ]
  },
  {
   "cell_type": "code",
   "execution_count": 89,
   "metadata": {},
   "outputs": [
    {
     "name": "stdout",
     "output_type": "stream",
     "text": [
      "Total time: 0.8864729404449463 secs\n"
     ]
    }
   ],
   "source": [
    "start = time.time();\n",
    "clean_comments = clean_text(confessions['content'], './data/extra_clean_comments.txt')\n",
    "print('Total time: ' + str((time.time() - start)) + ' secs')"
   ]
  },
  {
   "cell_type": "code",
   "execution_count": 90,
   "metadata": {},
   "outputs": [],
   "source": [
    "extra_clean_txt_file = r\"./data/extra_clean_comments.txt\"\n",
    "extra_clean_csv_file = r\"extra_clean_comments.csv\""
   ]
  },
  {
   "cell_type": "code",
   "execution_count": 96,
   "metadata": {},
   "outputs": [],
   "source": [
    "clean_confessions = txt_to_csv(extra_clean_txt_file, extra_clean_csv_file, header=None)\n",
    "# print(clean_comments)\n",
    "clean_content = clean_confessions[0].tolist()\n",
    "# len(clean_content)"
   ]
  },
  {
   "cell_type": "markdown",
   "metadata": {},
   "source": [
    "## Construct Various Sentiment Scoring Dictionaries"
   ]
  },
  {
   "cell_type": "markdown",
   "metadata": {},
   "source": [
    "### nltk opinion positive/negative lexicon"
   ]
  },
  {
   "cell_type": "code",
   "execution_count": 93,
   "metadata": {},
   "outputs": [],
   "source": [
    "# pn_lex_score = defaultdict(int)\n",
    "# for i,note in tqdm(enumerate(clean_content)):\n",
    "#     pn_lex_score[i] = np.array([0.,0.])\n",
    "#     note = re.sub(\"[^\\w]\", \" \",  note).split()\n",
    "#     for word in note:\n",
    "#         if word in pos_lex:\n",
    "#             pn_lex_score[i] += np.array([1.,0.])\n",
    "#         elif word in neg_lex:\n",
    "#             pn_lex_score[i] += np.array([0.,1.])"
   ]
  },
  {
   "cell_type": "code",
   "execution_count": null,
   "metadata": {},
   "outputs": [],
   "source": []
  },
  {
   "cell_type": "markdown",
   "metadata": {},
   "source": [
    "### NRC VAD Lexicon"
   ]
  },
  {
   "cell_type": "code",
   "execution_count": 99,
   "metadata": {},
   "outputs": [
    {
     "name": "stderr",
     "output_type": "stream",
     "text": [
      "8214it [04:11, 44.79it/s]\n"
     ]
    }
   ],
   "source": [
    "#NRC VAD lexicon\n",
    "all_VAD_scores = defaultdict(int)\n",
    "# clean_content = clean_comments[0].tolist()\n",
    "for i,note in tqdm(enumerate(clean_content)):\n",
    "    all_VAD_scores[i] = np.array([0.,0.,0.])\n",
    "    note = re.sub(\"[^\\w]\", \" \",  note).split()\n",
    "    for word in note:\n",
    "        if word in list(vad_lex['Word']):\n",
    "            all_VAD_scores[i] += np.array([vad_lex['Valence'][i],vad_lex['Arousal'][i],vad_lex['Dominance'][i]])"
   ]
  },
  {
   "cell_type": "code",
   "execution_count": 101,
   "metadata": {},
   "outputs": [],
   "source": [
    "# all_VAD_scores"
   ]
  },
  {
   "cell_type": "code",
   "execution_count": null,
   "metadata": {},
   "outputs": [],
   "source": [
    "# test = confessions"
   ]
  },
  {
   "cell_type": "code",
   "execution_count": 102,
   "metadata": {},
   "outputs": [],
   "source": [
    "temp = pd.DataFrame.from_dict(all_VAD_scores, orient='index', columns=['Valence','Arousal','Dominance'])"
   ]
  },
  {
   "cell_type": "code",
   "execution_count": 103,
   "metadata": {},
   "outputs": [],
   "source": [
    "new = pd.concat([confessions,temp],axis=1)"
   ]
  },
  {
   "cell_type": "code",
   "execution_count": 104,
   "metadata": {},
   "outputs": [
    {
     "data": {
      "text/html": [
       "<div>\n",
       "<style scoped>\n",
       "    .dataframe tbody tr th:only-of-type {\n",
       "        vertical-align: middle;\n",
       "    }\n",
       "\n",
       "    .dataframe tbody tr th {\n",
       "        vertical-align: top;\n",
       "    }\n",
       "\n",
       "    .dataframe thead th {\n",
       "        text-align: right;\n",
       "    }\n",
       "</style>\n",
       "<table border=\"1\" class=\"dataframe\">\n",
       "  <thead>\n",
       "    <tr style=\"text-align: right;\">\n",
       "      <th></th>\n",
       "      <th>id</th>\n",
       "      <th>timestamp</th>\n",
       "      <th>content</th>\n",
       "      <th>contact</th>\n",
       "      <th>tags</th>\n",
       "      <th>note</th>\n",
       "      <th>weekday</th>\n",
       "      <th>Valence</th>\n",
       "      <th>Arousal</th>\n",
       "      <th>Dominance</th>\n",
       "    </tr>\n",
       "  </thead>\n",
       "  <tbody>\n",
       "    <tr>\n",
       "      <th>0</th>\n",
       "      <td>14442</td>\n",
       "      <td>2019-10-12 17:05:24</td>\n",
       "      <td>I’m super excited for homecoming next weekend ...</td>\n",
       "      <td>NaN</td>\n",
       "      <td>NaN</td>\n",
       "      <td>NaN</td>\n",
       "      <td>Sat</td>\n",
       "      <td>12.933</td>\n",
       "      <td>16.362</td>\n",
       "      <td>7.857</td>\n",
       "    </tr>\n",
       "    <tr>\n",
       "      <th>1</th>\n",
       "      <td>14441</td>\n",
       "      <td>2019-10-12 13:22:03</td>\n",
       "      <td>If I never met you, I would never have gotten ...</td>\n",
       "      <td>NaN</td>\n",
       "      <td>serious</td>\n",
       "      <td>NaN</td>\n",
       "      <td>Sat</td>\n",
       "      <td>28.600</td>\n",
       "      <td>34.980</td>\n",
       "      <td>15.510</td>\n",
       "    </tr>\n",
       "    <tr>\n",
       "      <th>2</th>\n",
       "      <td>14440</td>\n",
       "      <td>2019-10-11 17:03:50</td>\n",
       "      <td>There is an abnormal amount of hot girls that ...</td>\n",
       "      <td>NaN</td>\n",
       "      <td>NaN</td>\n",
       "      <td>NaN</td>\n",
       "      <td>Fri</td>\n",
       "      <td>4.270</td>\n",
       "      <td>4.900</td>\n",
       "      <td>4.370</td>\n",
       "    </tr>\n",
       "    <tr>\n",
       "      <th>3</th>\n",
       "      <td>14439</td>\n",
       "      <td>2019-10-11 15:58:00</td>\n",
       "      <td>Just out of curiosity, on a scale of one to te...</td>\n",
       "      <td>NaN</td>\n",
       "      <td>NaN</td>\n",
       "      <td>NaN</td>\n",
       "      <td>Fri</td>\n",
       "      <td>3.080</td>\n",
       "      <td>3.256</td>\n",
       "      <td>2.304</td>\n",
       "    </tr>\n",
       "    <tr>\n",
       "      <th>4</th>\n",
       "      <td>14438</td>\n",
       "      <td>2019-10-10 19:10:20</td>\n",
       "      <td>To the person who was playing the trumpet outs...</td>\n",
       "      <td>NaN</td>\n",
       "      <td>wholesome</td>\n",
       "      <td>NaN</td>\n",
       "      <td>Thu</td>\n",
       "      <td>5.610</td>\n",
       "      <td>3.036</td>\n",
       "      <td>5.335</td>\n",
       "    </tr>\n",
       "  </tbody>\n",
       "</table>\n",
       "</div>"
      ],
      "text/plain": [
       "      id           timestamp  \\\n",
       "0  14442 2019-10-12 17:05:24   \n",
       "1  14441 2019-10-12 13:22:03   \n",
       "2  14440 2019-10-11 17:03:50   \n",
       "3  14439 2019-10-11 15:58:00   \n",
       "4  14438 2019-10-10 19:10:20   \n",
       "\n",
       "                                             content contact       tags note  \\\n",
       "0  I’m super excited for homecoming next weekend ...     NaN        NaN  NaN   \n",
       "1  If I never met you, I would never have gotten ...     NaN    serious  NaN   \n",
       "2  There is an abnormal amount of hot girls that ...     NaN        NaN  NaN   \n",
       "3  Just out of curiosity, on a scale of one to te...     NaN        NaN  NaN   \n",
       "4  To the person who was playing the trumpet outs...     NaN  wholesome  NaN   \n",
       "\n",
       "  weekday  Valence  Arousal  Dominance  \n",
       "0     Sat   12.933   16.362      7.857  \n",
       "1     Sat   28.600   34.980     15.510  \n",
       "2     Fri    4.270    4.900      4.370  \n",
       "3     Fri    3.080    3.256      2.304  \n",
       "4     Thu    5.610    3.036      5.335  "
      ]
     },
     "execution_count": 104,
     "metadata": {},
     "output_type": "execute_result"
    }
   ],
   "source": [
    "new.head()"
   ]
  },
  {
   "cell_type": "markdown",
   "metadata": {},
   "source": [
    "# Graphing VAD frequency across weekday"
   ]
  },
  {
   "cell_type": "code",
   "execution_count": 105,
   "metadata": {},
   "outputs": [],
   "source": [
    "# calculate total scores and counts\n",
    "weekday_valence_sum=new.groupby('weekday')['Valence'].sum()\n",
    "weekday_valence_count=new.groupby('weekday')['Valence'].count()\n",
    "valence = weekday_valence_sum/weekday_valence_count\n",
    "\n",
    "weekday_arousal_sum=new.groupby('weekday')['Arousal'].sum()\n",
    "weekday_arousal_count=new.groupby('weekday')['Arousal'].count()\n",
    "arousal = weekday_arousal_sum/weekday_arousal_count\n",
    "\n",
    "weekday_dominance_sum=new.groupby('weekday')['Dominance'].sum()\n",
    "weekday_dominance_count=new.groupby('weekday')['Dominance'].count()\n",
    "dominance = weekday_dominance_sum/weekday_dominance_count\n",
    "\n"
   ]
  },
  {
   "cell_type": "code",
   "execution_count": 108,
   "metadata": {},
   "outputs": [
    {
     "data": {
      "image/png": "[encoded data removed]",
      "text/plain": [
       "<Figure size 432x288 with 1 Axes>"
      ]
     },
     "metadata": {
      "needs_background": "light"
     },
     "output_type": "display_data"
    }
   ],
   "source": [
    "fig, ax = plt.subplots()\n",
    "index = np.arange(7)\n",
    "bar_width =0.5\n",
    "w = 0.35\n",
    "ax.bar(index-w, valence.values-10, width=w, color='b', align='center')\n",
    "ax.bar(index, arousal.values-10, width=w, color='g', align='center')\n",
    "ax.bar(index+w, dominance.values-10, width=w, color='r', align='center')\n",
    "# ax.bar(list(weekday_distri.index))\n",
    "# plt.bar(index, weekday_valence.values)\n",
    "# plt.bar(index+bar_width, weekday_arousal.values)\n",
    "# plt.bar(index+bar_width*2, weekday_dominance.values)\n",
    "# ax.set(xlabel='weekday', ylabel='VAD score')\n",
    "ax.grid()\n",
    "plt.xticks(index,list(weekday_valence_sum.index))\n",
    "fig.savefig(\"weekday.png\")\n",
    "plt.show()"
   ]
  },
  {
   "cell_type": "markdown",
   "metadata": {},
   "source": [
    "# NLTK Polarity Analysis"
   ]
  },
  {
   "cell_type": "code",
   "execution_count": 120,
   "metadata": {},
   "outputs": [],
   "source": [
    "from nltk.sentiment.vader import SentimentIntensityAnalyzer"
   ]
  },
  {
   "cell_type": "code",
   "execution_count": 122,
   "metadata": {},
   "outputs": [
    {
     "name": "stdout",
     "output_type": "stream",
     "text": [
      "Like you, I am getting very frustrated with this process. I am genuinely trying to be as reasonable as possible. I am not trying to \"hold up\" the deal at the last minute. I'm afraid that I am being asked to take a fairly large leap of faith after this company (I don't mean the two of you -- I mean Enron) has screwed me and the people who work for me.\n",
      "compound: -0.3804, neg: 0.093, neu: 0.836, pos: 0.071, "
     ]
    }
   ],
   "source": [
    "# next, we initialize VADER so we can use it within our Python script\n",
    "sid = SentimentIntensityAnalyzer()\n",
    "\n",
    "# the variable 'message_text' now contains the text we will analyze.\n",
    "message_text = '''Like you, I am getting very frustrated with this process. I am genuinely trying to be as reasonable as possible. I am not trying to \"hold up\" the deal at the last minute. I'm afraid that I am being asked to take a fairly large leap of faith after this company (I don't mean the two of you -- I mean Enron) has screwed me and the people who work for me.'''\n",
    "\n",
    "print(message_text)\n",
    "\n",
    "# Calling the polarity_scores method on sid and passing in the message_text outputs a dictionary with negative, neutral, positive, and compound scores for the input text\n",
    "scores = sid.polarity_scores(message_text)\n",
    "\n",
    "# Here we loop through the keys contained in scores (pos, neu, neg, and compound scores) and print the key-value pairs on the screen\n",
    "\n",
    "for key in sorted(scores):\n",
    "        print('{0}: {1}, '.format(key, scores[key]), end='')"
   ]
  },
  {
   "cell_type": "code",
   "execution_count": 125,
   "metadata": {},
   "outputs": [
    {
     "name": "stderr",
     "output_type": "stream",
     "text": [
      "8214it [00:05, 1379.92it/s]\n"
     ]
    }
   ],
   "source": [
    "# next, we initialize VADER so we can use it within our Python script\n",
    "sid = SentimentIntensityAnalyzer()\n",
    "\n",
    "all_nltk_vader_scores = defaultdict(int)\n",
    "# clean_content = clean_comments[0].tolist()\n",
    "for i,note in tqdm(enumerate(clean_content)):\n",
    "    scores = sid.polarity_scores(note)\n",
    "    all_nltk_vader_scores[i] = np.array([scores['neg'],scores['neu'],scores['pos'],scores['compound']])\n",
    "    "
   ]
  },
  {
   "cell_type": "code",
   "execution_count": 126,
   "metadata": {},
   "outputs": [],
   "source": [
    "nltk_vader = pd.DataFrame.from_dict(all_nltk_vader_scores, orient='index', columns=['neg','neu','pos','compound'])\n",
    "nltk_vader.head()\n",
    "df = pd.concat([new,nltk_vader],axis=1)"
   ]
  },
  {
   "cell_type": "code",
   "execution_count": 127,
   "metadata": {},
   "outputs": [
    {
     "data": {
      "text/html": [
       "<div>\n",
       "<style scoped>\n",
       "    .dataframe tbody tr th:only-of-type {\n",
       "        vertical-align: middle;\n",
       "    }\n",
       "\n",
       "    .dataframe tbody tr th {\n",
       "        vertical-align: top;\n",
       "    }\n",
       "\n",
       "    .dataframe thead th {\n",
       "        text-align: right;\n",
       "    }\n",
       "</style>\n",
       "<table border=\"1\" class=\"dataframe\">\n",
       "  <thead>\n",
       "    <tr style=\"text-align: right;\">\n",
       "      <th></th>\n",
       "      <th>id</th>\n",
       "      <th>timestamp</th>\n",
       "      <th>content</th>\n",
       "      <th>contact</th>\n",
       "      <th>tags</th>\n",
       "      <th>note</th>\n",
       "      <th>weekday</th>\n",
       "      <th>Valence</th>\n",
       "      <th>Arousal</th>\n",
       "      <th>Dominance</th>\n",
       "      <th>neg</th>\n",
       "      <th>neu</th>\n",
       "      <th>pos</th>\n",
       "      <th>compound</th>\n",
       "      <th>hour</th>\n",
       "    </tr>\n",
       "  </thead>\n",
       "  <tbody>\n",
       "    <tr>\n",
       "      <th>0</th>\n",
       "      <td>14442</td>\n",
       "      <td>2019-10-12 17:05:24</td>\n",
       "      <td>I’m super excited for homecoming next weekend ...</td>\n",
       "      <td>NaN</td>\n",
       "      <td>NaN</td>\n",
       "      <td>NaN</td>\n",
       "      <td>Sat</td>\n",
       "      <td>12.933</td>\n",
       "      <td>16.362</td>\n",
       "      <td>7.857</td>\n",
       "      <td>0.107</td>\n",
       "      <td>0.597</td>\n",
       "      <td>0.295</td>\n",
       "      <td>0.9397</td>\n",
       "      <td>17</td>\n",
       "    </tr>\n",
       "    <tr>\n",
       "      <th>1</th>\n",
       "      <td>14441</td>\n",
       "      <td>2019-10-12 13:22:03</td>\n",
       "      <td>If I never met you, I would never have gotten ...</td>\n",
       "      <td>NaN</td>\n",
       "      <td>serious</td>\n",
       "      <td>NaN</td>\n",
       "      <td>Sat</td>\n",
       "      <td>28.600</td>\n",
       "      <td>34.980</td>\n",
       "      <td>15.510</td>\n",
       "      <td>0.103</td>\n",
       "      <td>0.754</td>\n",
       "      <td>0.143</td>\n",
       "      <td>0.8731</td>\n",
       "      <td>13</td>\n",
       "    </tr>\n",
       "    <tr>\n",
       "      <th>2</th>\n",
       "      <td>14440</td>\n",
       "      <td>2019-10-11 17:03:50</td>\n",
       "      <td>There is an abnormal amount of hot girls that ...</td>\n",
       "      <td>NaN</td>\n",
       "      <td>NaN</td>\n",
       "      <td>NaN</td>\n",
       "      <td>Fri</td>\n",
       "      <td>4.270</td>\n",
       "      <td>4.900</td>\n",
       "      <td>4.370</td>\n",
       "      <td>0.000</td>\n",
       "      <td>0.757</td>\n",
       "      <td>0.243</td>\n",
       "      <td>0.7269</td>\n",
       "      <td>17</td>\n",
       "    </tr>\n",
       "    <tr>\n",
       "      <th>3</th>\n",
       "      <td>14439</td>\n",
       "      <td>2019-10-11 15:58:00</td>\n",
       "      <td>Just out of curiosity, on a scale of one to te...</td>\n",
       "      <td>NaN</td>\n",
       "      <td>NaN</td>\n",
       "      <td>NaN</td>\n",
       "      <td>Fri</td>\n",
       "      <td>3.080</td>\n",
       "      <td>3.256</td>\n",
       "      <td>2.304</td>\n",
       "      <td>0.000</td>\n",
       "      <td>0.950</td>\n",
       "      <td>0.050</td>\n",
       "      <td>0.0258</td>\n",
       "      <td>15</td>\n",
       "    </tr>\n",
       "    <tr>\n",
       "      <th>4</th>\n",
       "      <td>14438</td>\n",
       "      <td>2019-10-10 19:10:20</td>\n",
       "      <td>To the person who was playing the trumpet outs...</td>\n",
       "      <td>NaN</td>\n",
       "      <td>wholesome</td>\n",
       "      <td>NaN</td>\n",
       "      <td>Thu</td>\n",
       "      <td>5.610</td>\n",
       "      <td>3.036</td>\n",
       "      <td>5.335</td>\n",
       "      <td>0.000</td>\n",
       "      <td>0.759</td>\n",
       "      <td>0.241</td>\n",
       "      <td>0.9072</td>\n",
       "      <td>19</td>\n",
       "    </tr>\n",
       "  </tbody>\n",
       "</table>\n",
       "</div>"
      ],
      "text/plain": [
       "      id           timestamp  \\\n",
       "0  14442 2019-10-12 17:05:24   \n",
       "1  14441 2019-10-12 13:22:03   \n",
       "2  14440 2019-10-11 17:03:50   \n",
       "3  14439 2019-10-11 15:58:00   \n",
       "4  14438 2019-10-10 19:10:20   \n",
       "\n",
       "                                             content contact       tags note  \\\n",
       "0  I’m super excited for homecoming next weekend ...     NaN        NaN  NaN   \n",
       "1  If I never met you, I would never have gotten ...     NaN    serious  NaN   \n",
       "2  There is an abnormal amount of hot girls that ...     NaN        NaN  NaN   \n",
       "3  Just out of curiosity, on a scale of one to te...     NaN        NaN  NaN   \n",
       "4  To the person who was playing the trumpet outs...     NaN  wholesome  NaN   \n",
       "\n",
       "  weekday  Valence  Arousal  Dominance    neg    neu    pos  compound hour  \n",
       "0     Sat   12.933   16.362      7.857  0.107  0.597  0.295    0.9397   17  \n",
       "1     Sat   28.600   34.980     15.510  0.103  0.754  0.143    0.8731   13  \n",
       "2     Fri    4.270    4.900      4.370  0.000  0.757  0.243    0.7269   17  \n",
       "3     Fri    3.080    3.256      2.304  0.000  0.950  0.050    0.0258   15  \n",
       "4     Thu    5.610    3.036      5.335  0.000  0.759  0.241    0.9072   19  "
      ]
     },
     "execution_count": 127,
     "metadata": {},
     "output_type": "execute_result"
    }
   ],
   "source": [
    "df['hour']=confessions.timestamp.dt.strftime('%H')\n",
    "df.head()"
   ]
  },
  {
   "cell_type": "markdown",
   "metadata": {},
   "source": [
    "## Graph Polarity Scores"
   ]
  },
  {
   "cell_type": "code",
   "execution_count": 128,
   "metadata": {},
   "outputs": [],
   "source": [
    "hour_neg_sum=df.groupby('hour')['neg'].sum()\n",
    "hour_neg_count=df.groupby('hour')['neg'].count()\n",
    "neg = hour_neg_sum/hour_neg_count\n",
    "\n",
    "hour_pos_sum=df.groupby('hour')['pos'].sum()\n",
    "hour_pos_count=df.groupby('hour')['pos'].count()\n",
    "pos = hour_pos_sum/hour_pos_count\n",
    "\n",
    "hour_neu_sum=df.groupby('hour')['neu'].sum()\n",
    "hour_neu_count=df.groupby('hour')['neu'].count()\n",
    "neu = hour_neu_sum/hour_neu_count\n",
    "\n",
    "hour_compound_sum=df.groupby('hour')['compound'].sum()\n",
    "hour_compound_count=df.groupby('hour')['compound'].count()\n",
    "compound = hour_compound_sum/hour_compound_count\n",
    "\n",
    "\n"
   ]
  },
  {
   "cell_type": "code",
   "execution_count": 129,
   "metadata": {},
   "outputs": [
    {
     "data": {
      "image/png": "[encoded data removed]",
      "text/plain": [
       "<Figure size 432x288 with 1 Axes>"
      ]
     },
     "metadata": {
      "needs_background": "light"
     },
     "output_type": "display_data"
    }
   ],
   "source": [
    "fig, ax = plt.subplots()\n",
    "index = np.arange(24)\n",
    "bar_width =0.5\n",
    "w = 0.4\n",
    "ax.bar(index-w, neg.values, width=w, color='r', align='center')\n",
    "# ax.bar(index-(w/2), neu.values, width=w, color='y', align='center')\n",
    "ax.bar(index, compound.values, width=w, color='g', align='center')\n",
    "ax.bar(index+w, pos.values, width=w, color='y', align='center')\n",
    "\n",
    "# ax.bar(list(weekday_distri.index))\n",
    "\n",
    "ax.grid()\n",
    "plt.xticks(index,list(compound.index))\n",
    "fig.savefig(\"weekday_nltk_vader.png\")\n",
    "plt.show()"
   ]
  },
  {
   "cell_type": "code",
   "execution_count": null,
   "metadata": {},
   "outputs": [],
   "source": []
  },
  {
   "cell_type": "markdown",
   "metadata": {},
   "source": [
    "# Train Word2Vec Model"
   ]
  },
  {
   "cell_type": "code",
   "execution_count": 109,
   "metadata": {},
   "outputs": [
    {
     "name": "stderr",
     "output_type": "stream",
     "text": [
      "[nltk_data] Downloading package vader_lexicon to\n",
      "[nltk_data]     /Users/tyler/nltk_data...\n",
      "[nltk_data]   Package vader_lexicon is already up-to-date!\n"
     ]
    }
   ],
   "source": [
    "from gensim.models.word2vec import LineSentence\n",
    "from nltk.corpus import subjectivity\n",
    "nltk.download('vader_lexicon')\n",
    "# first, we import the relevant modules from the NLTK library\n",
    "from nltk.sentiment.vader import SentimentIntensityAnalyzer"
   ]
  },
  {
   "cell_type": "code",
   "execution_count": 110,
   "metadata": {},
   "outputs": [
    {
     "name": "stderr",
     "output_type": "stream",
     "text": [
      "2019-12-01 15:21:12,231 : INFO : collecting all words and their counts\n",
      "2019-12-01 15:21:12,236 : INFO : PROGRESS: at sentence #0, processed 0 words, keeping 0 word types\n"
     ]
    },
    {
     "name": "stdout",
     "output_type": "stream",
     "text": [
      "Training model...\n"
     ]
    },
    {
     "name": "stderr",
     "output_type": "stream",
     "text": [
      "2019-12-01 15:21:12,432 : INFO : collected 28337 word types from a corpus of 563715 raw words and 8215 sentences\n",
      "2019-12-01 15:21:12,432 : INFO : Loading a fresh vocabulary\n",
      "2019-12-01 15:21:12,444 : INFO : effective_min_count=40 retains 1258 unique words (4% of original 28337, drops 27079)\n",
      "2019-12-01 15:21:12,444 : INFO : effective_min_count=40 leaves 467854 word corpus (82% of original 563715, drops 95861)\n",
      "2019-12-01 15:21:12,449 : INFO : deleting the raw counts dictionary of 28337 items\n",
      "2019-12-01 15:21:12,450 : INFO : sample=0.001 downsamples 69 most-common words\n",
      "2019-12-01 15:21:12,450 : INFO : downsampling leaves estimated 314490 word corpus (67.2% of prior 467854)\n",
      "2019-12-01 15:21:12,453 : INFO : estimated required memory for 1258 words and 100 dimensions: 1635400 bytes\n",
      "2019-12-01 15:21:12,453 : INFO : resetting layer weights\n",
      "2019-12-01 15:21:12,475 : INFO : training model with 8 workers on 1258 vocabulary and 100 features, using sg=0 hs=0 sample=0.001 negative=5 window=5\n",
      "2019-12-01 15:21:12,738 : INFO : worker thread finished; awaiting finish of 7 more threads\n",
      "2019-12-01 15:21:12,739 : INFO : worker thread finished; awaiting finish of 6 more threads\n",
      "2019-12-01 15:21:12,741 : INFO : worker thread finished; awaiting finish of 5 more threads\n",
      "2019-12-01 15:21:12,750 : INFO : worker thread finished; awaiting finish of 4 more threads\n",
      "2019-12-01 15:21:12,751 : INFO : worker thread finished; awaiting finish of 3 more threads\n",
      "2019-12-01 15:21:12,752 : INFO : worker thread finished; awaiting finish of 2 more threads\n",
      "2019-12-01 15:21:12,753 : INFO : worker thread finished; awaiting finish of 1 more threads\n",
      "2019-12-01 15:21:12,757 : INFO : worker thread finished; awaiting finish of 0 more threads\n",
      "2019-12-01 15:21:12,758 : INFO : EPOCH - 1 : training on 563715 raw words (315038 effective words) took 0.3s, 1130907 effective words/s\n",
      "2019-12-01 15:21:13,046 : INFO : worker thread finished; awaiting finish of 7 more threads\n",
      "2019-12-01 15:21:13,053 : INFO : worker thread finished; awaiting finish of 6 more threads\n",
      "2019-12-01 15:21:13,066 : INFO : worker thread finished; awaiting finish of 5 more threads\n",
      "2019-12-01 15:21:13,069 : INFO : worker thread finished; awaiting finish of 4 more threads\n",
      "2019-12-01 15:21:13,070 : INFO : worker thread finished; awaiting finish of 3 more threads\n",
      "2019-12-01 15:21:13,076 : INFO : worker thread finished; awaiting finish of 2 more threads\n",
      "2019-12-01 15:21:13,078 : INFO : worker thread finished; awaiting finish of 1 more threads\n",
      "2019-12-01 15:21:13,080 : INFO : worker thread finished; awaiting finish of 0 more threads\n",
      "2019-12-01 15:21:13,081 : INFO : EPOCH - 2 : training on 563715 raw words (314263 effective words) took 0.3s, 980497 effective words/s\n",
      "2019-12-01 15:21:13,357 : INFO : worker thread finished; awaiting finish of 7 more threads\n",
      "2019-12-01 15:21:13,364 : INFO : worker thread finished; awaiting finish of 6 more threads\n",
      "2019-12-01 15:21:13,372 : INFO : worker thread finished; awaiting finish of 5 more threads\n",
      "2019-12-01 15:21:13,375 : INFO : worker thread finished; awaiting finish of 4 more threads\n",
      "2019-12-01 15:21:13,377 : INFO : worker thread finished; awaiting finish of 3 more threads\n",
      "2019-12-01 15:21:13,382 : INFO : worker thread finished; awaiting finish of 2 more threads\n",
      "2019-12-01 15:21:13,384 : INFO : worker thread finished; awaiting finish of 1 more threads\n",
      "2019-12-01 15:21:13,386 : INFO : worker thread finished; awaiting finish of 0 more threads\n",
      "2019-12-01 15:21:13,386 : INFO : EPOCH - 3 : training on 563715 raw words (314438 effective words) took 0.3s, 1043750 effective words/s\n",
      "2019-12-01 15:21:13,647 : INFO : worker thread finished; awaiting finish of 7 more threads\n",
      "2019-12-01 15:21:13,654 : INFO : worker thread finished; awaiting finish of 6 more threads\n",
      "2019-12-01 15:21:13,658 : INFO : worker thread finished; awaiting finish of 5 more threads\n",
      "2019-12-01 15:21:13,660 : INFO : worker thread finished; awaiting finish of 4 more threads\n",
      "2019-12-01 15:21:13,661 : INFO : worker thread finished; awaiting finish of 3 more threads\n",
      "2019-12-01 15:21:13,664 : INFO : worker thread finished; awaiting finish of 2 more threads\n",
      "2019-12-01 15:21:13,668 : INFO : worker thread finished; awaiting finish of 1 more threads\n",
      "2019-12-01 15:21:13,669 : INFO : worker thread finished; awaiting finish of 0 more threads\n",
      "2019-12-01 15:21:13,670 : INFO : EPOCH - 4 : training on 563715 raw words (314789 effective words) took 0.3s, 1127136 effective words/s\n",
      "2019-12-01 15:21:13,915 : INFO : worker thread finished; awaiting finish of 7 more threads\n",
      "2019-12-01 15:21:13,923 : INFO : worker thread finished; awaiting finish of 6 more threads\n",
      "2019-12-01 15:21:13,924 : INFO : worker thread finished; awaiting finish of 5 more threads\n",
      "2019-12-01 15:21:13,926 : INFO : worker thread finished; awaiting finish of 4 more threads\n",
      "2019-12-01 15:21:13,927 : INFO : worker thread finished; awaiting finish of 3 more threads\n",
      "2019-12-01 15:21:13,929 : INFO : worker thread finished; awaiting finish of 2 more threads\n",
      "2019-12-01 15:21:13,929 : INFO : worker thread finished; awaiting finish of 1 more threads\n",
      "2019-12-01 15:21:13,932 : INFO : worker thread finished; awaiting finish of 0 more threads\n",
      "2019-12-01 15:21:13,933 : INFO : EPOCH - 5 : training on 563715 raw words (314743 effective words) took 0.3s, 1210909 effective words/s\n",
      "2019-12-01 15:21:13,934 : INFO : training on a 2818575 raw words (1573271 effective words) took 1.5s, 1078943 effective words/s\n",
      "2019-12-01 15:21:13,935 : INFO : precomputing L2-norms of word weight vectors\n",
      "2019-12-01 15:21:13,945 : INFO : saving Word2Vec object under model_full_confessions, separately None\n",
      "2019-12-01 15:21:13,946 : INFO : not storing attribute vectors_norm\n",
      "2019-12-01 15:21:13,946 : INFO : not storing attribute cum_table\n",
      "2019-12-01 15:21:13,959 : INFO : saved model_full_confessions\n"
     ]
    },
    {
     "name": "stdout",
     "output_type": "stream",
     "text": [
      "Total time: 1.7298662662506104 secs\n"
     ]
    }
   ],
   "source": [
    "start = time.time();\n",
    "#Set the logging format to get some basic updates.\n",
    "logging.basicConfig(format='%(asctime)s : %(levelname)s : %(message)s',\\\n",
    "    level=logging.INFO)\n",
    "# Set values for various parameters\n",
    "num_features = 100;    # Dimensionality of the hidden layer representation\n",
    "min_word_count = 40;   # Minimum word count to keep a word in the vocabulary\n",
    "num_workers = multiprocessing.cpu_count();       # Number of threads to run in parallel set to total number of cpus.\n",
    "context = 5          # Context window size (on each side)                                                       \n",
    "downsampling = 1e-3   # Downsample setting for frequent words\n",
    "# Initialize and train the model. \n",
    "#The LineSentence object allows us to pass in a file name directly as input to Word2Vec,\n",
    "#instead of having to read it into memory first.\n",
    "print(\"Training model...\");\n",
    "model = word2vec.Word2Vec(LineSentence('clean_comments.csv'), workers=num_workers, \\\n",
    "            size=num_features, min_count = min_word_count, \\\n",
    "            window = context, sample = downsampling);\n",
    "# We don't plan on training the model any further, so calling \n",
    "# init_sims will make the model more memory efficient by normalizing the vectors in-place.\n",
    "model.init_sims(replace=True);\n",
    "# Save the model\n",
    "model_name = \"model_full_confessions\";\n",
    "model.save(model_name);\n",
    "print('Total time: ' + str((time.time() - start)) + ' secs')"
   ]
  },
  {
   "cell_type": "code",
   "execution_count": 112,
   "metadata": {},
   "outputs": [],
   "source": [
    "# Z = model.wv.syn0;\n",
    "# print(Z[0].shape)\n",
    "# Z[0]"
   ]
  },
  {
   "cell_type": "markdown",
   "metadata": {},
   "source": [
    "# Cluster, Generate Word Clouds"
   ]
  },
  {
   "cell_type": "code",
   "execution_count": 113,
   "metadata": {},
   "outputs": [],
   "source": [
    "def clustering_on_wordvecs(word_vectors, num_clusters):\n",
    "    # Initalize a k-means object and use it to extract centroids\n",
    "    kmeans_clustering = KMeans(n_clusters = num_clusters, init='k-means++');\n",
    "    idx = kmeans_clustering.fit_predict(word_vectors);\n",
    "    \n",
    "    return kmeans_clustering.cluster_centers_, idx;"
   ]
  },
  {
   "cell_type": "code",
   "execution_count": 114,
   "metadata": {},
   "outputs": [],
   "source": [
    "def get_top_words(index2word, k, centers, wordvecs):\n",
    "    tree = KDTree(wordvecs);\n",
    "#Closest points for each Cluster center is used to query the closest 20 points to it.\n",
    "    closest_points = [tree.query(np.reshape(x, (1, -1)), k=k) for x in centers];\n",
    "    closest_words_idxs = [x[1] for x in closest_points];\n",
    "#Word Index is queried for each position in the above array, and added to a Dictionary.\n",
    "    closest_words = {};\n",
    "    for i in range(0, len(closest_words_idxs)):\n",
    "        closest_words['Cluster #' + str(i)] = [index2word[j] for j in closest_words_idxs[i][0]]\n",
    "#A DataFrame is generated from the dictionary.\n",
    "    print(closest_words['Cluster #0'])\n",
    "    df = pd.DataFrame(closest_words);\n",
    "    df.index = df.index+1\n",
    "    return df;"
   ]
  },
  {
   "cell_type": "code",
   "execution_count": 116,
   "metadata": {},
   "outputs": [],
   "source": [
    "def display_cloud(cluster_num, cmap):\n",
    "#     print(cluster_num)\n",
    "    wc = WordCloud(background_color=\"black\", max_words=200, max_font_size=80, colormap=cmap);\n",
    "    wordcloud = wc.generate(' '.join([word for word in top_words['Cluster #' + str(cluster_num)]]))\n",
    "    plt.imshow(wordcloud, interpolation='bilinear')\n",
    "    plt.axis(\"off\")\n",
    "    plt.savefig('cluster_' + str(cluster_num), bbox_inches='tight')"
   ]
  },
  {
   "cell_type": "code",
   "execution_count": 121,
   "metadata": {},
   "outputs": [],
   "source": [
    "centers, clusters = clustering_on_wordvecs(Z, 4);\n",
    "centroid_map = dict(zip(model.wv.index2word, clusters));\n",
    "# top_words = get_top_words(model.wv.index2word, 100, centers, Z);\n",
    "df = pd.DataFrame()"
   ]
  },
  {
   "cell_type": "code",
   "execution_count": 119,
   "metadata": {},
   "outputs": [
    {
     "data": {
      "image/png": "[encoded data removed]",
      "text/plain": [
       "<Figure size 432x288 with 1 Axes>"
      ]
     },
     "metadata": {
      "needs_background": "light"
     },
     "output_type": "display_data"
    }
   ],
   "source": [
    "cmaps = cycle([\n",
    "            'flag', 'prism', 'ocean', 'gist_earth', 'terrain', 'gist_stern',\n",
    "            'gnuplot', 'gnuplot2', 'CMRmap', 'cubehelix', 'brg', 'hsv',\n",
    "            'gist_rainbow', 'rainbow', 'jet', 'nipy_spectral', 'gist_ncar'])\n",
    "for i in range(4):\n",
    "    col = next(cmaps);\n",
    "    display_cloud(i, col)"
   ]
  },
  {
   "cell_type": "code",
   "execution_count": null,
   "metadata": {},
   "outputs": [],
   "source": []
  },
  {
   "cell_type": "markdown",
   "metadata": {},
   "source": [
    "# Analyze word similarities"
   ]
  },
  {
   "cell_type": "code",
   "execution_count": 130,
   "metadata": {},
   "outputs": [],
   "source": [
    "def get_word_table(table, key, sim_key='similarity', show_sim = True):\n",
    "    if show_sim == True:\n",
    "        return pd.DataFrame(table, columns=[key, sim_key])\n",
    "    else:\n",
    "        return pd.DataFrame(table, columns=[key, sim_key])[key]"
   ]
  },
  {
   "cell_type": "code",
   "execution_count": 131,
   "metadata": {},
   "outputs": [],
   "source": [
    "keys = ['sad','serious','stressed','relationship','school' ];\n",
    "tables = [];\n",
    "for key in keys:\n",
    "    tables.append(get_word_table(model.wv.similar_by_word(key), key, show_sim=False))"
   ]
  },
  {
   "cell_type": "code",
   "execution_count": 132,
   "metadata": {},
   "outputs": [
    {
     "data": {
      "text/html": [
       "<div>\n",
       "<style scoped>\n",
       "    .dataframe tbody tr th:only-of-type {\n",
       "        vertical-align: middle;\n",
       "    }\n",
       "\n",
       "    .dataframe tbody tr th {\n",
       "        vertical-align: top;\n",
       "    }\n",
       "\n",
       "    .dataframe thead th {\n",
       "        text-align: right;\n",
       "    }\n",
       "</style>\n",
       "<table border=\"1\" class=\"dataframe\">\n",
       "  <thead>\n",
       "    <tr style=\"text-align: right;\">\n",
       "      <th></th>\n",
       "      <th>sad</th>\n",
       "      <th>serious</th>\n",
       "      <th>stressed</th>\n",
       "      <th>relationship</th>\n",
       "      <th>school</th>\n",
       "    </tr>\n",
       "  </thead>\n",
       "  <tbody>\n",
       "    <tr>\n",
       "      <th>0</th>\n",
       "      <td>bad</td>\n",
       "      <td>fwb</td>\n",
       "      <td>busy</td>\n",
       "      <td>recently</td>\n",
       "      <td>high</td>\n",
       "    </tr>\n",
       "    <tr>\n",
       "      <th>1</th>\n",
       "      <td>happy</td>\n",
       "      <td>on',</td>\n",
       "      <td>nervous</td>\n",
       "      <td>boyfriend</td>\n",
       "      <td>school',</td>\n",
       "    </tr>\n",
       "    <tr>\n",
       "      <th>2</th>\n",
       "      <td>worried</td>\n",
       "      <td>sex',</td>\n",
       "      <td>struggling</td>\n",
       "      <td>crush</td>\n",
       "      <td>classes</td>\n",
       "    </tr>\n",
       "    <tr>\n",
       "      <th>3</th>\n",
       "      <td>scared</td>\n",
       "      <td>personally</td>\n",
       "      <td>healthy</td>\n",
       "      <td>month</td>\n",
       "      <td>quarter</td>\n",
       "    </tr>\n",
       "    <tr>\n",
       "      <th>4</th>\n",
       "      <td>insecure</td>\n",
       "      <td>before',</td>\n",
       "      <td>horny</td>\n",
       "      <td>dream</td>\n",
       "      <td>winter</td>\n",
       "    </tr>\n",
       "    <tr>\n",
       "      <th>5</th>\n",
       "      <td>honestly</td>\n",
       "      <td>person',</td>\n",
       "      <td>lol',</td>\n",
       "      <td>girlfriend</td>\n",
       "      <td>college</td>\n",
       "    </tr>\n",
       "    <tr>\n",
       "      <th>6</th>\n",
       "      <td>awkward</td>\n",
       "      <td>honest</td>\n",
       "      <td>missing</td>\n",
       "      <td>bf</td>\n",
       "      <td>middle</td>\n",
       "    </tr>\n",
       "    <tr>\n",
       "      <th>7</th>\n",
       "      <td>depressed</td>\n",
       "      <td>friend',</td>\n",
       "      <td>extremely</td>\n",
       "      <td>year</td>\n",
       "      <td>year</td>\n",
       "    </tr>\n",
       "    <tr>\n",
       "      <th>8</th>\n",
       "      <td>nervous</td>\n",
       "      <td>special</td>\n",
       "      <td>personally</td>\n",
       "      <td>bit</td>\n",
       "      <td>last</td>\n",
       "    </tr>\n",
       "    <tr>\n",
       "      <th>9</th>\n",
       "      <td>feeling</td>\n",
       "      <td>suicide</td>\n",
       "      <td>constantly</td>\n",
       "      <td>fwb</td>\n",
       "      <td>four</td>\n",
       "    </tr>\n",
       "  </tbody>\n",
       "</table>\n",
       "</div>"
      ],
      "text/plain": [
       "         sad     serious    stressed relationship    school\n",
       "0        bad         fwb        busy     recently      high\n",
       "1      happy        on',     nervous    boyfriend  school',\n",
       "2    worried       sex',  struggling        crush   classes\n",
       "3     scared  personally     healthy        month   quarter\n",
       "4   insecure    before',       horny        dream    winter\n",
       "5   honestly    person',       lol',   girlfriend   college\n",
       "6    awkward      honest     missing           bf    middle\n",
       "7  depressed    friend',   extremely         year      year\n",
       "8    nervous     special  personally          bit      last\n",
       "9    feeling     suicide  constantly          fwb      four"
      ]
     },
     "execution_count": 132,
     "metadata": {},
     "output_type": "execute_result"
    }
   ],
   "source": [
    "pd.concat(tables, axis=1)\n"
   ]
  },
  {
   "cell_type": "code",
   "execution_count": null,
   "metadata": {},
   "outputs": [],
   "source": []
  },
  {
   "cell_type": "code",
   "execution_count": null,
   "metadata": {},
   "outputs": [],
   "source": []
  },
  {
   "cell_type": "code",
   "execution_count": null,
   "metadata": {},
   "outputs": [],
   "source": []
  },
  {
   "cell_type": "code",
   "execution_count": null,
   "metadata": {},
   "outputs": [],
   "source": []
  },
  {
   "cell_type": "code",
   "execution_count": null,
   "metadata": {},
   "outputs": [],
   "source": []
  },
  {
   "cell_type": "code",
   "execution_count": null,
   "metadata": {},
   "outputs": [],
   "source": []
  }
 ],
 "metadata": {
  "kernelspec": {
   "display_name": "Python 3",
   "language": "python",
   "name": "python3"
  },
  "language_info": {
   "codemirror_mode": {
    "name": "ipython",
    "version": 3
   },
   "file_extension": ".py",
   "mimetype": "text/x-python",
   "name": "python",
   "nbconvert_exporter": "python",
   "pygments_lexer": "ipython3",
   "version": "3.7.1"
  }
 },
 "nbformat": 4,
 "nbformat_minor": 2
}
