{
 "cells": [
  {
   "cell_type": "markdown",
   "metadata": {},
   "source": [
    "## Import Modules"
   ]
  },
  {
   "cell_type": "code",
   "execution_count": 1,
   "metadata": {},
   "outputs": [],
   "source": [
    "import nltk\n",
    "import random\n",
    "from nltk.classify.scikitlearn import SklearnClassifier\n",
    "import pickle\n",
    "from sklearn.naive_bayes import MultinomialNB, BernoulliNB\n",
    "from sklearn.linear_model import LogisticRegression, SGDClassifier\n",
    "from sklearn.svm import SVC, LinearSVC, NuSVC\n",
    "from nltk.classify import ClassifierI\n",
    "from statistics import mode\n",
    "from nltk.tokenize import word_tokenize\n",
    "import re\n",
    "import os\n",
    "\n",
    "import csv\n",
    "import pandas as pd\n",
    "import numpy as np"
   ]
  },
  {
   "cell_type": "code",
   "execution_count": 2,
   "metadata": {},
   "outputs": [],
   "source": [
    "%matplotlib inline\n",
    "\n",
    "import nltk.data;\n",
    "from gensim.models import word2vec;\n",
    "from sklearn.cluster import KMeans;\n",
    "from sklearn.neighbors import KDTree;\n",
    "import pandas as pd;\n",
    "import numpy as np;\n",
    "import os;\n",
    "import re;\n",
    "import logging;\n",
    "import sqlite3;\n",
    "import time;\n",
    "import sys;\n",
    "import multiprocessing;\n",
    "from wordcloud import WordCloud, ImageColorGenerator\n",
    "import matplotlib.pyplot as plt;\n",
    "from itertools import cycle;"
   ]
  },
  {
   "cell_type": "code",
   "execution_count": 3,
   "metadata": {},
   "outputs": [],
   "source": [
    "# !pip install wordcloud"
   ]
  },
  {
   "cell_type": "code",
   "execution_count": 4,
   "metadata": {},
   "outputs": [
    {
     "name": "stderr",
     "output_type": "stream",
     "text": [
      "[nltk_data] Downloading package opinion_lexicon to\n",
      "[nltk_data]     /Users/tyler/nltk_data...\n",
      "[nltk_data]   Package opinion_lexicon is already up-to-date!\n",
      "[nltk_data] Downloading package stopwords to /Users/tyler/nltk_data...\n",
      "[nltk_data]   Package stopwords is already up-to-date!\n",
      "[nltk_data] Downloading package punkt to /Users/tyler/nltk_data...\n",
      "[nltk_data]   Package punkt is already up-to-date!\n",
      "[nltk_data] Downloading package averaged_perceptron_tagger to\n",
      "[nltk_data]     /Users/tyler/nltk_data...\n",
      "[nltk_data]   Package averaged_perceptron_tagger is already up-to-\n",
      "[nltk_data]       date!\n"
     ]
    }
   ],
   "source": [
    "from nltk.corpus.reader import WordListCorpusReader\n",
    "from nltk.corpus.reader.api import *\n",
    "nltk.download('opinion_lexicon')\n",
    "nltk.download('stopwords')\n",
    "nltk.download('punkt')\n",
    "nltk.download('averaged_perceptron_tagger')\n",
    "from nltk.corpus import opinion_lexicon\n",
    "from nltk.corpus import stopwords"
   ]
  },
  {
   "cell_type": "code",
   "execution_count": 5,
   "metadata": {},
   "outputs": [],
   "source": [
    "from tqdm import tqdm\n",
    "import numpy as np\n",
    "from collections import defaultdict"
   ]
  },
  {
   "cell_type": "code",
   "execution_count": null,
   "metadata": {},
   "outputs": [],
   "source": []
  },
  {
   "cell_type": "markdown",
   "metadata": {},
   "source": [
    "# load lexicons"
   ]
  },
  {
   "cell_type": "code",
   "execution_count": 6,
   "metadata": {},
   "outputs": [],
   "source": [
    "#helper function \n",
    "def txt_to_csv(txt_file,new_csv_file, header=int):\n",
    "    # use 'with' if the program isn't going to immediately terminate\n",
    "    # so you don't leave files open\n",
    "    # the 'b' is necessary on Windows\n",
    "    # it prevents \\x1a, Ctrl-z, from ending the stream prematurely\n",
    "    # and also stops Python converting to / from different line terminators\n",
    "    # On other platforms, it has no effect\n",
    "    in_txt = csv.reader(open(txt_file, \"r\"), delimiter = '\\t')\n",
    "    out_csv = csv.writer(open(new_csv_file, 'w'))\n",
    "\n",
    "    out_csv.writerows(in_txt)\n",
    "    \n",
    "    lex_csv = pd.read_csv(str(new_csv_file),header=header)\n",
    "    \n",
    "    return lex_csv"
   ]
  },
  {
   "cell_type": "code",
   "execution_count": 7,
   "metadata": {},
   "outputs": [],
   "source": [
    "#setup vars for VAD lexicon load\n",
    "vad_text_file = r\"./data/NRC-VAD-Lexicon.txt\"\n",
    "vad_csv_file = r\"vad_lex.csv\""
   ]
  },
  {
   "cell_type": "code",
   "execution_count": 8,
   "metadata": {},
   "outputs": [],
   "source": [
    "vad_lex = txt_to_csv(vad_text_file, vad_csv_file, header=0)"
   ]
  },
  {
   "cell_type": "code",
   "execution_count": 9,
   "metadata": {},
   "outputs": [
    {
     "data": {
      "text/html": [
       "<div>\n",
       "<style scoped>\n",
       "    .dataframe tbody tr th:only-of-type {\n",
       "        vertical-align: middle;\n",
       "    }\n",
       "\n",
       "    .dataframe tbody tr th {\n",
       "        vertical-align: top;\n",
       "    }\n",
       "\n",
       "    .dataframe thead th {\n",
       "        text-align: right;\n",
       "    }\n",
       "</style>\n",
       "<table border=\"1\" class=\"dataframe\">\n",
       "  <thead>\n",
       "    <tr style=\"text-align: right;\">\n",
       "      <th></th>\n",
       "      <th>Word</th>\n",
       "      <th>Valence</th>\n",
       "      <th>Arousal</th>\n",
       "      <th>Dominance</th>\n",
       "    </tr>\n",
       "  </thead>\n",
       "  <tbody>\n",
       "    <tr>\n",
       "      <th>0</th>\n",
       "      <td>aaaaaaah</td>\n",
       "      <td>0.479</td>\n",
       "      <td>0.606</td>\n",
       "      <td>0.291</td>\n",
       "    </tr>\n",
       "    <tr>\n",
       "      <th>1</th>\n",
       "      <td>aaaah</td>\n",
       "      <td>0.520</td>\n",
       "      <td>0.636</td>\n",
       "      <td>0.282</td>\n",
       "    </tr>\n",
       "    <tr>\n",
       "      <th>2</th>\n",
       "      <td>aardvark</td>\n",
       "      <td>0.427</td>\n",
       "      <td>0.490</td>\n",
       "      <td>0.437</td>\n",
       "    </tr>\n",
       "    <tr>\n",
       "      <th>3</th>\n",
       "      <td>aback</td>\n",
       "      <td>0.385</td>\n",
       "      <td>0.407</td>\n",
       "      <td>0.288</td>\n",
       "    </tr>\n",
       "    <tr>\n",
       "      <th>4</th>\n",
       "      <td>abacus</td>\n",
       "      <td>0.510</td>\n",
       "      <td>0.276</td>\n",
       "      <td>0.485</td>\n",
       "    </tr>\n",
       "  </tbody>\n",
       "</table>\n",
       "</div>"
      ],
      "text/plain": [
       "       Word  Valence  Arousal  Dominance\n",
       "0  aaaaaaah    0.479    0.606      0.291\n",
       "1     aaaah    0.520    0.636      0.282\n",
       "2  aardvark    0.427    0.490      0.437\n",
       "3     aback    0.385    0.407      0.288\n",
       "4    abacus    0.510    0.276      0.485"
      ]
     },
     "execution_count": 9,
     "metadata": {},
     "output_type": "execute_result"
    }
   ],
   "source": [
    "vad_lex.head()"
   ]
  },
  {
   "cell_type": "code",
   "execution_count": 10,
   "metadata": {},
   "outputs": [],
   "source": [
    "# for i in range(len(vad_lex['Word'])):\n",
    "#     print(vad_lex['Word'][i])"
   ]
  },
  {
   "cell_type": "code",
   "execution_count": 11,
   "metadata": {},
   "outputs": [],
   "source": [
    "#nltk opinion lexicon\n",
    "pos_lex = opinion_lexicon.positive()\n",
    "neg_lex = opinion_lexicon.negative()"
   ]
  },
  {
   "cell_type": "code",
   "execution_count": null,
   "metadata": {},
   "outputs": [],
   "source": []
  },
  {
   "cell_type": "markdown",
   "metadata": {},
   "source": [
    "## load in pre-processed confessions"
   ]
  },
  {
   "cell_type": "code",
   "execution_count": 12,
   "metadata": {},
   "outputs": [],
   "source": [
    "import pandas as pd\n",
    "path = '/Users/tyler/UCSD_Wellness/analysis/data/data1.csv'\n",
    "confessions=pd.read_csv(path)"
   ]
  },
  {
   "cell_type": "code",
   "execution_count": 13,
   "metadata": {},
   "outputs": [],
   "source": [
    "# confessions.head()"
   ]
  },
  {
   "cell_type": "markdown",
   "metadata": {},
   "source": [
    "## Function for further pre-processing of confessions\n"
   ]
  },
  {
   "cell_type": "code",
   "execution_count": 14,
   "metadata": {},
   "outputs": [],
   "source": [
    "def clean_text(all_comments, out_name):\n",
    "    \n",
    "    tokenizer = nltk.data.load('tokenizers/punkt/english.pickle');\n",
    "    \n",
    "    stop_words = list(set(stopwords.words('english')))\n",
    "    \n",
    "    out_file = open(out_name, 'w');\n",
    "    \n",
    "    for pos in range(len(all_comments)):\n",
    "        \n",
    "        #Get the comment\n",
    "        val = all_comments.iloc[pos];\n",
    "        \n",
    "        #Normalize tabs and remove newlines\n",
    "        no_tabs = str(val).replace('\\t', ' ').replace('\\n', '');\n",
    "        \n",
    "        #Remove all characters except A-Z and a dot.\n",
    "        alphas_only = re.sub(\"[^a-zA-Z\\.]\", \" \", no_tabs);\n",
    "        \n",
    "        #Remove punctuation\n",
    "        no_punc = re.sub(r'[^(a-zA-Z)\\s]','', alphas_only)\n",
    "        \n",
    "        #Normalize spaces to 1\n",
    "        multi_spaces = re.sub(\" +\", \" \", no_punc);\n",
    "        \n",
    "        #Strip trailing and leading spaces\n",
    "        no_spaces = multi_spaces.strip();\n",
    "        \n",
    "        #Normalize all charachters to lowercase\n",
    "        clean_text = no_spaces.lower();\n",
    "        \n",
    "        #Get sentences from the tokenizer, remove the dot in each.\n",
    "        sentences = tokenizer.tokenize(clean_text);\n",
    "        \n",
    "        stopped = [w for w in sentences if not w in stop_words]\n",
    "        \n",
    "        sentences = [re.sub(\"[\\.]\", \"\", sentence) for sentence in sentences];\n",
    "        \n",
    "        #If the text has more than one space (removing single word comments) and one character, write it to the file.\n",
    "        out_file.write(\"%s\\n\" % sentences)\n",
    "                \n",
    "                \n",
    "        #Simple logging. At every 50000th step,\n",
    "        #print the total number of rows processed and time taken so far, and flush the file.\n",
    "#         if pos % 50000 == 0:\n",
    "#             total_time = time.time() - start;\n",
    "# #             sys.stdout.write('Completed ' + str(round(100 * (pos / total_rows), 2)) + '% - ' + str(pos) + ' rows in time ' + str(round(total_time / 60, 0)) + ' min & ' + str(round(total_time % 60, 2)) + ' secs\\r');\n",
    "#             out_file.flush();\n",
    "#             break;\n",
    "        \n",
    "    out_file.close();"
   ]
  },
  {
   "cell_type": "markdown",
   "metadata": {},
   "source": [
    "## Add date-time info to original confessions dataframe"
   ]
  },
  {
   "cell_type": "code",
   "execution_count": 15,
   "metadata": {},
   "outputs": [
    {
     "data": {
      "text/html": [
       "<div>\n",
       "<style scoped>\n",
       "    .dataframe tbody tr th:only-of-type {\n",
       "        vertical-align: middle;\n",
       "    }\n",
       "\n",
       "    .dataframe tbody tr th {\n",
       "        vertical-align: top;\n",
       "    }\n",
       "\n",
       "    .dataframe thead th {\n",
       "        text-align: right;\n",
       "    }\n",
       "</style>\n",
       "<table border=\"1\" class=\"dataframe\">\n",
       "  <thead>\n",
       "    <tr style=\"text-align: right;\">\n",
       "      <th></th>\n",
       "      <th>id</th>\n",
       "      <th>timestamp</th>\n",
       "      <th>content</th>\n",
       "      <th>contact</th>\n",
       "      <th>tags</th>\n",
       "      <th>note</th>\n",
       "      <th>weekday</th>\n",
       "    </tr>\n",
       "  </thead>\n",
       "  <tbody>\n",
       "    <tr>\n",
       "      <th>0</th>\n",
       "      <td>14442</td>\n",
       "      <td>2019-10-12 17:05:24</td>\n",
       "      <td>I’m super excited for homecoming next weekend ...</td>\n",
       "      <td>NaN</td>\n",
       "      <td>NaN</td>\n",
       "      <td>NaN</td>\n",
       "      <td>Sat</td>\n",
       "    </tr>\n",
       "    <tr>\n",
       "      <th>1</th>\n",
       "      <td>14441</td>\n",
       "      <td>2019-10-12 13:22:03</td>\n",
       "      <td>If I never met you, I would never have gotten ...</td>\n",
       "      <td>NaN</td>\n",
       "      <td>serious</td>\n",
       "      <td>NaN</td>\n",
       "      <td>Sat</td>\n",
       "    </tr>\n",
       "    <tr>\n",
       "      <th>2</th>\n",
       "      <td>14440</td>\n",
       "      <td>2019-10-11 17:03:50</td>\n",
       "      <td>There is an abnormal amount of hot girls that ...</td>\n",
       "      <td>NaN</td>\n",
       "      <td>NaN</td>\n",
       "      <td>NaN</td>\n",
       "      <td>Fri</td>\n",
       "    </tr>\n",
       "    <tr>\n",
       "      <th>3</th>\n",
       "      <td>14439</td>\n",
       "      <td>2019-10-11 15:58:00</td>\n",
       "      <td>Just out of curiosity, on a scale of one to te...</td>\n",
       "      <td>NaN</td>\n",
       "      <td>NaN</td>\n",
       "      <td>NaN</td>\n",
       "      <td>Fri</td>\n",
       "    </tr>\n",
       "    <tr>\n",
       "      <th>4</th>\n",
       "      <td>14438</td>\n",
       "      <td>2019-10-10 19:10:20</td>\n",
       "      <td>To the person who was playing the trumpet outs...</td>\n",
       "      <td>NaN</td>\n",
       "      <td>wholesome</td>\n",
       "      <td>NaN</td>\n",
       "      <td>Thu</td>\n",
       "    </tr>\n",
       "  </tbody>\n",
       "</table>\n",
       "</div>"
      ],
      "text/plain": [
       "      id           timestamp  \\\n",
       "0  14442 2019-10-12 17:05:24   \n",
       "1  14441 2019-10-12 13:22:03   \n",
       "2  14440 2019-10-11 17:03:50   \n",
       "3  14439 2019-10-11 15:58:00   \n",
       "4  14438 2019-10-10 19:10:20   \n",
       "\n",
       "                                             content contact       tags note  \\\n",
       "0  I’m super excited for homecoming next weekend ...     NaN        NaN  NaN   \n",
       "1  If I never met you, I would never have gotten ...     NaN    serious  NaN   \n",
       "2  There is an abnormal amount of hot girls that ...     NaN        NaN  NaN   \n",
       "3  Just out of curiosity, on a scale of one to te...     NaN        NaN  NaN   \n",
       "4  To the person who was playing the trumpet outs...     NaN  wholesome  NaN   \n",
       "\n",
       "  weekday  \n",
       "0     Sat  \n",
       "1     Sat  \n",
       "2     Fri  \n",
       "3     Fri  \n",
       "4     Thu  "
      ]
     },
     "execution_count": 15,
     "metadata": {},
     "output_type": "execute_result"
    }
   ],
   "source": [
    "confessions['timestamp']=pd.to_datetime(confessions.timestamp)\n",
    "confessions['weekday']=confessions.timestamp.dt.strftime('%a')\n",
    "confessions['weekday']=pd.Categorical(confessions['weekday'],categories=['Mon','Tue','Wed','Thu','Fri','Sat','Sun'],ordered=True)\n",
    "\n",
    "confessions.head()"
   ]
  },
  {
   "cell_type": "code",
   "execution_count": 16,
   "metadata": {},
   "outputs": [
    {
     "name": "stdout",
     "output_type": "stream",
     "text": [
      "Total time: 0.7964329719543457 secs\n"
     ]
    }
   ],
   "source": [
    "start = time.time();\n",
    "clean_comments = clean_text(confessions['content'], './data/extra_clean_comments.txt')\n",
    "print('Total time: ' + str((time.time() - start)) + ' secs')"
   ]
  },
  {
   "cell_type": "code",
   "execution_count": 17,
   "metadata": {},
   "outputs": [],
   "source": [
    "extra_clean_txt_file = r\"./data/extra_clean_comments.txt\"\n",
    "extra_clean_csv_file = r\"extra_clean_comments.csv\""
   ]
  },
  {
   "cell_type": "code",
   "execution_count": 18,
   "metadata": {},
   "outputs": [],
   "source": [
    "clean_confessions = txt_to_csv(extra_clean_txt_file, extra_clean_csv_file, header=None)\n",
    "# print(clean_comments)\n",
    "clean_content = clean_confessions[0].tolist()\n",
    "# len(clean_content)"
   ]
  },
  {
   "cell_type": "markdown",
   "metadata": {},
   "source": [
    "## Construct Various Sentiment Scoring Dictionaries"
   ]
  },
  {
   "cell_type": "markdown",
   "metadata": {},
   "source": [
    "### nltk opinion positive/negative lexicon\n",
    "\n",
    "#### This takes a long time to compute, so saved & loaded as a pkl file."
   ]
  },
  {
   "cell_type": "code",
   "execution_count": 19,
   "metadata": {},
   "outputs": [],
   "source": [
    "# pn_lex_score = defaultdict(int)\n",
    "# for i,note in tqdm(enumerate(clean_content)):\n",
    "#     pn_lex_score[i] = np.array([0.,0.])\n",
    "#     note = re.sub(\"[^\\w]\", \" \",  note).split()\n",
    "#     for word in note:\n",
    "#         if word in pos_lex:\n",
    "#             pn_lex_score[i] += np.array([1.,0.])\n",
    "#         elif word in neg_lex:\n",
    "#             pn_lex_score[i] += np.array([0.,1.])"
   ]
  },
  {
   "cell_type": "code",
   "execution_count": 20,
   "metadata": {},
   "outputs": [],
   "source": [
    "# output = open('pn_lex_score.pkl', 'wb')\n",
    "# pickle.dump(pn_lex_score, output)\n",
    "# output.close()"
   ]
  },
  {
   "cell_type": "code",
   "execution_count": 21,
   "metadata": {},
   "outputs": [],
   "source": [
    "pkl_file = open('pn_lex_score.pkl', 'rb')\n",
    "pn_lex_score = pickle.load(pkl_file)\n",
    "pkl_file.close()"
   ]
  },
  {
   "cell_type": "code",
   "execution_count": 22,
   "metadata": {},
   "outputs": [],
   "source": [
    "temp = pd.DataFrame.from_dict(pn_lex_score, orient='index', columns=['#POS', '#NEG'])\n",
    "new_1 = pd.concat([confessions,temp],axis=1)"
   ]
  },
  {
   "cell_type": "markdown",
   "metadata": {},
   "source": [
    "### NRC VAD Lexicon"
   ]
  },
  {
   "cell_type": "code",
   "execution_count": 23,
   "metadata": {},
   "outputs": [],
   "source": [
    "# #NRC VAD lexicon\n",
    "# all_VAD_scores = defaultdict(int)\n",
    "# # clean_content = clean_comments[0].tolist()\n",
    "# for i,note in tqdm(enumerate(clean_content)):\n",
    "#     all_VAD_scores[i] = np.array([0.,0.,0.])\n",
    "#     note = re.sub(\"[^\\w]\", \" \",  note).split()\n",
    "#     for word in note:\n",
    "#         if word in list(vad_lex['Word']):\n",
    "#             all_VAD_scores[i] += np.array([vad_lex['Valence'][i],vad_lex['Arousal'][i],vad_lex['Dominance'][i]])"
   ]
  },
  {
   "cell_type": "code",
   "execution_count": 24,
   "metadata": {},
   "outputs": [],
   "source": [
    "# output = open('all_VAD_scores.pkl', 'wb')\n",
    "# pickle.dump(all_VAD_scores, output)\n",
    "# output.close()"
   ]
  },
  {
   "cell_type": "code",
   "execution_count": 25,
   "metadata": {},
   "outputs": [],
   "source": [
    "pkl_file = open('all_VAD_scores.pkl', 'rb')\n",
    "all_VAD_scores = pickle.load(pkl_file)\n",
    "pkl_file.close()"
   ]
  },
  {
   "cell_type": "code",
   "execution_count": 26,
   "metadata": {},
   "outputs": [],
   "source": [
    "# all_VAD_scores"
   ]
  },
  {
   "cell_type": "code",
   "execution_count": 27,
   "metadata": {},
   "outputs": [],
   "source": [
    "# test = confessions"
   ]
  },
  {
   "cell_type": "code",
   "execution_count": 28,
   "metadata": {},
   "outputs": [],
   "source": [
    "temp_VAD = pd.DataFrame.from_dict(all_VAD_scores, orient='index', columns=['Valence','Arousal','Dominance'])"
   ]
  },
  {
   "cell_type": "code",
   "execution_count": 29,
   "metadata": {},
   "outputs": [],
   "source": [
    "new = pd.concat([new_1,temp_VAD],axis=1)"
   ]
  },
  {
   "cell_type": "code",
   "execution_count": 30,
   "metadata": {},
   "outputs": [
    {
     "data": {
      "text/html": [
       "<div>\n",
       "<style scoped>\n",
       "    .dataframe tbody tr th:only-of-type {\n",
       "        vertical-align: middle;\n",
       "    }\n",
       "\n",
       "    .dataframe tbody tr th {\n",
       "        vertical-align: top;\n",
       "    }\n",
       "\n",
       "    .dataframe thead th {\n",
       "        text-align: right;\n",
       "    }\n",
       "</style>\n",
       "<table border=\"1\" class=\"dataframe\">\n",
       "  <thead>\n",
       "    <tr style=\"text-align: right;\">\n",
       "      <th></th>\n",
       "      <th>id</th>\n",
       "      <th>timestamp</th>\n",
       "      <th>content</th>\n",
       "      <th>contact</th>\n",
       "      <th>tags</th>\n",
       "      <th>note</th>\n",
       "      <th>weekday</th>\n",
       "      <th>#POS</th>\n",
       "      <th>#NEG</th>\n",
       "      <th>Valence</th>\n",
       "      <th>Arousal</th>\n",
       "      <th>Dominance</th>\n",
       "    </tr>\n",
       "  </thead>\n",
       "  <tbody>\n",
       "    <tr>\n",
       "      <th>0</th>\n",
       "      <td>14442</td>\n",
       "      <td>2019-10-12 17:05:24</td>\n",
       "      <td>I’m super excited for homecoming next weekend ...</td>\n",
       "      <td>NaN</td>\n",
       "      <td>NaN</td>\n",
       "      <td>NaN</td>\n",
       "      <td>Sat</td>\n",
       "      <td>6.0</td>\n",
       "      <td>1.0</td>\n",
       "      <td>12.933</td>\n",
       "      <td>16.362</td>\n",
       "      <td>7.857</td>\n",
       "    </tr>\n",
       "    <tr>\n",
       "      <th>1</th>\n",
       "      <td>14441</td>\n",
       "      <td>2019-10-12 13:22:03</td>\n",
       "      <td>If I never met you, I would never have gotten ...</td>\n",
       "      <td>NaN</td>\n",
       "      <td>serious</td>\n",
       "      <td>NaN</td>\n",
       "      <td>Sat</td>\n",
       "      <td>4.0</td>\n",
       "      <td>6.0</td>\n",
       "      <td>28.600</td>\n",
       "      <td>34.980</td>\n",
       "      <td>15.510</td>\n",
       "    </tr>\n",
       "    <tr>\n",
       "      <th>2</th>\n",
       "      <td>14440</td>\n",
       "      <td>2019-10-11 17:03:50</td>\n",
       "      <td>There is an abnormal amount of hot girls that ...</td>\n",
       "      <td>NaN</td>\n",
       "      <td>NaN</td>\n",
       "      <td>NaN</td>\n",
       "      <td>Fri</td>\n",
       "      <td>3.0</td>\n",
       "      <td>1.0</td>\n",
       "      <td>4.270</td>\n",
       "      <td>4.900</td>\n",
       "      <td>4.370</td>\n",
       "    </tr>\n",
       "    <tr>\n",
       "      <th>3</th>\n",
       "      <td>14439</td>\n",
       "      <td>2019-10-11 15:58:00</td>\n",
       "      <td>Just out of curiosity, on a scale of one to te...</td>\n",
       "      <td>NaN</td>\n",
       "      <td>NaN</td>\n",
       "      <td>NaN</td>\n",
       "      <td>Fri</td>\n",
       "      <td>0.0</td>\n",
       "      <td>0.0</td>\n",
       "      <td>3.080</td>\n",
       "      <td>3.256</td>\n",
       "      <td>2.304</td>\n",
       "    </tr>\n",
       "    <tr>\n",
       "      <th>4</th>\n",
       "      <td>14438</td>\n",
       "      <td>2019-10-10 19:10:20</td>\n",
       "      <td>To the person who was playing the trumpet outs...</td>\n",
       "      <td>NaN</td>\n",
       "      <td>wholesome</td>\n",
       "      <td>NaN</td>\n",
       "      <td>Thu</td>\n",
       "      <td>3.0</td>\n",
       "      <td>0.0</td>\n",
       "      <td>5.610</td>\n",
       "      <td>3.036</td>\n",
       "      <td>5.335</td>\n",
       "    </tr>\n",
       "  </tbody>\n",
       "</table>\n",
       "</div>"
      ],
      "text/plain": [
       "      id           timestamp  \\\n",
       "0  14442 2019-10-12 17:05:24   \n",
       "1  14441 2019-10-12 13:22:03   \n",
       "2  14440 2019-10-11 17:03:50   \n",
       "3  14439 2019-10-11 15:58:00   \n",
       "4  14438 2019-10-10 19:10:20   \n",
       "\n",
       "                                             content contact       tags note  \\\n",
       "0  I’m super excited for homecoming next weekend ...     NaN        NaN  NaN   \n",
       "1  If I never met you, I would never have gotten ...     NaN    serious  NaN   \n",
       "2  There is an abnormal amount of hot girls that ...     NaN        NaN  NaN   \n",
       "3  Just out of curiosity, on a scale of one to te...     NaN        NaN  NaN   \n",
       "4  To the person who was playing the trumpet outs...     NaN  wholesome  NaN   \n",
       "\n",
       "  weekday  #POS  #NEG  Valence  Arousal  Dominance  \n",
       "0     Sat   6.0   1.0   12.933   16.362      7.857  \n",
       "1     Sat   4.0   6.0   28.600   34.980     15.510  \n",
       "2     Fri   3.0   1.0    4.270    4.900      4.370  \n",
       "3     Fri   0.0   0.0    3.080    3.256      2.304  \n",
       "4     Thu   3.0   0.0    5.610    3.036      5.335  "
      ]
     },
     "execution_count": 30,
     "metadata": {},
     "output_type": "execute_result"
    }
   ],
   "source": [
    "new.head()"
   ]
  },
  {
   "cell_type": "markdown",
   "metadata": {},
   "source": [
    "# Graphing VAD frequency across weekday"
   ]
  },
  {
   "cell_type": "code",
   "execution_count": 31,
   "metadata": {},
   "outputs": [],
   "source": [
    "# calculate total scores and counts\n",
    "weekday_valence_sum=new.groupby('weekday')['Valence'].sum()\n",
    "weekday_valence_count=new.groupby('weekday')['Valence'].count()\n",
    "valence = weekday_valence_sum/weekday_valence_count\n",
    "\n",
    "weekday_arousal_sum=new.groupby('weekday')['Arousal'].sum()\n",
    "weekday_arousal_count=new.groupby('weekday')['Arousal'].count()\n",
    "arousal = weekday_arousal_sum/weekday_arousal_count\n",
    "\n",
    "weekday_dominance_sum=new.groupby('weekday')['Dominance'].sum()\n",
    "weekday_dominance_count=new.groupby('weekday')['Dominance'].count()\n",
    "dominance = weekday_dominance_sum/weekday_dominance_count\n",
    "\n"
   ]
  },
  {
   "cell_type": "code",
   "execution_count": 32,
   "metadata": {},
   "outputs": [
    {
     "data": {
      "image/png": "[encoded data removed]",
      "text/plain": [
       "<Figure size 432x288 with 1 Axes>"
      ]
     },
     "metadata": {
      "needs_background": "light"
     },
     "output_type": "display_data"
    }
   ],
   "source": [
    "fig, ax = plt.subplots()\n",
    "index = np.arange(7)\n",
    "bar_width =0.5\n",
    "w = 0.35\n",
    "ax.bar(index-w, valence.values-10, width=w, color='b', align='center',label=\"Valence\")\n",
    "ax.bar(index, arousal.values-10, width=w, color='g', align='center', label=\"Arousal\")\n",
    "ax.bar(index+w, dominance.values-10, width=w, color='r', align='center', label=\"Dominance\")\n",
    "# ax.bar(list(weekday_distri.index))\n",
    "# plt.bar(index, weekday_valence.values)\n",
    "# plt.bar(index+bar_width, weekday_arousal.values)\n",
    "# plt.bar(index+bar_width*2, weekday_dominance.values)\n",
    "# ax.set(xlabel='weekday', ylabel='VAD score')\n",
    "ax.grid(False)\n",
    "plt.ylabel(\"VAD Scores (normalized)\")\n",
    "plt.xlabel(\"Day of the Week\")\n",
    "plt.xticks(index,list(weekday_valence_sum.index))\n",
    "plt.legend()\n",
    "plt.title('Valence, Arousal, and Dominance over typical Week ')\n",
    "fig.savefig(\"weekday.png\")\n",
    "plt.show()"
   ]
  },
  {
   "cell_type": "code",
   "execution_count": null,
   "metadata": {},
   "outputs": [],
   "source": []
  },
  {
   "cell_type": "markdown",
   "metadata": {},
   "source": [
    "# NLTK Polarity Analysis"
   ]
  },
  {
   "cell_type": "code",
   "execution_count": 33,
   "metadata": {},
   "outputs": [],
   "source": [
    "from nltk.sentiment.vader import SentimentIntensityAnalyzer"
   ]
  },
  {
   "cell_type": "code",
   "execution_count": 34,
   "metadata": {},
   "outputs": [
    {
     "name": "stdout",
     "output_type": "stream",
     "text": [
      "Like you, I am getting very frustrated with this process. I am genuinely trying to be as reasonable as possible. I am not trying to \"hold up\" the deal at the last minute. I'm afraid that I am being asked to take a fairly large leap of faith after this company (I don't mean the two of you -- I mean Enron) has screwed me and the people who work for me.\n",
      "compound: -0.3804, neg: 0.093, neu: 0.836, pos: 0.071, "
     ]
    }
   ],
   "source": [
    "# next, we initialize VADER so we can use it within our Python script\n",
    "sid = SentimentIntensityAnalyzer()\n",
    "\n",
    "# the variable 'message_text' now contains the text we will analyze.\n",
    "message_text = '''Like you, I am getting very frustrated with this process. I am genuinely trying to be as reasonable as possible. I am not trying to \"hold up\" the deal at the last minute. I'm afraid that I am being asked to take a fairly large leap of faith after this company (I don't mean the two of you -- I mean Enron) has screwed me and the people who work for me.'''\n",
    "\n",
    "print(message_text)\n",
    "\n",
    "# Calling the polarity_scores method on sid and passing in the message_text outputs a dictionary with negative, neutral, positive, and compound scores for the input text\n",
    "scores = sid.polarity_scores(message_text)\n",
    "\n",
    "# Here we loop through the keys contained in scores (pos, neu, neg, and compound scores) and print the key-value pairs on the screen\n",
    "\n",
    "for key in sorted(scores):\n",
    "        print('{0}: {1}, '.format(key, scores[key]), end='')"
   ]
  },
  {
   "cell_type": "code",
   "execution_count": 35,
   "metadata": {},
   "outputs": [],
   "source": [
    "# # next, we initialize VADER so we can use it within our Python script\n",
    "# sid = SentimentIntensityAnalyzer()\n",
    "\n",
    "# all_nltk_vader_scores = defaultdict(int)\n",
    "# # clean_content = clean_comments[0].tolist()\n",
    "# for i,note in tqdm(enumerate(clean_content)):\n",
    "#     scores = sid.polarity_scores(note)\n",
    "#     all_nltk_vader_scores[i] = np.array([scores['neg'],scores['neu'],scores['pos'],scores['compound']])\n",
    "    "
   ]
  },
  {
   "cell_type": "code",
   "execution_count": 36,
   "metadata": {},
   "outputs": [],
   "source": [
    "# output = open('all_nltk_vader_scores.pkl', 'wb')\n",
    "# pickle.dump(all_nltk_vader_scores, output)\n",
    "# output.close()"
   ]
  },
  {
   "cell_type": "code",
   "execution_count": 37,
   "metadata": {},
   "outputs": [],
   "source": [
    "pkl_file = open('all_nltk_vader_scores.pkl', 'rb')\n",
    "all_nltk_vader_scores = pickle.load(pkl_file)\n",
    "pkl_file.close()"
   ]
  },
  {
   "cell_type": "code",
   "execution_count": 38,
   "metadata": {},
   "outputs": [],
   "source": [
    "nltk_vader = pd.DataFrame.from_dict(all_nltk_vader_scores, orient='index', columns=['neg','neu','pos','compound'])\n",
    "nltk_vader.head()\n",
    "df = pd.concat([new,nltk_vader],axis=1)"
   ]
  },
  {
   "cell_type": "code",
   "execution_count": 39,
   "metadata": {},
   "outputs": [
    {
     "data": {
      "text/html": [
       "<div>\n",
       "<style scoped>\n",
       "    .dataframe tbody tr th:only-of-type {\n",
       "        vertical-align: middle;\n",
       "    }\n",
       "\n",
       "    .dataframe tbody tr th {\n",
       "        vertical-align: top;\n",
       "    }\n",
       "\n",
       "    .dataframe thead th {\n",
       "        text-align: right;\n",
       "    }\n",
       "</style>\n",
       "<table border=\"1\" class=\"dataframe\">\n",
       "  <thead>\n",
       "    <tr style=\"text-align: right;\">\n",
       "      <th></th>\n",
       "      <th>id</th>\n",
       "      <th>timestamp</th>\n",
       "      <th>content</th>\n",
       "      <th>contact</th>\n",
       "      <th>tags</th>\n",
       "      <th>note</th>\n",
       "      <th>weekday</th>\n",
       "      <th>#POS</th>\n",
       "      <th>#NEG</th>\n",
       "      <th>Valence</th>\n",
       "      <th>Arousal</th>\n",
       "      <th>Dominance</th>\n",
       "      <th>neg</th>\n",
       "      <th>neu</th>\n",
       "      <th>pos</th>\n",
       "      <th>compound</th>\n",
       "      <th>hour</th>\n",
       "    </tr>\n",
       "  </thead>\n",
       "  <tbody>\n",
       "    <tr>\n",
       "      <th>0</th>\n",
       "      <td>14442</td>\n",
       "      <td>2019-10-12 17:05:24</td>\n",
       "      <td>I’m super excited for homecoming next weekend ...</td>\n",
       "      <td>NaN</td>\n",
       "      <td>NaN</td>\n",
       "      <td>NaN</td>\n",
       "      <td>Sat</td>\n",
       "      <td>6.0</td>\n",
       "      <td>1.0</td>\n",
       "      <td>12.933</td>\n",
       "      <td>16.362</td>\n",
       "      <td>7.857</td>\n",
       "      <td>0.107</td>\n",
       "      <td>0.597</td>\n",
       "      <td>0.295</td>\n",
       "      <td>0.9397</td>\n",
       "      <td>17</td>\n",
       "    </tr>\n",
       "    <tr>\n",
       "      <th>1</th>\n",
       "      <td>14441</td>\n",
       "      <td>2019-10-12 13:22:03</td>\n",
       "      <td>If I never met you, I would never have gotten ...</td>\n",
       "      <td>NaN</td>\n",
       "      <td>serious</td>\n",
       "      <td>NaN</td>\n",
       "      <td>Sat</td>\n",
       "      <td>4.0</td>\n",
       "      <td>6.0</td>\n",
       "      <td>28.600</td>\n",
       "      <td>34.980</td>\n",
       "      <td>15.510</td>\n",
       "      <td>0.103</td>\n",
       "      <td>0.754</td>\n",
       "      <td>0.143</td>\n",
       "      <td>0.8731</td>\n",
       "      <td>13</td>\n",
       "    </tr>\n",
       "    <tr>\n",
       "      <th>2</th>\n",
       "      <td>14440</td>\n",
       "      <td>2019-10-11 17:03:50</td>\n",
       "      <td>There is an abnormal amount of hot girls that ...</td>\n",
       "      <td>NaN</td>\n",
       "      <td>NaN</td>\n",
       "      <td>NaN</td>\n",
       "      <td>Fri</td>\n",
       "      <td>3.0</td>\n",
       "      <td>1.0</td>\n",
       "      <td>4.270</td>\n",
       "      <td>4.900</td>\n",
       "      <td>4.370</td>\n",
       "      <td>0.000</td>\n",
       "      <td>0.757</td>\n",
       "      <td>0.243</td>\n",
       "      <td>0.7269</td>\n",
       "      <td>17</td>\n",
       "    </tr>\n",
       "    <tr>\n",
       "      <th>3</th>\n",
       "      <td>14439</td>\n",
       "      <td>2019-10-11 15:58:00</td>\n",
       "      <td>Just out of curiosity, on a scale of one to te...</td>\n",
       "      <td>NaN</td>\n",
       "      <td>NaN</td>\n",
       "      <td>NaN</td>\n",
       "      <td>Fri</td>\n",
       "      <td>0.0</td>\n",
       "      <td>0.0</td>\n",
       "      <td>3.080</td>\n",
       "      <td>3.256</td>\n",
       "      <td>2.304</td>\n",
       "      <td>0.000</td>\n",
       "      <td>0.950</td>\n",
       "      <td>0.050</td>\n",
       "      <td>0.0258</td>\n",
       "      <td>15</td>\n",
       "    </tr>\n",
       "    <tr>\n",
       "      <th>4</th>\n",
       "      <td>14438</td>\n",
       "      <td>2019-10-10 19:10:20</td>\n",
       "      <td>To the person who was playing the trumpet outs...</td>\n",
       "      <td>NaN</td>\n",
       "      <td>wholesome</td>\n",
       "      <td>NaN</td>\n",
       "      <td>Thu</td>\n",
       "      <td>3.0</td>\n",
       "      <td>0.0</td>\n",
       "      <td>5.610</td>\n",
       "      <td>3.036</td>\n",
       "      <td>5.335</td>\n",
       "      <td>0.000</td>\n",
       "      <td>0.759</td>\n",
       "      <td>0.241</td>\n",
       "      <td>0.9072</td>\n",
       "      <td>19</td>\n",
       "    </tr>\n",
       "  </tbody>\n",
       "</table>\n",
       "</div>"
      ],
      "text/plain": [
       "      id           timestamp  \\\n",
       "0  14442 2019-10-12 17:05:24   \n",
       "1  14441 2019-10-12 13:22:03   \n",
       "2  14440 2019-10-11 17:03:50   \n",
       "3  14439 2019-10-11 15:58:00   \n",
       "4  14438 2019-10-10 19:10:20   \n",
       "\n",
       "                                             content contact       tags note  \\\n",
       "0  I’m super excited for homecoming next weekend ...     NaN        NaN  NaN   \n",
       "1  If I never met you, I would never have gotten ...     NaN    serious  NaN   \n",
       "2  There is an abnormal amount of hot girls that ...     NaN        NaN  NaN   \n",
       "3  Just out of curiosity, on a scale of one to te...     NaN        NaN  NaN   \n",
       "4  To the person who was playing the trumpet outs...     NaN  wholesome  NaN   \n",
       "\n",
       "  weekday  #POS  #NEG  Valence  Arousal  Dominance    neg    neu    pos  \\\n",
       "0     Sat   6.0   1.0   12.933   16.362      7.857  0.107  0.597  0.295   \n",
       "1     Sat   4.0   6.0   28.600   34.980     15.510  0.103  0.754  0.143   \n",
       "2     Fri   3.0   1.0    4.270    4.900      4.370  0.000  0.757  0.243   \n",
       "3     Fri   0.0   0.0    3.080    3.256      2.304  0.000  0.950  0.050   \n",
       "4     Thu   3.0   0.0    5.610    3.036      5.335  0.000  0.759  0.241   \n",
       "\n",
       "   compound hour  \n",
       "0    0.9397   17  \n",
       "1    0.8731   13  \n",
       "2    0.7269   17  \n",
       "3    0.0258   15  \n",
       "4    0.9072   19  "
      ]
     },
     "execution_count": 39,
     "metadata": {},
     "output_type": "execute_result"
    }
   ],
   "source": [
    "df['hour']=confessions.timestamp.dt.strftime('%H')\n",
    "df.head()"
   ]
  },
  {
   "cell_type": "code",
   "execution_count": 40,
   "metadata": {},
   "outputs": [],
   "source": [
    "df.to_csv(r'/Users/tyler/UCSD_Wellness/analysis/df_FULL_metrics.csv',index=False)"
   ]
  },
  {
   "cell_type": "markdown",
   "metadata": {},
   "source": [
    "## Graph Polarity Scores"
   ]
  },
  {
   "cell_type": "code",
   "execution_count": 41,
   "metadata": {},
   "outputs": [],
   "source": [
    "hour_neg_sum=df.groupby('hour')['neg'].sum()\n",
    "hour_neg_count=df.groupby('hour')['neg'].count()\n",
    "neg = hour_neg_sum/hour_neg_count\n",
    "\n",
    "hour_pos_sum=df.groupby('hour')['pos'].sum()\n",
    "hour_pos_count=df.groupby('hour')['pos'].count()\n",
    "pos = hour_pos_sum/hour_pos_count\n",
    "\n",
    "hour_neu_sum=df.groupby('hour')['neu'].sum()\n",
    "hour_neu_count=df.groupby('hour')['neu'].count()\n",
    "neu = hour_neu_sum/hour_neu_count\n",
    "\n",
    "hour_compound_sum=df.groupby('hour')['compound'].sum()\n",
    "hour_compound_count=df.groupby('hour')['compound'].count()\n",
    "compound = hour_compound_sum/hour_compound_count\n",
    "\n",
    "\n"
   ]
  },
  {
   "cell_type": "code",
   "execution_count": 42,
   "metadata": {},
   "outputs": [
    {
     "data": {
      "image/png": "[encoded data removed]",
      "text/plain": [
       "<Figure size 432x288 with 1 Axes>"
      ]
     },
     "metadata": {
      "needs_background": "light"
     },
     "output_type": "display_data"
    }
   ],
   "source": [
    "fig, ax = plt.subplots()\n",
    "index = np.arange(24)\n",
    "bar_width =0.5\n",
    "w = 0.34\n",
    "ax.bar(index+w, neg.values, width=w, color='r', align='center',label='negative')\n",
    "# ax.bar(index-(w/2), neu.values, width=w, color='y', align='center')\n",
    "ax.bar(index, compound.values, width=w, color='g', align='center',label='compound')\n",
    "ax.bar(index-w, pos.values, width=w, color='b', align='center',label='positive')\n",
    "\n",
    "# ax.bar(list(weekday_distri.index))\n",
    "ax.grid(False)\n",
    "# ax.set_xticklabels(np.arange(24))\n",
    "plt.ylabel(\"VAD Polarity Scores (normalized)\")\n",
    "plt.xlabel(\"Hour of the day\")\n",
    "plt.xticks(np.arange(0,25, step=4))\n",
    "\n",
    "# ax.grid(False)\n",
    "# plt.xticks(index,list(compound.index))\n",
    "\n",
    "plt.title('Polarity of Confessions Over 24 Hours')\n",
    "plt.legend(loc=1, prop={'size':12 })\n",
    "# plt.xticks(np.arange(12), calendar.month_name[1:13], rotation=20)\n",
    "fig.savefig(\"weekday_nltk_vader.png\")\n",
    "plt.show()"
   ]
  },
  {
   "cell_type": "markdown",
   "metadata": {},
   "source": [
    "## Filter DataFrame for detailed analysis"
   ]
  },
  {
   "cell_type": "markdown",
   "metadata": {},
   "source": [
    "### Compute statistics"
   ]
  },
  {
   "cell_type": "code",
   "execution_count": 44,
   "metadata": {},
   "outputs": [
    {
     "name": "stdout",
     "output_type": "stream",
     "text": [
      "Valence    10.798588\n",
      "dtype: float64 Arousal    11.119943\n",
      "dtype: float64 Dominance    10.946375\n",
      "dtype: float64\n"
     ]
    }
   ],
   "source": [
    "avg_valence = df[['Valence']].mean(axis=0)\n",
    "avg_arousal = df[['Arousal']].mean(axis=0)\n",
    "avg_dominance = df[['Dominance']].mean(axis=0)\n",
    "print(avg_valence,avg_arousal,avg_dominance)\n",
    "\n",
    "avg_compound = df[['compound']].mean(axis=0)\n",
    "avg_pos = df[['pos']].mean(axis=0)"
   ]
  },
  {
   "cell_type": "code",
   "execution_count": 45,
   "metadata": {},
   "outputs": [],
   "source": [
    "# df_neg = df[df['Dominance'] > avg_dominance[0]/2]\n",
    "df_FULL_neg = df[df['compound'] < 0]\n",
    "# df_neg= df_neg[df_neg['Valence'] < avg_valence[0]]\n",
    "# df_neg = df_neg[df_neg['#NEG'] > 0]"
   ]
  },
  {
   "cell_type": "code",
   "execution_count": 46,
   "metadata": {},
   "outputs": [],
   "source": [
    "df_FULL_pos = df[df['compound'] > 0.5]"
   ]
  },
  {
   "cell_type": "code",
   "execution_count": 48,
   "metadata": {},
   "outputs": [],
   "source": [
    "df_FULL_pos.to_csv(r'/Users/tyler/UCSD_Wellness/analysis/df_FULL_pos_filters.csv',index=False)"
   ]
  },
  {
   "cell_type": "code",
   "execution_count": 49,
   "metadata": {},
   "outputs": [],
   "source": [
    "# test = pd.read_csv('df_neg_filters.csv')\n",
    "# test.head()"
   ]
  },
  {
   "cell_type": "code",
   "execution_count": 50,
   "metadata": {},
   "outputs": [],
   "source": [
    "df_pos_by_compound = df[df['pos'] > avg_pos[0] ]\n",
    "df_pos= df_pos_by_compound[df_pos_by_compound['Valence'] > avg_valence[0]]\n",
    "df_pos = df_pos[df_pos['#POS'] > 3]"
   ]
  },
  {
   "cell_type": "code",
   "execution_count": 51,
   "metadata": {},
   "outputs": [
    {
     "data": {
      "text/plain": [
       "918"
      ]
     },
     "execution_count": 51,
     "metadata": {},
     "output_type": "execute_result"
    }
   ],
   "source": [
    "len(df_pos)"
   ]
  },
  {
   "cell_type": "code",
   "execution_count": 52,
   "metadata": {},
   "outputs": [],
   "source": [
    "df_pos.to_csv(r'/Users/tyler/UCSD_Wellness/analysis/df_pos_filters.csv',index=False)"
   ]
  },
  {
   "cell_type": "markdown",
   "metadata": {},
   "source": [
    "# Train Word2Vec Model"
   ]
  },
  {
   "cell_type": "code",
   "execution_count": 53,
   "metadata": {},
   "outputs": [
    {
     "name": "stderr",
     "output_type": "stream",
     "text": [
      "[nltk_data] Downloading package vader_lexicon to\n",
      "[nltk_data]     /Users/tyler/nltk_data...\n",
      "[nltk_data]   Package vader_lexicon is already up-to-date!\n"
     ]
    }
   ],
   "source": [
    "from gensim.models.word2vec import LineSentence\n",
    "from nltk.corpus import subjectivity\n",
    "nltk.download('vader_lexicon')\n",
    "# first, we import the relevant modules from the NLTK library\n",
    "from nltk.sentiment.vader import SentimentIntensityAnalyzer"
   ]
  },
  {
   "cell_type": "code",
   "execution_count": 54,
   "metadata": {},
   "outputs": [],
   "source": [
    "def train_word2vec(csv_filename_string, num_f, min_wc, ctxt,ds):   \n",
    "    \n",
    "    start = time.time();\n",
    "    #Set the logging format to get some basic updates.\n",
    "    logging.basicConfig(format='%(asctime)s : %(levelname)s : %(message)s',\\\n",
    "        level=logging.INFO)\n",
    "    # Set values for various parameters\n",
    "    num_features = num_f;    # Dimensionality of the hidden layer representation\n",
    "    min_word_count = min_wc;   # Minimum word count to keep a word in the vocabulary\n",
    "    num_workers = multiprocessing.cpu_count();       # Number of threads to run in parallel set to total number of cpus.\n",
    "    context = ctxt       # Context window size (on each side)                                                       \n",
    "    downsampling = ds   # Downsample setting for frequent words\n",
    "    # Initialize and train the model. \n",
    "    #The LineSentence object allows us to pass in a file name directly as input to Word2Vec,\n",
    "    #instead of having to read it into memory first.\n",
    "    print(\"Training model...\");\n",
    "    model = word2vec.Word2Vec(LineSentence(csv_filename_string), workers=num_workers, \\\n",
    "                size=num_features, min_count = min_word_count, \\\n",
    "                window = context, sample = downsampling);\n",
    "    # We don't plan on training the model any further, so calling \n",
    "    # init_sims will make the model more memory efficient by normalizing the vectors in-place.\n",
    "    model.init_sims(replace=True);\n",
    "    # Save the model\n",
    "    model_name = \"model_\"+str(csv_filename_string);\n",
    "    model.save(model_name);\n",
    "    print('Total time: ' + str((time.time() - start)) + ' secs')\n",
    "    return model"
   ]
  },
  {
   "cell_type": "code",
   "execution_count": null,
   "metadata": {},
   "outputs": [],
   "source": []
  },
  {
   "cell_type": "code",
   "execution_count": 55,
   "metadata": {},
   "outputs": [
    {
     "name": "stderr",
     "output_type": "stream",
     "text": [
      "2019-12-06 11:47:25,216 : INFO : collecting all words and their counts\n",
      "2019-12-06 11:47:25,217 : INFO : PROGRESS: at sentence #0, processed 0 words, keeping 0 word types\n",
      "2019-12-06 11:47:25,406 : INFO : collected 22487 word types from a corpus of 562667 raw words and 8215 sentences\n",
      "2019-12-06 11:47:25,406 : INFO : Loading a fresh vocabulary\n",
      "2019-12-06 11:47:25,416 : INFO : effective_min_count=35 retains 1341 unique words (5% of original 22487, drops 21146)\n",
      "2019-12-06 11:47:25,417 : INFO : effective_min_count=35 leaves 485939 word corpus (86% of original 562667, drops 76728)\n"
     ]
    },
    {
     "name": "stdout",
     "output_type": "stream",
     "text": [
      "Training model...\n"
     ]
    },
    {
     "name": "stderr",
     "output_type": "stream",
     "text": [
      "2019-12-06 11:47:25,421 : INFO : deleting the raw counts dictionary of 22487 items\n",
      "2019-12-06 11:47:25,423 : INFO : sample=0.001 downsamples 70 most-common words\n",
      "2019-12-06 11:47:25,424 : INFO : downsampling leaves estimated 323394 word corpus (66.6% of prior 485939)\n",
      "2019-12-06 11:47:25,427 : INFO : estimated required memory for 1341 words and 100 dimensions: 1743300 bytes\n",
      "2019-12-06 11:47:25,428 : INFO : resetting layer weights\n",
      "2019-12-06 11:47:25,447 : INFO : training model with 8 workers on 1341 vocabulary and 100 features, using sg=0 hs=0 sample=0.001 negative=5 window=8\n",
      "2019-12-06 11:47:25,699 : INFO : worker thread finished; awaiting finish of 7 more threads\n",
      "2019-12-06 11:47:25,706 : INFO : worker thread finished; awaiting finish of 6 more threads\n",
      "2019-12-06 11:47:25,707 : INFO : worker thread finished; awaiting finish of 5 more threads\n",
      "2019-12-06 11:47:25,708 : INFO : worker thread finished; awaiting finish of 4 more threads\n",
      "2019-12-06 11:47:25,708 : INFO : worker thread finished; awaiting finish of 3 more threads\n",
      "2019-12-06 11:47:25,713 : INFO : worker thread finished; awaiting finish of 2 more threads\n",
      "2019-12-06 11:47:25,716 : INFO : worker thread finished; awaiting finish of 1 more threads\n",
      "2019-12-06 11:47:25,716 : INFO : worker thread finished; awaiting finish of 0 more threads\n",
      "2019-12-06 11:47:25,717 : INFO : EPOCH - 1 : training on 562667 raw words (323639 effective words) took 0.3s, 1209646 effective words/s\n",
      "2019-12-06 11:47:25,957 : INFO : worker thread finished; awaiting finish of 7 more threads\n",
      "2019-12-06 11:47:25,961 : INFO : worker thread finished; awaiting finish of 6 more threads\n",
      "2019-12-06 11:47:25,964 : INFO : worker thread finished; awaiting finish of 5 more threads\n",
      "2019-12-06 11:47:25,965 : INFO : worker thread finished; awaiting finish of 4 more threads\n",
      "2019-12-06 11:47:25,966 : INFO : worker thread finished; awaiting finish of 3 more threads\n",
      "2019-12-06 11:47:25,967 : INFO : worker thread finished; awaiting finish of 2 more threads\n",
      "2019-12-06 11:47:25,968 : INFO : worker thread finished; awaiting finish of 1 more threads\n",
      "2019-12-06 11:47:25,971 : INFO : worker thread finished; awaiting finish of 0 more threads\n",
      "2019-12-06 11:47:25,972 : INFO : EPOCH - 2 : training on 562667 raw words (323381 effective words) took 0.3s, 1283980 effective words/s\n",
      "2019-12-06 11:47:26,216 : INFO : worker thread finished; awaiting finish of 7 more threads\n",
      "2019-12-06 11:47:26,218 : INFO : worker thread finished; awaiting finish of 6 more threads\n",
      "2019-12-06 11:47:26,223 : INFO : worker thread finished; awaiting finish of 5 more threads\n",
      "2019-12-06 11:47:26,227 : INFO : worker thread finished; awaiting finish of 4 more threads\n",
      "2019-12-06 11:47:26,229 : INFO : worker thread finished; awaiting finish of 3 more threads\n",
      "2019-12-06 11:47:26,230 : INFO : worker thread finished; awaiting finish of 2 more threads\n",
      "2019-12-06 11:47:26,231 : INFO : worker thread finished; awaiting finish of 1 more threads\n",
      "2019-12-06 11:47:26,232 : INFO : worker thread finished; awaiting finish of 0 more threads\n",
      "2019-12-06 11:47:26,233 : INFO : EPOCH - 3 : training on 562667 raw words (323444 effective words) took 0.3s, 1261271 effective words/s\n",
      "2019-12-06 11:47:26,475 : INFO : worker thread finished; awaiting finish of 7 more threads\n",
      "2019-12-06 11:47:26,482 : INFO : worker thread finished; awaiting finish of 6 more threads\n",
      "2019-12-06 11:47:26,482 : INFO : worker thread finished; awaiting finish of 5 more threads\n",
      "2019-12-06 11:47:26,483 : INFO : worker thread finished; awaiting finish of 4 more threads\n",
      "2019-12-06 11:47:26,483 : INFO : worker thread finished; awaiting finish of 3 more threads\n",
      "2019-12-06 11:47:26,487 : INFO : worker thread finished; awaiting finish of 2 more threads\n",
      "2019-12-06 11:47:26,487 : INFO : worker thread finished; awaiting finish of 1 more threads\n",
      "2019-12-06 11:47:26,490 : INFO : worker thread finished; awaiting finish of 0 more threads\n",
      "2019-12-06 11:47:26,491 : INFO : EPOCH - 4 : training on 562667 raw words (323050 effective words) took 0.3s, 1276785 effective words/s\n",
      "2019-12-06 11:47:26,736 : INFO : worker thread finished; awaiting finish of 7 more threads\n",
      "2019-12-06 11:47:26,743 : INFO : worker thread finished; awaiting finish of 6 more threads\n",
      "2019-12-06 11:47:26,745 : INFO : worker thread finished; awaiting finish of 5 more threads\n",
      "2019-12-06 11:47:26,746 : INFO : worker thread finished; awaiting finish of 4 more threads\n",
      "2019-12-06 11:47:26,747 : INFO : worker thread finished; awaiting finish of 3 more threads\n",
      "2019-12-06 11:47:26,747 : INFO : worker thread finished; awaiting finish of 2 more threads\n",
      "2019-12-06 11:47:26,752 : INFO : worker thread finished; awaiting finish of 1 more threads\n",
      "2019-12-06 11:47:26,753 : INFO : worker thread finished; awaiting finish of 0 more threads\n",
      "2019-12-06 11:47:26,754 : INFO : EPOCH - 5 : training on 562667 raw words (323308 effective words) took 0.3s, 1248270 effective words/s\n",
      "2019-12-06 11:47:26,754 : INFO : training on a 2813335 raw words (1616822 effective words) took 1.3s, 1237332 effective words/s\n",
      "2019-12-06 11:47:26,755 : INFO : precomputing L2-norms of word weight vectors\n",
      "2019-12-06 11:47:26,762 : INFO : saving Word2Vec object under model_extra_clean_comments.csv, separately None\n",
      "2019-12-06 11:47:26,763 : INFO : not storing attribute vectors_norm\n",
      "2019-12-06 11:47:26,764 : INFO : not storing attribute cum_table\n",
      "2019-12-06 11:47:26,777 : INFO : saved model_extra_clean_comments.csv\n"
     ]
    },
    {
     "name": "stdout",
     "output_type": "stream",
     "text": [
      "Total time: 1.5626611709594727 secs\n"
     ]
    }
   ],
   "source": [
    "num_features = 100    # Dimensionality of the hidden layer representation\n",
    "min_word_count = 35\n",
    "context = 8\n",
    "downsampling = 1e-3\n",
    "model = train_word2vec('extra_clean_comments.csv', num_features,min_word_count,context,downsampling)"
   ]
  },
  {
   "cell_type": "code",
   "execution_count": 56,
   "metadata": {},
   "outputs": [
    {
     "name": "stdout",
     "output_type": "stream",
     "text": [
      "(100,)\n"
     ]
    },
    {
     "name": "stderr",
     "output_type": "stream",
     "text": [
      "/Users/tyler/anaconda3/lib/python3.7/site-packages/ipykernel_launcher.py:1: DeprecationWarning: Call to deprecated `syn0` (Attribute will be removed in 4.0.0, use self.vectors instead).\n",
      "  \"\"\"Entry point for launching an IPython kernel.\n"
     ]
    },
    {
     "data": {
      "text/plain": [
       "array([-1.68950975e-01,  3.79101895e-02,  8.61219130e-03, -7.03458041e-02,\n",
       "       -1.14694685e-01,  3.62174027e-02, -1.82020098e-01, -4.76797903e-03,\n",
       "        1.35690868e-01,  5.57781458e-02, -1.79503560e-02, -5.77451289e-03,\n",
       "        2.62230486e-01,  1.26989260e-01, -8.88359025e-02, -3.24061513e-02,\n",
       "       -9.99499038e-02, -2.44006217e-01,  1.11264147e-01,  4.30764966e-02,\n",
       "       -1.61791131e-01,  5.55378608e-02,  9.96392965e-02,  9.81968828e-03,\n",
       "        5.67640327e-02, -3.49691585e-02, -1.60246298e-01, -2.07538791e-02,\n",
       "        6.62762579e-03,  7.02528208e-02,  7.66078234e-02,  2.35944651e-02,\n",
       "       -9.91347209e-02,  3.41677926e-02,  1.97287500e-02,  4.75582819e-05,\n",
       "        2.03056540e-02, -2.62740403e-01, -8.53961855e-02,  2.63546240e-02,\n",
       "        1.17771983e-01,  8.85428637e-02, -7.40201697e-02, -1.41398013e-01,\n",
       "        2.28702184e-02, -5.21110706e-02,  9.27993059e-02,  2.09717691e-01,\n",
       "        4.95093688e-02, -5.11438726e-03, -1.75782993e-01, -9.46210623e-02,\n",
       "       -1.37413844e-01, -9.19375569e-02, -9.06566381e-02,  1.21577218e-01,\n",
       "       -1.08810037e-01, -1.32726744e-01,  2.76872590e-02, -3.54262628e-02,\n",
       "       -8.73153210e-02, -6.92869797e-02,  8.92782584e-02,  5.92806078e-02,\n",
       "       -1.81880184e-02,  5.62566780e-02, -7.53054395e-02,  7.07281977e-02,\n",
       "       -1.63390562e-02, -1.39884844e-01,  5.61136343e-02,  1.05524936e-03,\n",
       "        5.89541569e-02,  4.21177074e-02, -1.25077181e-02,  5.13590537e-02,\n",
       "       -1.49231434e-01,  9.47545022e-02, -9.95118637e-04,  1.38000920e-01,\n",
       "        5.66312820e-02, -8.12831745e-02, -5.90117648e-02, -8.89961433e-04,\n",
       "        2.30415136e-01, -3.99150066e-02,  1.18317306e-01,  1.67142972e-02,\n",
       "        5.84134599e-03,  3.64981815e-02, -1.35215342e-01, -1.15421042e-01,\n",
       "       -2.80349981e-03,  3.85725237e-02,  3.85061242e-02,  2.82216132e-01,\n",
       "       -2.35116575e-02, -4.08059172e-02,  2.70240959e-02,  2.18369067e-02],\n",
       "      dtype=float32)"
      ]
     },
     "execution_count": 56,
     "metadata": {},
     "output_type": "execute_result"
    }
   ],
   "source": [
    "Z = model.wv.syn0;\n",
    "print(Z[0].shape)\n",
    "Z[0]"
   ]
  },
  {
   "cell_type": "markdown",
   "metadata": {},
   "source": [
    "# Cluster, Generate Word Clouds"
   ]
  },
  {
   "cell_type": "code",
   "execution_count": 57,
   "metadata": {},
   "outputs": [],
   "source": [
    "def clustering_on_wordvecs(word_vectors, num_clusters):\n",
    "    # Initalize a k-means object and use it to extract centroids\n",
    "    kmeans_clustering = KMeans(n_clusters = num_clusters, init='k-means++');\n",
    "    idx = kmeans_clustering.fit_predict(word_vectors);\n",
    "    \n",
    "    return kmeans_clustering.cluster_centers_, idx;"
   ]
  },
  {
   "cell_type": "code",
   "execution_count": 58,
   "metadata": {},
   "outputs": [],
   "source": [
    "def get_top_words(index2word, k, centers, wordvecs):\n",
    "    tree = KDTree(wordvecs);\n",
    "#Closest points for each Cluster center is used to query the closest 20 points to it.\n",
    "    closest_points = [tree.query(np.reshape(x, (1, -1)), k=k) for x in centers];\n",
    "    closest_words_idxs = [x[1] for x in closest_points];\n",
    "#Word Index is queried for each position in the above array, and added to a Dictionary.\n",
    "    closest_words = {};\n",
    "    for i in range(0, len(closest_words_idxs)):\n",
    "        closest_words['Cluster #' + str(i)] = [index2word[j] for j in closest_words_idxs[i][0]]\n",
    "#A DataFrame is generated from the dictionary.\n",
    "    print(closest_words['Cluster #0'])\n",
    "    df = pd.DataFrame(closest_words);\n",
    "    df.index = df.index+1\n",
    "    return df;"
   ]
  },
  {
   "cell_type": "code",
   "execution_count": null,
   "metadata": {},
   "outputs": [],
   "source": []
  },
  {
   "cell_type": "code",
   "execution_count": 59,
   "metadata": {},
   "outputs": [],
   "source": [
    "def display_cloud(cluster_num, cmap, label=None):\n",
    "#     print(cluster_num)\n",
    "    wc = WordCloud(background_color=\"white\", max_words=200, max_font_size=80, colormap=cmap);\n",
    "    wordcloud = wc.generate(' '.join([word for word in top_words['Cluster #' + str(cluster_num)]]))\n",
    "    plt.imshow(wordcloud, interpolation='bilinear')\n",
    "    plt.axis(\"off\")\n",
    "    plt.savefig(label+ '_cluster_' + str(cluster_num), bbox_inches='tight')"
   ]
  },
  {
   "cell_type": "code",
   "execution_count": 60,
   "metadata": {},
   "outputs": [
    {
     "name": "stdout",
     "output_type": "stream",
     "text": [
      "['death', 'offer', \"friends']\", 'freaking', 'speaking', 'pressure', \"shit']\", 'struggle', 'instagram', 'smoke', 'follow', 'holding', 'dreams', \"lmao']\", 'photos', 'clear', \"['honestly\", 'chances', 'killing', 'nut', 'plus', 'research', 'negative', 'stuck', \"all']\", 'near', 'lesbian', \"time']\", 'hearing', 'pictures']\n"
     ]
    },
    {
     "name": "stderr",
     "output_type": "stream",
     "text": [
      "/Users/tyler/anaconda3/lib/python3.7/site-packages/sklearn/metrics/pairwise.py:276: RuntimeWarning: invalid value encountered in maximum\n",
      "  np.maximum(distances, 0, out=distances)\n",
      "/Users/tyler/anaconda3/lib/python3.7/site-packages/sklearn/cluster/k_means_.py:625: RuntimeWarning: invalid value encountered in multiply\n",
      "  inertia = (mindist * sample_weight).sum()\n",
      "/Users/tyler/anaconda3/lib/python3.7/site-packages/sklearn/metrics/pairwise.py:276: RuntimeWarning: invalid value encountered in maximum\n",
      "  np.maximum(distances, 0, out=distances)\n",
      "/Users/tyler/anaconda3/lib/python3.7/site-packages/sklearn/cluster/k_means_.py:625: RuntimeWarning: invalid value encountered in multiply\n",
      "  inertia = (mindist * sample_weight).sum()\n",
      "/Users/tyler/anaconda3/lib/python3.7/site-packages/sklearn/metrics/pairwise.py:276: RuntimeWarning: invalid value encountered in maximum\n",
      "  np.maximum(distances, 0, out=distances)\n",
      "/Users/tyler/anaconda3/lib/python3.7/site-packages/sklearn/metrics/pairwise.py:276: RuntimeWarning: invalid value encountered in maximum\n",
      "  np.maximum(distances, 0, out=distances)\n",
      "/Users/tyler/anaconda3/lib/python3.7/site-packages/sklearn/metrics/pairwise.py:276: RuntimeWarning: invalid value encountered in maximum\n",
      "  np.maximum(distances, 0, out=distances)\n",
      "/Users/tyler/anaconda3/lib/python3.7/site-packages/sklearn/cluster/k_means_.py:625: RuntimeWarning: invalid value encountered in multiply\n",
      "  inertia = (mindist * sample_weight).sum()\n"
     ]
    }
   ],
   "source": [
    "centers, clusters = clustering_on_wordvecs(Z, 1);\n",
    "centroid_map = dict(zip(model.wv.index2word, clusters));\n",
    "top_words = get_top_words(model.wv.index2word, 30, centers, Z);\n",
    "\n",
    "\n",
    "# temp = list(top_words['Cluster #0']).remove('sometimes')\n",
    "# print(temp)"
   ]
  },
  {
   "cell_type": "code",
   "execution_count": 61,
   "metadata": {},
   "outputs": [],
   "source": [
    "# 'flag', 'prism', 'ocean', 'gist_earth', 'terrain', 'gist_stern',\n",
    "#             'gnuplot', 'gnuplot2', 'CMRmap', 'cubehelix', 'brg', 'hsv',\n",
    "#             'gist_rainbow', 'rainbow', 'jet', 'nipy_spectral', 'gist_ncar'"
   ]
  },
  {
   "cell_type": "code",
   "execution_count": 62,
   "metadata": {
    "scrolled": true
   },
   "outputs": [
    {
     "name": "stdout",
     "output_type": "stream",
     "text": [
      "rainbow\n"
     ]
    },
    {
     "data": {
      "image/png": "[encoded data removed]",
      "text/plain": [
       "<Figure size 432x288 with 1 Axes>"
      ]
     },
     "metadata": {
      "needs_background": "light"
     },
     "output_type": "display_data"
    }
   ],
   "source": [
    "cmaps = 'rainbow'\n",
    "for i in range(1):\n",
    "    col = cmaps;\n",
    "    print(col)\n",
    "    display_cloud(i, col, label='total')"
   ]
  },
  {
   "cell_type": "markdown",
   "metadata": {},
   "source": [
    "# Analyze Word Similarities"
   ]
  },
  {
   "cell_type": "code",
   "execution_count": 63,
   "metadata": {},
   "outputs": [],
   "source": [
    "def get_word_table(table, key, sim_key='similarity', show_sim = True):\n",
    "    if show_sim == True:\n",
    "        return pd.DataFrame(table, columns=[key, sim_key])\n",
    "    else:\n",
    "        return pd.DataFrame(table, columns=[key, sim_key])[key]"
   ]
  },
  {
   "cell_type": "code",
   "execution_count": 64,
   "metadata": {},
   "outputs": [],
   "source": [
    "\n",
    "keys = ['stressed','sad','relationship','school' ];\n",
    "tables = [];\n",
    "for key in keys:\n",
    "    tables.append(get_word_table(model.wv.similar_by_word(key), key, show_sim=False))"
   ]
  },
  {
   "cell_type": "code",
   "execution_count": 65,
   "metadata": {},
   "outputs": [],
   "source": [
    "similarity_table = pd.concat(tables, axis=1)\n"
   ]
  },
  {
   "cell_type": "code",
   "execution_count": 66,
   "metadata": {},
   "outputs": [
    {
     "data": {
      "text/html": [
       "<div>\n",
       "<style scoped>\n",
       "    .dataframe tbody tr th:only-of-type {\n",
       "        vertical-align: middle;\n",
       "    }\n",
       "\n",
       "    .dataframe tbody tr th {\n",
       "        vertical-align: top;\n",
       "    }\n",
       "\n",
       "    .dataframe thead th {\n",
       "        text-align: right;\n",
       "    }\n",
       "</style>\n",
       "<table border=\"1\" class=\"dataframe\">\n",
       "  <thead>\n",
       "    <tr style=\"text-align: right;\">\n",
       "      <th></th>\n",
       "      <th>stressed</th>\n",
       "      <th>sad</th>\n",
       "      <th>relationship</th>\n",
       "      <th>school</th>\n",
       "    </tr>\n",
       "  </thead>\n",
       "  <tbody>\n",
       "    <tr>\n",
       "      <th>0</th>\n",
       "      <td>anxious</td>\n",
       "      <td>bad</td>\n",
       "      <td>fwb</td>\n",
       "      <td>high</td>\n",
       "    </tr>\n",
       "    <tr>\n",
       "      <th>1</th>\n",
       "      <td>frustrated</td>\n",
       "      <td>insecure</td>\n",
       "      <td>boyfriend</td>\n",
       "      <td>classes</td>\n",
       "    </tr>\n",
       "    <tr>\n",
       "      <th>2</th>\n",
       "      <td>healthy</td>\n",
       "      <td>awkward</td>\n",
       "      <td>sex</td>\n",
       "      <td>college</td>\n",
       "    </tr>\n",
       "    <tr>\n",
       "      <th>3</th>\n",
       "      <td>boring</td>\n",
       "      <td>feeling</td>\n",
       "      <td>dream</td>\n",
       "      <td>gpa</td>\n",
       "    </tr>\n",
       "    <tr>\n",
       "      <th>4</th>\n",
       "      <td>excited</td>\n",
       "      <td>worried</td>\n",
       "      <td>feelings</td>\n",
       "      <td>year</td>\n",
       "    </tr>\n",
       "    <tr>\n",
       "      <th>5</th>\n",
       "      <td>guilty</td>\n",
       "      <td>guilty</td>\n",
       "      <td>girlfriend</td>\n",
       "      <td>quarter</td>\n",
       "    </tr>\n",
       "    <tr>\n",
       "      <th>6</th>\n",
       "      <td>difficult</td>\n",
       "      <td>happy</td>\n",
       "      <td>ready</td>\n",
       "      <td>depression</td>\n",
       "    </tr>\n",
       "    <tr>\n",
       "      <th>7</th>\n",
       "      <td>tbh</td>\n",
       "      <td>depressed</td>\n",
       "      <td>bit</td>\n",
       "      <td>anxiety</td>\n",
       "    </tr>\n",
       "    <tr>\n",
       "      <th>8</th>\n",
       "      <td>negative</td>\n",
       "      <td>really</td>\n",
       "      <td>feeling</td>\n",
       "      <td>fall</td>\n",
       "    </tr>\n",
       "    <tr>\n",
       "      <th>9</th>\n",
       "      <td>confused</td>\n",
       "      <td>shy</td>\n",
       "      <td>friend</td>\n",
       "      <td>mental</td>\n",
       "    </tr>\n",
       "  </tbody>\n",
       "</table>\n",
       "</div>"
      ],
      "text/plain": [
       "     stressed        sad relationship      school\n",
       "0     anxious        bad          fwb        high\n",
       "1  frustrated   insecure    boyfriend     classes\n",
       "2     healthy    awkward          sex     college\n",
       "3      boring    feeling        dream         gpa\n",
       "4     excited    worried     feelings        year\n",
       "5      guilty     guilty   girlfriend     quarter\n",
       "6   difficult      happy        ready  depression\n",
       "7         tbh  depressed          bit     anxiety\n",
       "8    negative     really      feeling        fall\n",
       "9    confused        shy       friend      mental"
      ]
     },
     "execution_count": 66,
     "metadata": {},
     "output_type": "execute_result"
    }
   ],
   "source": [
    "similarity_table"
   ]
  },
  {
   "cell_type": "code",
   "execution_count": 67,
   "metadata": {},
   "outputs": [],
   "source": [
    "similarity_table.to_csv(r'/Users/tyler/UCSD_Wellness/analysis/Final_total_similarity_sample.csv',index=False)"
   ]
  },
  {
   "cell_type": "code",
   "execution_count": 90,
   "metadata": {},
   "outputs": [],
   "source": [
    "\n",
    "def compute_similarity_scores(confession, tags):\n",
    "    \"\"\"\"\"\n",
    "     \n",
    "     :param confession: message to compute similarities to tags\n",
    "     :type confession: str\n",
    "     :param tags: keywords for comparison\n",
    "     :type tags: list of str\n",
    "     :returns: dictionary of array len(tags)\n",
    "     \"\"\"\n",
    "    assert isinstance(confession, str)\n",
    "    assert isinstance(tags, list)\n",
    "    similarity_scores = {}\n",
    "    words = confession.split()\n",
    "\n",
    "    for i, word in enumerate(words):\n",
    "    #         print(word)\n",
    "    #         if str(word) not in model.wv.vocab:\n",
    "    #             words = words.remove(word)\n",
    "    #             print(confession)\n",
    "\n",
    "        try:\n",
    "            sim = [model.wv.similarity(str(word),tag) for tag in tags]\n",
    "            similarity_scores[i] = sim\n",
    "        except:\n",
    "#             print('Error')\n",
    "            similarity_scores[i] = list([0,0,0,0])\n",
    "    \n",
    "    return similarity_scores\n",
    "\n",
    "        \n",
    "    \n",
    "#create dict for similarity scores of each word in the confession to each top_10 words for the tags"
   ]
  },
  {
   "cell_type": "code",
   "execution_count": 92,
   "metadata": {},
   "outputs": [],
   "source": [
    "def generate_tag_suggestions(scores, tags):\n",
    "    \"\"\"\"\"\n",
    "     \n",
    "     :param scores: similarities to  tags\n",
    "     :type scores: dictionary\n",
    "     :param tags: keywords for comparison\n",
    "     :type tags: list of str\n",
    "     :returns: dictionary of array len(tags)\n",
    "     \"\"\"\n",
    "    assert isinstance(scores,dict)\n",
    "    assert isinstance(tags,list)\n",
    "    \n",
    "    results = []\n",
    "    for key, value in similarity_scores.items():\n",
    "        for i, sim in enumerate(value):\n",
    "             if sim > 0.75:\n",
    "                results.append(tags[i])\n",
    "                \n",
    "    return results\n",
    "        "
   ]
  },
  {
   "cell_type": "markdown",
   "metadata": {},
   "source": [
    "# Proof of Concept: Auto-Tag Suggestion\n",
    "\n",
    "### computes similarities of all words in the confession to every tag, thresholds to select candidates"
   ]
  },
  {
   "cell_type": "code",
   "execution_count": 97,
   "metadata": {},
   "outputs": [],
   "source": [
    "## Define tags, load in new confession to be tagged.\n",
    "tags = ['stressed','sad','relationship','school' ]\n",
    "confession = \"I am having a really rough day, my girl just dumped with me, AND I failed an exam.\""
   ]
  },
  {
   "cell_type": "code",
   "execution_count": 98,
   "metadata": {},
   "outputs": [
    {
     "name": "stdout",
     "output_type": "stream",
     "text": [
      "['sad']\n"
     ]
    }
   ],
   "source": [
    "similarity_scores = compute_similarity_scores(confession, tags)\n",
    "suggest_tags = generate_tag_suggestions(similarity_scores, tags)\n",
    "print(suggest_tags)"
   ]
  },
  {
   "cell_type": "code",
   "execution_count": null,
   "metadata": {},
   "outputs": [],
   "source": []
  }
 ],
 "metadata": {
  "kernelspec": {
   "display_name": "Python 3",
   "language": "python",
   "name": "python3"
  },
  "language_info": {
   "codemirror_mode": {
    "name": "ipython",
    "version": 3
   },
   "file_extension": ".py",
   "mimetype": "text/x-python",
   "name": "python",
   "nbconvert_exporter": "python",
   "pygments_lexer": "ipython3",
   "version": "3.7.1"
  }
 },
 "nbformat": 4,
 "nbformat_minor": 2
}
