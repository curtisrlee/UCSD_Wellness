{
 "cells": [
  {
   "cell_type": "markdown",
   "metadata": {},
   "source": [
    "## Import Modules"
   ]
  },
  {
   "cell_type": "code",
   "execution_count": null,
   "metadata": {},
   "outputs": [],
   "source": [
    "# import nltk\n",
    "# import random\n",
    "# from nltk.classify.scikitlearn import SklearnClassifier\n",
    "# import pickle\n",
    "# from sklearn.naive_bayes import MultinomialNB, BernoulliNB\n",
    "# from sklearn.linear_model import LogisticRegression, SGDClassifier\n",
    "# from sklearn.svm import SVC, LinearSVC, NuSVC\n",
    "# from nltk.classify import ClassifierI\n",
    "# from statistics import mode\n",
    "# from nltk.tokenize import word_tokenize\n",
    "# import re\n",
    "# import os\n",
    "\n",
    "# import csv\n",
    "# import pandas as pd\n",
    "# import numpy as np"
   ]
  },
  {
   "cell_type": "code",
   "execution_count": null,
   "metadata": {},
   "outputs": [],
   "source": [
    "# import nltk.data;\n",
    "# from gensim.models import word2vec;\n",
    "# from sklearn.cluster import KMeans;\n",
    "# from sklearn.neighbors import KDTree;\n",
    "# import pandas as pd;\n",
    "# import numpy as np;\n",
    "# import os;\n",
    "# import re;\n",
    "# import logging;\n",
    "# import sqlite3;\n",
    "# import time;\n",
    "# import sys;\n",
    "# import multiprocessing;\n",
    "# from wordcloud import WordCloud, ImageColorGenerator\n",
    "# import matplotlib.pyplot as plt;\n",
    "# from itertools import cycle;"
   ]
  },
  {
   "cell_type": "code",
   "execution_count": null,
   "metadata": {},
   "outputs": [],
   "source": [
    "%matplotlib inline"
   ]
  },
  {
   "cell_type": "code",
   "execution_count": null,
   "metadata": {},
   "outputs": [],
   "source": [
    "# !pip install wordcloud"
   ]
  },
  {
   "cell_type": "code",
   "execution_count": null,
   "metadata": {},
   "outputs": [],
   "source": [
    "# from nltk.corpus.reader import WordListCorpusReader\n",
    "# from nltk.corpus.reader.api import *\n",
    "# nltk.download('opinion_lexicon')\n",
    "# nltk.download('stopwords')\n",
    "# nltk.download('punkt')\n",
    "# nltk.download('averaged_perceptron_tagger')\n",
    "# from nltk.corpus import opinion_lexicon\n",
    "# from nltk.corpus import stopwords"
   ]
  },
  {
   "cell_type": "code",
   "execution_count": null,
   "metadata": {},
   "outputs": [],
   "source": [
    "# from tqdm import tqdm\n",
    "# import numpy as np\n",
    "# from collections import defaultdict"
   ]
  },
  {
   "cell_type": "code",
   "execution_count": 14,
   "metadata": {},
   "outputs": [
    {
     "name": "stderr",
     "output_type": "stream",
     "text": [
      "[nltk_data] Downloading package opinion_lexicon to\n",
      "[nltk_data]     /Users/tyler/nltk_data...\n",
      "[nltk_data]   Package opinion_lexicon is already up-to-date!\n",
      "[nltk_data] Downloading package stopwords to /Users/tyler/nltk_data...\n",
      "[nltk_data]   Package stopwords is already up-to-date!\n",
      "[nltk_data] Downloading package punkt to /Users/tyler/nltk_data...\n",
      "[nltk_data]   Package punkt is already up-to-date!\n",
      "[nltk_data] Downloading package averaged_perceptron_tagger to\n",
      "[nltk_data]     /Users/tyler/nltk_data...\n",
      "[nltk_data]   Package averaged_perceptron_tagger is already up-to-\n",
      "[nltk_data]       date!\n"
     ]
    }
   ],
   "source": [
    "from utility import *"
   ]
  },
  {
   "cell_type": "markdown",
   "metadata": {},
   "source": [
    "# load lexicons"
   ]
  },
  {
   "cell_type": "code",
   "execution_count": null,
   "metadata": {},
   "outputs": [],
   "source": [
    "# #helper function \n",
    "# def txt_to_csv(txt_file,new_csv_file, header=int):\n",
    "#     # use 'with' if the program isn't going to immediately terminate\n",
    "#     # so you don't leave files open\n",
    "#     # the 'b' is necessary on Windows\n",
    "#     # it prevents \\x1a, Ctrl-z, from ending the stream prematurely\n",
    "#     # and also stops Python converting to / from different line terminators\n",
    "#     # On other platforms, it has no effect\n",
    "#     in_txt = csv.reader(open(txt_file, \"r\"), delimiter = '\\t')\n",
    "#     out_csv = csv.writer(open(new_csv_file, 'w'))\n",
    "\n",
    "#     out_csv.writerows(in_txt)\n",
    "    \n",
    "#     lex_csv = pd.read_csv(str(new_csv_file),header=header)\n",
    "    \n",
    "#     return lex_csv"
   ]
  },
  {
   "cell_type": "code",
   "execution_count": 15,
   "metadata": {},
   "outputs": [],
   "source": [
    "#setup vars for VAD lexicon load\n",
    "vad_text_file = r\"./data/NRC-VAD-Lexicon.txt\"\n",
    "vad_csv_file = r\"vad_lex.csv\""
   ]
  },
  {
   "cell_type": "code",
   "execution_count": 16,
   "metadata": {},
   "outputs": [],
   "source": [
    "vad_lex = txt_to_csv(vad_text_file, vad_csv_file, header=0)"
   ]
  },
  {
   "cell_type": "code",
   "execution_count": 17,
   "metadata": {},
   "outputs": [],
   "source": [
    "# for i in range(len(vad_lex['Word'])):\n",
    "#     print(vad_lex['Word'][i])"
   ]
  },
  {
   "cell_type": "code",
   "execution_count": 18,
   "metadata": {},
   "outputs": [],
   "source": [
    "# #nltk opinion lexicon\n",
    "# pos_lex = opinion_lexicon.positive()\n",
    "# neg_lex = opinion_lexicon.negative()"
   ]
  },
  {
   "cell_type": "code",
   "execution_count": null,
   "metadata": {},
   "outputs": [],
   "source": []
  },
  {
   "cell_type": "markdown",
   "metadata": {},
   "source": [
    "## load in pre-processed confessions"
   ]
  },
  {
   "cell_type": "code",
   "execution_count": 19,
   "metadata": {},
   "outputs": [],
   "source": [
    "path = '/Users/tyler/UCSD_Wellness/analysis/data/data1.csv'\n",
    "confessions=pd.read_csv(path)"
   ]
  },
  {
   "cell_type": "code",
   "execution_count": null,
   "metadata": {},
   "outputs": [],
   "source": [
    "# confessions.head()"
   ]
  },
  {
   "cell_type": "markdown",
   "metadata": {},
   "source": [
    "## Function for further pre-processing of confessions\n"
   ]
  },
  {
   "cell_type": "code",
   "execution_count": null,
   "metadata": {},
   "outputs": [],
   "source": [
    "# def clean_text(all_comments, out_name):\n",
    "    \n",
    "#     tokenizer = nltk.data.load('tokenizers/punkt/english.pickle');\n",
    "    \n",
    "#     stop_words = list(set(stopwords.words('english')))\n",
    "    \n",
    "#     out_file = open(out_name, 'w');\n",
    "    \n",
    "#     for pos in range(len(all_comments)):\n",
    "        \n",
    "#         #Get the comment\n",
    "#         val = all_comments.iloc[pos];\n",
    "        \n",
    "#         #Normalize tabs and remove newlines\n",
    "#         no_tabs = str(val).replace('\\t', ' ').replace('\\n', '');\n",
    "        \n",
    "#         #Remove all characters except A-Z and a dot.\n",
    "#         alphas_only = re.sub(\"[^a-zA-Z\\.]\", \" \", no_tabs);\n",
    "        \n",
    "#         #Remove punctuation\n",
    "#         no_punc = re.sub(r'[^(a-zA-Z)\\s]','', alphas_only)\n",
    "        \n",
    "#         #Normalize spaces to 1\n",
    "#         multi_spaces = re.sub(\" +\", \" \", no_punc);\n",
    "        \n",
    "#         #Strip trailing and leading spaces\n",
    "#         no_spaces = multi_spaces.strip();\n",
    "        \n",
    "#         #Normalize all charachters to lowercase\n",
    "#         clean_text = no_spaces.lower();\n",
    "        \n",
    "#         #Get sentences from the tokenizer, remove the dot in each.\n",
    "#         sentences = tokenizer.tokenize(clean_text);\n",
    "        \n",
    "#         stopped = [w for w in sentences if not w in stop_words]\n",
    "        \n",
    "#         sentences = [re.sub(\"[\\.]\", \"\", sentence) for sentence in sentences];\n",
    "        \n",
    "#         #If the text has more than one space (removing single word comments) and one character, write it to the file.\n",
    "#         out_file.write(\"%s\\n\" % sentences)\n",
    "                \n",
    "                \n",
    "#         #Simple logging. At every 50000th step,\n",
    "#         #print the total number of rows processed and time taken so far, and flush the file.\n",
    "# #         if pos % 50000 == 0:\n",
    "# #             total_time = time.time() - start;\n",
    "# # #             sys.stdout.write('Completed ' + str(round(100 * (pos / total_rows), 2)) + '% - ' + str(pos) + ' rows in time ' + str(round(total_time / 60, 0)) + ' min & ' + str(round(total_time % 60, 2)) + ' secs\\r');\n",
    "# #             out_file.flush();\n",
    "# #             break;\n",
    "        \n",
    "#     out_file.close();"
   ]
  },
  {
   "cell_type": "markdown",
   "metadata": {},
   "source": [
    "## Add date-time info to original confessions dataframe"
   ]
  },
  {
   "cell_type": "code",
   "execution_count": 20,
   "metadata": {},
   "outputs": [
    {
     "data": {
      "text/html": [
       "<div>\n",
       "<style scoped>\n",
       "    .dataframe tbody tr th:only-of-type {\n",
       "        vertical-align: middle;\n",
       "    }\n",
       "\n",
       "    .dataframe tbody tr th {\n",
       "        vertical-align: top;\n",
       "    }\n",
       "\n",
       "    .dataframe thead th {\n",
       "        text-align: right;\n",
       "    }\n",
       "</style>\n",
       "<table border=\"1\" class=\"dataframe\">\n",
       "  <thead>\n",
       "    <tr style=\"text-align: right;\">\n",
       "      <th></th>\n",
       "      <th>id</th>\n",
       "      <th>timestamp</th>\n",
       "      <th>content</th>\n",
       "      <th>contact</th>\n",
       "      <th>tags</th>\n",
       "      <th>note</th>\n",
       "      <th>weekday</th>\n",
       "    </tr>\n",
       "  </thead>\n",
       "  <tbody>\n",
       "    <tr>\n",
       "      <th>0</th>\n",
       "      <td>14442</td>\n",
       "      <td>2019-10-12 17:05:24</td>\n",
       "      <td>I’m super excited for homecoming next weekend ...</td>\n",
       "      <td>NaN</td>\n",
       "      <td>NaN</td>\n",
       "      <td>NaN</td>\n",
       "      <td>Sat</td>\n",
       "    </tr>\n",
       "    <tr>\n",
       "      <th>1</th>\n",
       "      <td>14441</td>\n",
       "      <td>2019-10-12 13:22:03</td>\n",
       "      <td>If I never met you, I would never have gotten ...</td>\n",
       "      <td>NaN</td>\n",
       "      <td>serious</td>\n",
       "      <td>NaN</td>\n",
       "      <td>Sat</td>\n",
       "    </tr>\n",
       "    <tr>\n",
       "      <th>2</th>\n",
       "      <td>14440</td>\n",
       "      <td>2019-10-11 17:03:50</td>\n",
       "      <td>There is an abnormal amount of hot girls that ...</td>\n",
       "      <td>NaN</td>\n",
       "      <td>NaN</td>\n",
       "      <td>NaN</td>\n",
       "      <td>Fri</td>\n",
       "    </tr>\n",
       "    <tr>\n",
       "      <th>3</th>\n",
       "      <td>14439</td>\n",
       "      <td>2019-10-11 15:58:00</td>\n",
       "      <td>Just out of curiosity, on a scale of one to te...</td>\n",
       "      <td>NaN</td>\n",
       "      <td>NaN</td>\n",
       "      <td>NaN</td>\n",
       "      <td>Fri</td>\n",
       "    </tr>\n",
       "    <tr>\n",
       "      <th>4</th>\n",
       "      <td>14438</td>\n",
       "      <td>2019-10-10 19:10:20</td>\n",
       "      <td>To the person who was playing the trumpet outs...</td>\n",
       "      <td>NaN</td>\n",
       "      <td>wholesome</td>\n",
       "      <td>NaN</td>\n",
       "      <td>Thu</td>\n",
       "    </tr>\n",
       "  </tbody>\n",
       "</table>\n",
       "</div>"
      ],
      "text/plain": [
       "      id           timestamp  \\\n",
       "0  14442 2019-10-12 17:05:24   \n",
       "1  14441 2019-10-12 13:22:03   \n",
       "2  14440 2019-10-11 17:03:50   \n",
       "3  14439 2019-10-11 15:58:00   \n",
       "4  14438 2019-10-10 19:10:20   \n",
       "\n",
       "                                             content contact       tags note  \\\n",
       "0  I’m super excited for homecoming next weekend ...     NaN        NaN  NaN   \n",
       "1  If I never met you, I would never have gotten ...     NaN    serious  NaN   \n",
       "2  There is an abnormal amount of hot girls that ...     NaN        NaN  NaN   \n",
       "3  Just out of curiosity, on a scale of one to te...     NaN        NaN  NaN   \n",
       "4  To the person who was playing the trumpet outs...     NaN  wholesome  NaN   \n",
       "\n",
       "  weekday  \n",
       "0     Sat  \n",
       "1     Sat  \n",
       "2     Fri  \n",
       "3     Fri  \n",
       "4     Thu  "
      ]
     },
     "execution_count": 20,
     "metadata": {},
     "output_type": "execute_result"
    }
   ],
   "source": [
    "confessions['timestamp']=pd.to_datetime(confessions.timestamp)\n",
    "confessions['weekday']=confessions.timestamp.dt.strftime('%a')\n",
    "confessions['weekday']=pd.Categorical(confessions['weekday'],categories=['Mon','Tue','Wed','Thu','Fri','Sat','Sun'],ordered=True)\n",
    "\n",
    "confessions.head()"
   ]
  },
  {
   "cell_type": "code",
   "execution_count": 21,
   "metadata": {},
   "outputs": [
    {
     "name": "stdout",
     "output_type": "stream",
     "text": [
      "Total time: 0.8125731945037842 secs\n"
     ]
    }
   ],
   "source": [
    "start = time.time();\n",
    "clean_text(confessions['content'], './data/extra_clean_comments.txt')\n",
    "print('Total time: ' + str((time.time() - start)) + ' secs')"
   ]
  },
  {
   "cell_type": "code",
   "execution_count": 22,
   "metadata": {},
   "outputs": [],
   "source": [
    "extra_clean_txt_file = r\"./data/extra_clean_comments.txt\"\n",
    "extra_clean_csv_file = r\"extra_clean_comments.csv\""
   ]
  },
  {
   "cell_type": "code",
   "execution_count": 23,
   "metadata": {},
   "outputs": [],
   "source": [
    "clean_confessions = txt_to_csv(extra_clean_txt_file, extra_clean_csv_file, header=None)\n",
    "# print(clean_comments)\n",
    "clean_content = clean_confessions[0].tolist()\n",
    "# len(clean_content)"
   ]
  },
  {
   "cell_type": "markdown",
   "metadata": {},
   "source": [
    "## Construct Various Sentiment Scoring Dictionaries"
   ]
  },
  {
   "cell_type": "markdown",
   "metadata": {},
   "source": [
    "### nltk opinion positive/negative lexicon\n",
    "\n",
    "#### This takes a long time to compute, so saved & loaded as a pkl file."
   ]
  },
  {
   "cell_type": "code",
   "execution_count": null,
   "metadata": {},
   "outputs": [],
   "source": [
    "# def compute_pos_neg_scores(clean_content): \n",
    "#     #nltk opinion lexicon\n",
    "#     pos_lex = opinion_lexicon.positive()\n",
    "#     neg_lex = opinion_lexicon.negative()\n",
    "#     pn_lex_score = defaultdict(int)\n",
    "    \n",
    "#     for i,note in tqdm(enumerate(clean_content)):\n",
    "#         pn_lex_score[i] = np.array([0.,0.])\n",
    "#         note = re.sub(\"[^\\w]\", \" \",  note).split()\n",
    "#         for word in note:\n",
    "#             if word in pos_lex:\n",
    "#                 pn_lex_score[i] += np.array([1.,0.])\n",
    "#             elif word in neg_lex:\n",
    "#                 pn_lex_score[i] += np.array([0.,1.])\n",
    "                \n",
    "#     output = open('pn_lex_score.pkl', 'wb')\n",
    "#     pickle.dump(pn_lex_score, output)\n",
    "#     output.close()\n",
    "#     return None"
   ]
  },
  {
   "cell_type": "code",
   "execution_count": null,
   "metadata": {},
   "outputs": [],
   "source": [
    "# output = open('pn_lex_score.pkl', 'wb')\n",
    "# pickle.dump(pn_lex_score, output)\n",
    "# output.close()"
   ]
  },
  {
   "cell_type": "code",
   "execution_count": null,
   "metadata": {},
   "outputs": [],
   "source": [
    "# compute_pos_neg_scores(clean_content)"
   ]
  },
  {
   "cell_type": "code",
   "execution_count": 28,
   "metadata": {},
   "outputs": [],
   "source": [
    "pkl_file = open('pn_lex_score.pkl', 'rb')\n",
    "pn_lex_score = pickle.load(pkl_file)\n",
    "pkl_file.close()"
   ]
  },
  {
   "cell_type": "code",
   "execution_count": 29,
   "metadata": {},
   "outputs": [],
   "source": [
    "temp = pd.DataFrame.from_dict(pn_lex_score, orient='index', columns=['#POS', '#NEG'])\n",
    "new_1 = pd.concat([confessions,temp],axis=1)"
   ]
  },
  {
   "cell_type": "markdown",
   "metadata": {},
   "source": [
    "### NRC VAD Lexicon"
   ]
  },
  {
   "cell_type": "code",
   "execution_count": null,
   "metadata": {},
   "outputs": [],
   "source": [
    "# def compute_VAD_scores(clean_content):\n",
    "#     #NRC VAD lexicon\n",
    "#     all_VAD_scores = defaultdict(int)\n",
    "#     # clean_content = clean_comments[0].tolist()\n",
    "#     for i,note in tqdm(enumerate(clean_content)):\n",
    "#         all_VAD_scores[i] = np.array([0.,0.,0.])\n",
    "#         note = re.sub(\"[^\\w]\", \" \",  note).split()\n",
    "#         for word in note:\n",
    "#             if word in list(vad_lex['Word']):\n",
    "#                 all_VAD_scores[i] += np.array([vad_lex['Valence'][i],vad_lex['Arousal'][i],vad_lex['Dominance'][i]])\n",
    "    \n",
    "#     output = open('all_VAD_scores.pkl', 'wb')\n",
    "#     pickle.dump(all_VAD_scores, output)\n",
    "#     output.close()\n",
    "#     return None"
   ]
  },
  {
   "cell_type": "code",
   "execution_count": null,
   "metadata": {},
   "outputs": [],
   "source": [
    "# output = open('all_VAD_scores.pkl', 'wb')\n",
    "# pickle.dump(all_VAD_scores, output)\n",
    "# output.close()"
   ]
  },
  {
   "cell_type": "code",
   "execution_count": null,
   "metadata": {},
   "outputs": [],
   "source": [
    "# compute_VAD_scores(clean_content, vad_lex)"
   ]
  },
  {
   "cell_type": "code",
   "execution_count": 30,
   "metadata": {},
   "outputs": [],
   "source": [
    "import pickle\n",
    "import pandas as pd\n",
    "pkl_file = open('all_VAD_scores.pkl', 'rb')\n",
    "all_VAD_scores = pickle.load(pkl_file)\n",
    "pkl_file.close()"
   ]
  },
  {
   "cell_type": "code",
   "execution_count": 31,
   "metadata": {},
   "outputs": [],
   "source": [
    "# all_VAD_scores"
   ]
  },
  {
   "cell_type": "code",
   "execution_count": 32,
   "metadata": {},
   "outputs": [],
   "source": [
    "# test = confessions"
   ]
  },
  {
   "cell_type": "code",
   "execution_count": 33,
   "metadata": {},
   "outputs": [],
   "source": [
    "temp_VAD = pd.DataFrame.from_dict(all_VAD_scores, orient='index', columns=['Valence','Arousal','Dominance'])"
   ]
  },
  {
   "cell_type": "code",
   "execution_count": 38,
   "metadata": {},
   "outputs": [],
   "source": [
    "new = pd.concat([new_1,temp_VAD],axis=1)"
   ]
  },
  {
   "cell_type": "code",
   "execution_count": 39,
   "metadata": {},
   "outputs": [
    {
     "data": {
      "text/plain": [
       "pandas.core.frame.DataFrame"
      ]
     },
     "execution_count": 39,
     "metadata": {},
     "output_type": "execute_result"
    }
   ],
   "source": [
    "type(new)"
   ]
  },
  {
   "cell_type": "markdown",
   "metadata": {},
   "source": [
    "# Graphing VAD frequency across weekday"
   ]
  },
  {
   "cell_type": "code",
   "execution_count": 35,
   "metadata": {},
   "outputs": [],
   "source": [
    "# def compute_vad_weekday_scores(new): \n",
    "#     # calculate total scores and counts\n",
    "#     weekday_valence_sum=new.groupby('weekday')['Valence'].sum()\n",
    "#     weekday_valence_count=new.groupby('weekday')['Valence'].count()\n",
    "#     valence= weekday_valence_sum/weekday_valence_count\n",
    "\n",
    "\n",
    "#     weekday_arousal_sum=new.groupby('weekday')['Arousal'].sum()\n",
    "#     weekday_arousal_count=new.groupby('weekday')['Arousal'].count()\n",
    "#     arousal = weekday_arousal_sum/weekday_arousal_count\n",
    "\n",
    "\n",
    "#     weekday_dominance_sum=new.groupby('weekday')['Dominance'].sum()\n",
    "#     weekday_dominance_count=new.groupby('weekday')['Dominance'].count()\n",
    "#     dominance = weekday_dominance_sum/weekday_dominance_count\n",
    "\n",
    "#     return valence, arousal, dominance\n"
   ]
  },
  {
   "cell_type": "code",
   "execution_count": 40,
   "metadata": {},
   "outputs": [],
   "source": [
    "# def plot_vad_weekday_scores(new): \n",
    "#     # calculate total scores and counts\n",
    "#     weekday_valence_sum=new.groupby('weekday')['Valence'].sum()\n",
    "#     weekday_valence_count=new.groupby('weekday')['Valence'].count()\n",
    "#     valence= weekday_valence_sum/weekday_valence_count\n",
    "\n",
    "\n",
    "#     weekday_arousal_sum=new.groupby('weekday')['Arousal'].sum()\n",
    "#     weekday_arousal_count=new.groupby('weekday')['Arousal'].count()\n",
    "#     arousal = weekday_arousal_sum/weekday_arousal_count\n",
    "\n",
    "\n",
    "#     weekday_dominance_sum=new.groupby('weekday')['Dominance'].sum()\n",
    "#     weekday_dominance_count=new.groupby('weekday')['Dominance'].count()\n",
    "#     dominance = weekday_dominance_sum/weekday_dominance_count\n",
    "    \n",
    "#     fig, ax = plt.subplots()\n",
    "#     index = np.arange(7)\n",
    "#     bar_width =0.5\n",
    "#     w = 0.35\n",
    "    \n",
    "#     ax.bar(index-w, valence.values-10, width=w, color='b', align='center',label=\"Valence\")\n",
    "#     ax.bar(index, arousal.values-10, width=w, color='g', align='center', label=\"Arousal\")\n",
    "#     ax.bar(index+w, dominance.values-10, width=w, color='r', align='center', label=\"Dominance\")\n",
    "\n",
    "#     ax.grid(False)\n",
    "#     plt.ylabel(\"VAD Scores (normalized)\")\n",
    "#     plt.xlabel(\"Day of the Week\")\n",
    "#     plt.xticks(index,list(weekday_valence_sum.index))\n",
    "#     plt.legend()\n",
    "#     plt.title('Valence, Arousal, and Dominance over typical Week ')\n",
    "#     fig.savefig(\"weekday.png\")\n",
    "#     plt.show()"
   ]
  },
  {
   "cell_type": "code",
   "execution_count": 42,
   "metadata": {},
   "outputs": [
    {
     "data": {
      "image/png": "[encoded data removed]",
      "text/plain": [
       "<Figure size 432x288 with 1 Axes>"
      ]
     },
     "metadata": {
      "needs_background": "light"
     },
     "output_type": "display_data"
    }
   ],
   "source": [
    "from utility import *\n",
    "plot_vad_weekday_scores(new)"
   ]
  },
  {
   "cell_type": "markdown",
   "metadata": {},
   "source": [
    "# NLTK Polarity Analysis"
   ]
  },
  {
   "cell_type": "code",
   "execution_count": null,
   "metadata": {},
   "outputs": [],
   "source": [
    "from nltk.sentiment.vader import SentimentIntensityAnalyzer"
   ]
  },
  {
   "cell_type": "code",
   "execution_count": null,
   "metadata": {},
   "outputs": [],
   "source": [
    "# # next, we initialize VADER so we can use it within our Python script\n",
    "# sid = SentimentIntensityAnalyzer()\n",
    "\n",
    "# # the variable 'message_text' now contains the text we will analyze.\n",
    "# message_text = '''Like you, I am getting very frustrated with this process. I am genuinely trying to be as reasonable as possible. I am not trying to \"hold up\" the deal at the last minute. I'm afraid that I am being asked to take a fairly large leap of faith after this company (I don't mean the two of you -- I mean Enron) has screwed me and the people who work for me.'''\n",
    "\n",
    "# print(message_text)\n",
    "\n",
    "# # Calling the polarity_scores method on sid and passing in the message_text outputs a dictionary with negative, neutral, positive, and compound scores for the input text\n",
    "# scores = sid.polarity_scores(message_text)\n",
    "\n",
    "# # Here we loop through the keys contained in scores (pos, neu, neg, and compound scores) and print the key-value pairs on the screen\n",
    "\n",
    "# for key in sorted(scores):\n",
    "#         print('{0}: {1}, '.format(key, scores[key]), end='')"
   ]
  },
  {
   "cell_type": "code",
   "execution_count": null,
   "metadata": {},
   "outputs": [],
   "source": [
    "# def compute_nltk_vader_scores(clean_content)   \n",
    "#     # next, we initialize VADER so we can use it within our Python script\n",
    "#     sid = SentimentIntensityAnalyzer()\n",
    "\n",
    "#     all_nltk_vader_scores = defaultdict(int)\n",
    "#     # clean_content = clean_comments[0].tolist()\n",
    "#     for i,note in tqdm(enumerate(clean_content)):\n",
    "#         scores = sid.polarity_scores(note)\n",
    "#         all_nltk_vader_scores[i] = np.array([scores['neg'],scores['neu'],scores['pos'],scores['compound']])\n",
    "\n",
    "#     output = open('all_nltk_vader_scores.pkl', 'wb')\n",
    "#     pickle.dump(all_nltk_vader_scores, output)\n",
    "#     output.close()\n",
    "#     return None"
   ]
  },
  {
   "cell_type": "code",
   "execution_count": null,
   "metadata": {},
   "outputs": [],
   "source": [
    "# output = open('all_nltk_vader_scores.pkl', 'wb')\n",
    "# pickle.dump(all_nltk_vader_scores, output)\n",
    "# output.close()"
   ]
  },
  {
   "cell_type": "code",
   "execution_count": null,
   "metadata": {},
   "outputs": [],
   "source": [
    "pkl_file = open('all_nltk_vader_scores.pkl', 'rb')\n",
    "all_nltk_vader_scores = pickle.load(pkl_file)\n",
    "pkl_file.close()"
   ]
  },
  {
   "cell_type": "code",
   "execution_count": null,
   "metadata": {},
   "outputs": [],
   "source": [
    "nltk_vader = pd.DataFrame.from_dict(all_nltk_vader_scores, orient='index', columns=['neg','neu','pos','compound'])\n",
    "nltk_vader.head()\n",
    "df = pd.concat([new,nltk_vader],axis=1)"
   ]
  },
  {
   "cell_type": "code",
   "execution_count": null,
   "metadata": {},
   "outputs": [],
   "source": [
    "df['hour']=confessions.timestamp.dt.strftime('%H')\n",
    "df.head()"
   ]
  },
  {
   "cell_type": "code",
   "execution_count": null,
   "metadata": {},
   "outputs": [],
   "source": [
    "df.to_csv(r'/Users/tyler/UCSD_Wellness/analysis/df_FULL_metrics.csv',index=False)"
   ]
  },
  {
   "cell_type": "markdown",
   "metadata": {},
   "source": [
    "## Graph Polarity Scores"
   ]
  },
  {
   "cell_type": "code",
   "execution_count": null,
   "metadata": {},
   "outputs": [],
   "source": [
    "hour_neg_sum=df.groupby('hour')['neg'].sum()\n",
    "hour_neg_count=df.groupby('hour')['neg'].count()\n",
    "neg = hour_neg_sum/hour_neg_count\n",
    "\n",
    "hour_pos_sum=df.groupby('hour')['pos'].sum()\n",
    "hour_pos_count=df.groupby('hour')['pos'].count()\n",
    "pos = hour_pos_sum/hour_pos_count\n",
    "\n",
    "hour_neu_sum=df.groupby('hour')['neu'].sum()\n",
    "hour_neu_count=df.groupby('hour')['neu'].count()\n",
    "neu = hour_neu_sum/hour_neu_count\n",
    "\n",
    "hour_compound_sum=df.groupby('hour')['compound'].sum()\n",
    "hour_compound_count=df.groupby('hour')['compound'].count()\n",
    "compound = hour_compound_sum/hour_compound_count\n",
    "\n",
    "\n"
   ]
  },
  {
   "cell_type": "code",
   "execution_count": null,
   "metadata": {},
   "outputs": [],
   "source": [
    "def plot_nltk_vader_scores(df):\n",
    "    \n",
    "    hour_neg_sum=df.groupby('hour')['neg'].sum()\n",
    "    hour_neg_count=df.groupby('hour')['neg'].count()\n",
    "    neg = hour_neg_sum/hour_neg_count\n",
    "\n",
    "    hour_pos_sum=df.groupby('hour')['pos'].sum()\n",
    "    hour_pos_count=df.groupby('hour')['pos'].count()\n",
    "    pos = hour_pos_sum/hour_pos_count\n",
    "\n",
    "    hour_neu_sum=df.groupby('hour')['neu'].sum()\n",
    "    hour_neu_count=df.groupby('hour')['neu'].count()\n",
    "    neu = hour_neu_sum/hour_neu_count\n",
    "\n",
    "    hour_compound_sum=df.groupby('hour')['compound'].sum()\n",
    "    hour_compound_count=df.groupby('hour')['compound'].count()\n",
    "    compound = hour_compound_sum/hour_compound_count\n",
    "    fig, ax = plt.subplots()\n",
    "    index = np.arange(24)\n",
    "    bar_width =0.5\n",
    "    w = 0.34\n",
    "    ax.bar(index+w, neg.values, width=w, color='r', align='center',label='negative')\n",
    "    # ax.bar(index-(w/2), neu.values, width=w, color='y', align='center')\n",
    "    ax.bar(index, compound.values, width=w, color='g', align='center',label='compound')\n",
    "    ax.bar(index-w, pos.values, width=w, color='b', align='center',label='positive')\n",
    "\n",
    "    # ax.bar(list(weekday_distri.index))\n",
    "    ax.grid(False)\n",
    "    # ax.set_xticklabels(np.arange(24))\n",
    "    plt.ylabel(\"VAD Polarity Scores (normalized)\")\n",
    "    plt.xlabel(\"Hour of the day\")\n",
    "    plt.xticks(np.arange(0,25, step=4))\n",
    "\n",
    "    # ax.grid(False)\n",
    "    # plt.xticks(index,list(compound.index))\n",
    "\n",
    "    plt.title('Polarity of Confessions Over 24 Hours')\n",
    "    plt.legend(loc=1, prop={'size':12 })\n",
    "    # plt.xticks(np.arange(12), calendar.month_name[1:13], rotation=20)\n",
    "    fig.savefig(\"weekday_nltk_vader.png\")\n",
    "    plt.show()"
   ]
  },
  {
   "cell_type": "code",
   "execution_count": null,
   "metadata": {},
   "outputs": [],
   "source": [
    "plot_nltk_vader_scores()"
   ]
  },
  {
   "cell_type": "markdown",
   "metadata": {},
   "source": [
    "## Filter DataFrame for detailed analysis"
   ]
  },
  {
   "cell_type": "markdown",
   "metadata": {},
   "source": [
    "### Compute statistics"
   ]
  },
  {
   "cell_type": "code",
   "execution_count": null,
   "metadata": {},
   "outputs": [],
   "source": [
    "avg_valence = df[['Valence']].mean(axis=0)\n",
    "avg_arousal = df[['Arousal']].mean(axis=0)\n",
    "avg_dominance = df[['Dominance']].mean(axis=0)\n",
    "print(avg_valence,avg_arousal,avg_dominance)\n",
    "\n",
    "avg_compound = df[['compound']].mean(axis=0)\n",
    "avg_pos = df[['pos']].mean(axis=0)"
   ]
  },
  {
   "cell_type": "code",
   "execution_count": null,
   "metadata": {},
   "outputs": [],
   "source": [
    "# df_neg = df[df['Dominance'] > avg_dominance[0]/2]\n",
    "df_FULL_neg = df[df['compound'] < 0]\n",
    "# df_neg= df_neg[df_neg['Valence'] < avg_valence[0]]\n",
    "# df_neg = df_neg[df_neg['#NEG'] > 0]"
   ]
  },
  {
   "cell_type": "code",
   "execution_count": null,
   "metadata": {},
   "outputs": [],
   "source": [
    "df_FULL_pos = df[df['compound'] > 0.5]"
   ]
  },
  {
   "cell_type": "code",
   "execution_count": null,
   "metadata": {},
   "outputs": [],
   "source": [
    "df_FULL_pos.to_csv(r'/Users/tyler/UCSD_Wellness/analysis/df_FULL_pos_filters.csv',index=False)"
   ]
  },
  {
   "cell_type": "code",
   "execution_count": null,
   "metadata": {},
   "outputs": [],
   "source": [
    "# test = pd.read_csv('df_neg_filters.csv')\n",
    "# test.head()"
   ]
  },
  {
   "cell_type": "code",
   "execution_count": null,
   "metadata": {},
   "outputs": [],
   "source": [
    "df_pos_by_compound = df[df['pos'] > avg_pos[0] ]\n",
    "df_pos= df_pos_by_compound[df_pos_by_compound['Valence'] > avg_valence[0]]\n",
    "df_pos = df_pos[df_pos['#POS'] > 3]"
   ]
  },
  {
   "cell_type": "code",
   "execution_count": null,
   "metadata": {},
   "outputs": [],
   "source": [
    "len(df_pos)"
   ]
  },
  {
   "cell_type": "code",
   "execution_count": null,
   "metadata": {},
   "outputs": [],
   "source": [
    "df_pos.to_csv(r'/Users/tyler/UCSD_Wellness/analysis/df_pos_filters.csv',index=False)"
   ]
  },
  {
   "cell_type": "markdown",
   "metadata": {},
   "source": [
    "# Train Word2Vec Model"
   ]
  },
  {
   "cell_type": "code",
   "execution_count": 50,
   "metadata": {},
   "outputs": [
    {
     "name": "stderr",
     "output_type": "stream",
     "text": [
      "[nltk_data] Downloading package vader_lexicon to\n",
      "[nltk_data]     /Users/tyler/nltk_data...\n",
      "[nltk_data]   Package vader_lexicon is already up-to-date!\n"
     ]
    }
   ],
   "source": [
    "from gensim.models.word2vec import LineSentence\n",
    "from nltk.corpus import subjectivity\n",
    "nltk.download('vader_lexicon')\n",
    "# first, we import the relevant modules from the NLTK library\n",
    "from nltk.sentiment.vader import SentimentIntensityAnalyzer"
   ]
  },
  {
   "cell_type": "code",
   "execution_count": 51,
   "metadata": {},
   "outputs": [],
   "source": [
    "def train_word2vec(csv_filename_string, num_f, min_wc, ctxt,ds):   \n",
    "    \n",
    "    start = time.time();\n",
    "    #Set the logging format to get some basic updates.\n",
    "    logging.basicConfig(format='%(asctime)s : %(levelname)s : %(message)s',\\\n",
    "        level=logging.INFO)\n",
    "    # Set values for various parameters\n",
    "    num_features = num_f;    # Dimensionality of the hidden layer representation\n",
    "    min_word_count = min_wc;   # Minimum word count to keep a word in the vocabulary\n",
    "    num_workers = multiprocessing.cpu_count();       # Number of threads to run in parallel set to total number of cpus.\n",
    "    context = ctxt       # Context window size (on each side)                                                       \n",
    "    downsampling = ds   # Downsample setting for frequent words\n",
    "    # Initialize and train the model. \n",
    "    #The LineSentence object allows us to pass in a file name directly as input to Word2Vec,\n",
    "    #instead of having to read it into memory first.\n",
    "    print(\"Training model...\");\n",
    "    model = word2vec.Word2Vec(LineSentence(csv_filename_string), workers=num_workers, \\\n",
    "                size=num_features, min_count = min_word_count, \\\n",
    "                window = context, sample = downsampling);\n",
    "    # We don't plan on training the model any further, so calling \n",
    "    # init_sims will make the model more memory efficient by normalizing the vectors in-place.\n",
    "    model.init_sims(replace=True);\n",
    "    # Save the model\n",
    "    model_name = \"model_\"+str(csv_filename_string);\n",
    "    model.save(model_name);\n",
    "    print('Total time: ' + str((time.time() - start)) + ' secs')\n",
    "    return model"
   ]
  },
  {
   "cell_type": "code",
   "execution_count": null,
   "metadata": {},
   "outputs": [],
   "source": []
  },
  {
   "cell_type": "code",
   "execution_count": 52,
   "metadata": {},
   "outputs": [
    {
     "name": "stderr",
     "output_type": "stream",
     "text": [
      "2019-12-06 15:36:55,391 : INFO : collecting all words and their counts\n",
      "2019-12-06 15:36:55,392 : INFO : PROGRESS: at sentence #0, processed 0 words, keeping 0 word types\n",
      "2019-12-06 15:36:55,573 : INFO : collected 22487 word types from a corpus of 562667 raw words and 8215 sentences\n",
      "2019-12-06 15:36:55,574 : INFO : Loading a fresh vocabulary\n",
      "2019-12-06 15:36:55,585 : INFO : effective_min_count=35 retains 1341 unique words (5% of original 22487, drops 21146)\n",
      "2019-12-06 15:36:55,586 : INFO : effective_min_count=35 leaves 485939 word corpus (86% of original 562667, drops 76728)\n",
      "2019-12-06 15:36:55,590 : INFO : deleting the raw counts dictionary of 22487 items\n",
      "2019-12-06 15:36:55,592 : INFO : sample=0.001 downsamples 70 most-common words\n"
     ]
    },
    {
     "name": "stdout",
     "output_type": "stream",
     "text": [
      "Training model...\n"
     ]
    },
    {
     "name": "stderr",
     "output_type": "stream",
     "text": [
      "2019-12-06 15:36:55,592 : INFO : downsampling leaves estimated 323394 word corpus (66.6% of prior 485939)\n",
      "2019-12-06 15:36:55,595 : INFO : estimated required memory for 1341 words and 100 dimensions: 1743300 bytes\n",
      "2019-12-06 15:36:55,596 : INFO : resetting layer weights\n",
      "2019-12-06 15:36:55,619 : INFO : training model with 8 workers on 1341 vocabulary and 100 features, using sg=0 hs=0 sample=0.001 negative=5 window=8\n",
      "2019-12-06 15:36:55,921 : INFO : worker thread finished; awaiting finish of 7 more threads\n",
      "2019-12-06 15:36:55,922 : INFO : worker thread finished; awaiting finish of 6 more threads\n",
      "2019-12-06 15:36:55,922 : INFO : worker thread finished; awaiting finish of 5 more threads\n",
      "2019-12-06 15:36:55,923 : INFO : worker thread finished; awaiting finish of 4 more threads\n",
      "2019-12-06 15:36:55,924 : INFO : worker thread finished; awaiting finish of 3 more threads\n",
      "2019-12-06 15:36:55,925 : INFO : worker thread finished; awaiting finish of 2 more threads\n",
      "2019-12-06 15:36:55,925 : INFO : worker thread finished; awaiting finish of 1 more threads\n",
      "2019-12-06 15:36:55,931 : INFO : worker thread finished; awaiting finish of 0 more threads\n",
      "2019-12-06 15:36:55,932 : INFO : EPOCH - 1 : training on 562667 raw words (323247 effective words) took 0.3s, 1046359 effective words/s\n",
      "2019-12-06 15:36:56,222 : INFO : worker thread finished; awaiting finish of 7 more threads\n",
      "2019-12-06 15:36:56,229 : INFO : worker thread finished; awaiting finish of 6 more threads\n",
      "2019-12-06 15:36:56,230 : INFO : worker thread finished; awaiting finish of 5 more threads\n",
      "2019-12-06 15:36:56,230 : INFO : worker thread finished; awaiting finish of 4 more threads\n",
      "2019-12-06 15:36:56,231 : INFO : worker thread finished; awaiting finish of 3 more threads\n",
      "2019-12-06 15:36:56,236 : INFO : worker thread finished; awaiting finish of 2 more threads\n",
      "2019-12-06 15:36:56,239 : INFO : worker thread finished; awaiting finish of 1 more threads\n",
      "2019-12-06 15:36:56,241 : INFO : worker thread finished; awaiting finish of 0 more threads\n",
      "2019-12-06 15:36:56,241 : INFO : EPOCH - 2 : training on 562667 raw words (323686 effective words) took 0.3s, 1060784 effective words/s\n",
      "2019-12-06 15:36:56,567 : INFO : worker thread finished; awaiting finish of 7 more threads\n",
      "2019-12-06 15:36:56,574 : INFO : worker thread finished; awaiting finish of 6 more threads\n",
      "2019-12-06 15:36:56,582 : INFO : worker thread finished; awaiting finish of 5 more threads\n",
      "2019-12-06 15:36:56,585 : INFO : worker thread finished; awaiting finish of 4 more threads\n",
      "2019-12-06 15:36:56,587 : INFO : worker thread finished; awaiting finish of 3 more threads\n",
      "2019-12-06 15:36:56,589 : INFO : worker thread finished; awaiting finish of 2 more threads\n",
      "2019-12-06 15:36:56,598 : INFO : worker thread finished; awaiting finish of 1 more threads\n",
      "2019-12-06 15:36:56,600 : INFO : worker thread finished; awaiting finish of 0 more threads\n",
      "2019-12-06 15:36:56,601 : INFO : EPOCH - 3 : training on 562667 raw words (323223 effective words) took 0.4s, 908223 effective words/s\n",
      "2019-12-06 15:36:56,937 : INFO : worker thread finished; awaiting finish of 7 more threads\n",
      "2019-12-06 15:36:56,938 : INFO : worker thread finished; awaiting finish of 6 more threads\n",
      "2019-12-06 15:36:56,940 : INFO : worker thread finished; awaiting finish of 5 more threads\n",
      "2019-12-06 15:36:56,941 : INFO : worker thread finished; awaiting finish of 4 more threads\n",
      "2019-12-06 15:36:56,942 : INFO : worker thread finished; awaiting finish of 3 more threads\n",
      "2019-12-06 15:36:56,944 : INFO : worker thread finished; awaiting finish of 2 more threads\n",
      "2019-12-06 15:36:56,945 : INFO : worker thread finished; awaiting finish of 1 more threads\n",
      "2019-12-06 15:36:56,948 : INFO : worker thread finished; awaiting finish of 0 more threads\n",
      "2019-12-06 15:36:56,949 : INFO : EPOCH - 4 : training on 562667 raw words (323285 effective words) took 0.3s, 945995 effective words/s\n",
      "2019-12-06 15:36:57,268 : INFO : worker thread finished; awaiting finish of 7 more threads\n",
      "2019-12-06 15:36:57,269 : INFO : worker thread finished; awaiting finish of 6 more threads\n",
      "2019-12-06 15:36:57,272 : INFO : worker thread finished; awaiting finish of 5 more threads\n",
      "2019-12-06 15:36:57,273 : INFO : worker thread finished; awaiting finish of 4 more threads\n",
      "2019-12-06 15:36:57,279 : INFO : worker thread finished; awaiting finish of 3 more threads\n",
      "2019-12-06 15:36:57,282 : INFO : worker thread finished; awaiting finish of 2 more threads\n",
      "2019-12-06 15:36:57,284 : INFO : worker thread finished; awaiting finish of 1 more threads\n",
      "2019-12-06 15:36:57,286 : INFO : worker thread finished; awaiting finish of 0 more threads\n",
      "2019-12-06 15:36:57,287 : INFO : EPOCH - 5 : training on 562667 raw words (323768 effective words) took 0.3s, 976258 effective words/s\n",
      "2019-12-06 15:36:57,288 : INFO : training on a 2813335 raw words (1617209 effective words) took 1.7s, 969534 effective words/s\n",
      "2019-12-06 15:36:57,289 : INFO : precomputing L2-norms of word weight vectors\n",
      "2019-12-06 15:36:57,292 : INFO : saving Word2Vec object under model_extra_clean_comments.csv, separately None\n",
      "2019-12-06 15:36:57,293 : INFO : not storing attribute vectors_norm\n",
      "2019-12-06 15:36:57,294 : INFO : not storing attribute cum_table\n",
      "2019-12-06 15:36:57,312 : INFO : saved model_extra_clean_comments.csv\n"
     ]
    },
    {
     "name": "stdout",
     "output_type": "stream",
     "text": [
      "Total time: 1.9228191375732422 secs\n"
     ]
    }
   ],
   "source": [
    "num_features = 100    # Dimensionality of the hidden layer representation\n",
    "min_word_count = 35\n",
    "context = 8\n",
    "downsampling = 1e-3\n",
    "model = train_word2vec('extra_clean_comments.csv', num_features,min_word_count,context,downsampling)"
   ]
  },
  {
   "cell_type": "code",
   "execution_count": 53,
   "metadata": {},
   "outputs": [
    {
     "name": "stdout",
     "output_type": "stream",
     "text": [
      "(100,)\n"
     ]
    },
    {
     "name": "stderr",
     "output_type": "stream",
     "text": [
      "/Users/tyler/anaconda3/lib/python3.7/site-packages/ipykernel_launcher.py:1: DeprecationWarning: Call to deprecated `syn0` (Attribute will be removed in 4.0.0, use self.vectors instead).\n",
      "  \"\"\"Entry point for launching an IPython kernel.\n"
     ]
    },
    {
     "data": {
      "text/plain": [
       "array([-0.12106933, -0.03347975, -0.14837995, -0.06364352,  0.16307262,\n",
       "       -0.02011654, -0.05920289,  0.06699333, -0.10713728,  0.02049798,\n",
       "        0.13423522,  0.01571414, -0.047854  , -0.1529832 ,  0.10560788,\n",
       "       -0.0114307 , -0.00810273,  0.06048943,  0.06468853,  0.05156519,\n",
       "       -0.0328604 , -0.10021412,  0.08107006, -0.14669292, -0.10169958,\n",
       "       -0.05087617, -0.01787493, -0.0625774 ,  0.02453608, -0.04903829,\n",
       "       -0.12037465,  0.02927306, -0.10858527,  0.03217845, -0.00402699,\n",
       "       -0.14156614, -0.04277106, -0.06978119, -0.16017197, -0.10985563,\n",
       "       -0.01397812, -0.18825729,  0.07511324, -0.14373744,  0.05219794,\n",
       "        0.07205795,  0.00218111,  0.10772806, -0.01114591,  0.0920764 ,\n",
       "       -0.0221346 , -0.0617753 , -0.20395216, -0.1032783 , -0.24772748,\n",
       "       -0.04636723, -0.09510434, -0.18396294,  0.00306312,  0.288231  ,\n",
       "        0.18890938, -0.04122413, -0.05593376, -0.03058082, -0.16454609,\n",
       "        0.04911413, -0.05330642, -0.02659083, -0.09414594, -0.0527729 ,\n",
       "        0.02084789, -0.02934155, -0.0530882 , -0.0720199 ,  0.03211667,\n",
       "        0.02598774, -0.0470034 , -0.14477429, -0.08474071,  0.11910609,\n",
       "        0.07499477, -0.15832807, -0.02016401,  0.10704336,  0.12217691,\n",
       "       -0.03269967, -0.04289735,  0.03812668,  0.02963712,  0.07705611,\n",
       "       -0.02545593,  0.00250103,  0.11587229, -0.21528405,  0.19738102,\n",
       "       -0.11891622, -0.00861241,  0.13172758, -0.11906566,  0.0425603 ],\n",
       "      dtype=float32)"
      ]
     },
     "execution_count": 53,
     "metadata": {},
     "output_type": "execute_result"
    }
   ],
   "source": [
    "Z = model.wv.syn0;\n",
    "print(Z[0].shape)\n",
    "Z[0]"
   ]
  },
  {
   "cell_type": "markdown",
   "metadata": {},
   "source": [
    "# Cluster, Generate Word Clouds"
   ]
  },
  {
   "cell_type": "code",
   "execution_count": 54,
   "metadata": {},
   "outputs": [],
   "source": [
    "# def clustering_on_wordvecs(word_vectors, num_clusters):\n",
    "#     print(type(word_vectors))\n",
    "#     print(type(num_clusters))\n",
    "#     # Initalize a k-means object and use it to extract centroids\n",
    "#     kmeans_clustering = KMeans(n_clusters = num_clusters, init='k-means++');\n",
    "#     idx = kmeans_clustering.fit_predict(word_vectors);\n",
    "    \n",
    "#     return kmeans_clustering.cluster_centers_, idx;"
   ]
  },
  {
   "cell_type": "code",
   "execution_count": 60,
   "metadata": {},
   "outputs": [],
   "source": [
    "# def get_top_words(index2word, k, centers, wordvecs):\n",
    "#     print(type(index2word))\n",
    "#     print(type(k))\n",
    "#     print(type(centers))\n",
    "#     print(type(wordvecs))\n",
    "#     tree = KDTree(wordvecs);\n",
    "# #Closest points for each Cluster center is used to query the closest 20 points to it.\n",
    "#     closest_points = [tree.query(np.reshape(x, (1, -1)), k=k) for x in centers];\n",
    "#     closest_words_idxs = [x[1] for x in closest_points];\n",
    "# #Word Index is queried for each position in the above array, and added to a Dictionary.\n",
    "#     closest_words = {};\n",
    "#     for i in range(0, len(closest_words_idxs)):\n",
    "#         closest_words['Cluster #' + str(i)] = [index2word[j] for j in closest_words_idxs[i][0]]\n",
    "# #A DataFrame is generated from the dictionary.\n",
    "#     print(closest_words['Cluster #0'])\n",
    "#     df = pd.DataFrame(closest_words);\n",
    "#     df.index = df.index+1\n",
    "#     return df;"
   ]
  },
  {
   "cell_type": "code",
   "execution_count": null,
   "metadata": {},
   "outputs": [],
   "source": []
  },
  {
   "cell_type": "code",
   "execution_count": 63,
   "metadata": {},
   "outputs": [],
   "source": [
    "def display_cloud(cluster_num, cmap, label=None):\n",
    "    print(cluster_num)\n",
    "    print(type(cluster_num))\n",
    "    print(type(cmap))\n",
    "    wc = WordCloud(background_color=\"white\", max_words=200, max_font_size=80, colormap=cmap);\n",
    "    wordcloud = wc.generate(' '.join([word for word in top_words['Cluster #' + str(cluster_num)]]))\n",
    "    plt.imshow(wordcloud, interpolation='bilinear')\n",
    "    plt.axis(\"off\")\n",
    "    plt.savefig(label+ '_cluster_' + str(cluster_num), bbox_inches='tight')"
   ]
  },
  {
   "cell_type": "code",
   "execution_count": 64,
   "metadata": {},
   "outputs": [
    {
     "name": "stdout",
     "output_type": "stream",
     "text": [
      "<class 'numpy.ndarray'>\n",
      "<class 'int'>\n",
      "<class 'list'>\n",
      "<class 'int'>\n",
      "<class 'numpy.ndarray'>\n",
      "<class 'numpy.ndarray'>\n",
      "[\"mind']\", 'instagram', 'legit', 'lesbian', 'offer', 'note', 'killing', 'pressure', 'freaking', \"friends']\", 'pictures', 'death', 'photos', 'brain', 'opportunity', 'voice', \"['honestly\", \"now']\", 'rush', 'triton', 'speaking', \"shit']\", 'poor', 'power', 'mess', \"here']\", 'apparently', 'hearing', \"['in\", 'drive']\n"
     ]
    },
    {
     "name": "stderr",
     "output_type": "stream",
     "text": [
      "/Users/tyler/anaconda3/lib/python3.7/site-packages/sklearn/metrics/pairwise.py:276: RuntimeWarning: invalid value encountered in maximum\n",
      "  np.maximum(distances, 0, out=distances)\n",
      "/Users/tyler/anaconda3/lib/python3.7/site-packages/sklearn/metrics/pairwise.py:276: RuntimeWarning: invalid value encountered in maximum\n",
      "  np.maximum(distances, 0, out=distances)\n",
      "/Users/tyler/anaconda3/lib/python3.7/site-packages/sklearn/metrics/pairwise.py:276: RuntimeWarning: invalid value encountered in maximum\n",
      "  np.maximum(distances, 0, out=distances)\n",
      "/Users/tyler/anaconda3/lib/python3.7/site-packages/sklearn/cluster/k_means_.py:625: RuntimeWarning: invalid value encountered in multiply\n",
      "  inertia = (mindist * sample_weight).sum()\n",
      "/Users/tyler/anaconda3/lib/python3.7/site-packages/sklearn/metrics/pairwise.py:276: RuntimeWarning: invalid value encountered in maximum\n",
      "  np.maximum(distances, 0, out=distances)\n",
      "/Users/tyler/anaconda3/lib/python3.7/site-packages/sklearn/metrics/pairwise.py:276: RuntimeWarning: invalid value encountered in maximum\n",
      "  np.maximum(distances, 0, out=distances)\n",
      "/Users/tyler/anaconda3/lib/python3.7/site-packages/sklearn/metrics/pairwise.py:276: RuntimeWarning: invalid value encountered in maximum\n",
      "  np.maximum(distances, 0, out=distances)\n",
      "/Users/tyler/anaconda3/lib/python3.7/site-packages/numpy/core/_methods.py:36: RuntimeWarning: overflow encountered in reduce\n",
      "  return umr_sum(a, axis, dtype, out, keepdims, initial)\n",
      "/Users/tyler/anaconda3/lib/python3.7/site-packages/numpy/core/_methods.py:36: RuntimeWarning: overflow encountered in reduce\n",
      "  return umr_sum(a, axis, dtype, out, keepdims, initial)\n"
     ]
    }
   ],
   "source": [
    "centers, clusters = clustering_on_wordvecs(Z, 1);\n",
    "centroid_map = dict(zip(model.wv.index2word, clusters));\n",
    "top_words = get_top_words(model.wv.index2word, 30, centers, Z);\n",
    "\n",
    "\n",
    "# temp = list(top_words['Cluster #0']).remove('sometimes')\n",
    "# print(temp)"
   ]
  },
  {
   "cell_type": "code",
   "execution_count": 65,
   "metadata": {},
   "outputs": [],
   "source": [
    "# 'flag', 'prism', 'ocean', 'gist_earth', 'terrain', 'gist_stern',\n",
    "#             'gnuplot', 'gnuplot2', 'CMRmap', 'cubehelix', 'brg', 'hsv',\n",
    "#             'gist_rainbow', 'rainbow', 'jet', 'nipy_spectral', 'gist_ncar'"
   ]
  },
  {
   "cell_type": "code",
   "execution_count": 66,
   "metadata": {
    "scrolled": true
   },
   "outputs": [
    {
     "name": "stdout",
     "output_type": "stream",
     "text": [
      "rainbow\n",
      "0\n",
      "<class 'int'>\n",
      "<class 'str'>\n"
     ]
    },
    {
     "data": {
      "image/png": "[encoded data removed]",
      "text/plain": [
       "<Figure size 432x288 with 1 Axes>"
      ]
     },
     "metadata": {
      "needs_background": "light"
     },
     "output_type": "display_data"
    }
   ],
   "source": [
    "cmaps = 'rainbow'\n",
    "for i in range(1):\n",
    "    col = cmaps;\n",
    "    print(col)\n",
    "    display_cloud(i, col, label='total')"
   ]
  },
  {
   "cell_type": "markdown",
   "metadata": {},
   "source": [
    "# Analyze Word Similarities"
   ]
  },
  {
   "cell_type": "code",
   "execution_count": null,
   "metadata": {},
   "outputs": [],
   "source": []
  },
  {
   "cell_type": "code",
   "execution_count": 72,
   "metadata": {},
   "outputs": [],
   "source": [
    "def get_word_table(table, key, sim_key='similarity', show_sim = True):\n",
    "\n",
    "    if show_sim == True:\n",
    "        return pd.DataFrame(table, columns=[key, sim_key])\n",
    "    else:\n",
    "        return pd.DataFrame(table, columns=[key, sim_key])[key]"
   ]
  },
  {
   "cell_type": "code",
   "execution_count": 73,
   "metadata": {},
   "outputs": [],
   "source": [
    "keys = ['stressed','sad','relationship','school' ];\n",
    "tables = [];\n",
    "for key in keys:\n",
    "    tables.append(get_word_table(model.wv.similar_by_word(key), key, show_sim=False))\n",
    "    \n",
    "similarity_table = pd.concat(tables, axis=1)\n"
   ]
  },
  {
   "cell_type": "code",
   "execution_count": 71,
   "metadata": {},
   "outputs": [
    {
     "data": {
      "text/html": [
       "<div>\n",
       "<style scoped>\n",
       "    .dataframe tbody tr th:only-of-type {\n",
       "        vertical-align: middle;\n",
       "    }\n",
       "\n",
       "    .dataframe tbody tr th {\n",
       "        vertical-align: top;\n",
       "    }\n",
       "\n",
       "    .dataframe thead th {\n",
       "        text-align: right;\n",
       "    }\n",
       "</style>\n",
       "<table border=\"1\" class=\"dataframe\">\n",
       "  <thead>\n",
       "    <tr style=\"text-align: right;\">\n",
       "      <th></th>\n",
       "      <th>stressed</th>\n",
       "      <th>sad</th>\n",
       "      <th>relationship</th>\n",
       "      <th>school</th>\n",
       "    </tr>\n",
       "  </thead>\n",
       "  <tbody>\n",
       "    <tr>\n",
       "      <th>0</th>\n",
       "      <td>anxious</td>\n",
       "      <td>insecure</td>\n",
       "      <td>boyfriend</td>\n",
       "      <td>high</td>\n",
       "    </tr>\n",
       "    <tr>\n",
       "      <th>1</th>\n",
       "      <td>broken</td>\n",
       "      <td>awkward</td>\n",
       "      <td>feelings</td>\n",
       "      <td>classes</td>\n",
       "    </tr>\n",
       "    <tr>\n",
       "      <th>2</th>\n",
       "      <td>accepted</td>\n",
       "      <td>bad</td>\n",
       "      <td>feeling</td>\n",
       "      <td>college</td>\n",
       "    </tr>\n",
       "    <tr>\n",
       "      <th>3</th>\n",
       "      <td>potential</td>\n",
       "      <td>feeling</td>\n",
       "      <td>lost</td>\n",
       "      <td>gpa</td>\n",
       "    </tr>\n",
       "    <tr>\n",
       "      <th>4</th>\n",
       "      <td>now']</td>\n",
       "      <td>happy</td>\n",
       "      <td>fwb</td>\n",
       "      <td>year</td>\n",
       "    </tr>\n",
       "    <tr>\n",
       "      <th>5</th>\n",
       "      <td>struggling</td>\n",
       "      <td>scared</td>\n",
       "      <td>now</td>\n",
       "      <td>quarter</td>\n",
       "    </tr>\n",
       "    <tr>\n",
       "      <th>6</th>\n",
       "      <td>negative</td>\n",
       "      <td>guilty</td>\n",
       "      <td>sex</td>\n",
       "      <td>depression</td>\n",
       "    </tr>\n",
       "    <tr>\n",
       "      <th>7</th>\n",
       "      <td>guilty</td>\n",
       "      <td>nervous</td>\n",
       "      <td>having</td>\n",
       "      <td>years</td>\n",
       "    </tr>\n",
       "    <tr>\n",
       "      <th>8</th>\n",
       "      <td>confused</td>\n",
       "      <td>worried</td>\n",
       "      <td>realized</td>\n",
       "      <td>past</td>\n",
       "    </tr>\n",
       "    <tr>\n",
       "      <th>9</th>\n",
       "      <td>friendships</td>\n",
       "      <td>depressed</td>\n",
       "      <td>distance</td>\n",
       "      <td>anxiety</td>\n",
       "    </tr>\n",
       "  </tbody>\n",
       "</table>\n",
       "</div>"
      ],
      "text/plain": [
       "      stressed        sad relationship      school\n",
       "0      anxious   insecure    boyfriend        high\n",
       "1       broken    awkward     feelings     classes\n",
       "2     accepted        bad      feeling     college\n",
       "3    potential    feeling         lost         gpa\n",
       "4        now']      happy          fwb        year\n",
       "5   struggling     scared          now     quarter\n",
       "6     negative     guilty          sex  depression\n",
       "7       guilty    nervous       having       years\n",
       "8     confused    worried     realized        past\n",
       "9  friendships  depressed     distance     anxiety"
      ]
     },
     "execution_count": 71,
     "metadata": {},
     "output_type": "execute_result"
    }
   ],
   "source": [
    "similarity_table"
   ]
  },
  {
   "cell_type": "code",
   "execution_count": null,
   "metadata": {},
   "outputs": [],
   "source": [
    "similarity_table.to_csv(r'/Users/tyler/UCSD_Wellness/analysis/Final_total_similarity_sample.csv',index=False)"
   ]
  },
  {
   "cell_type": "code",
   "execution_count": 76,
   "metadata": {},
   "outputs": [],
   "source": [
    "\n",
    "def compute_similarity_scores(confession, tags):\n",
    "    \"\"\"\"\"\n",
    "     \n",
    "     :param confession: message to compute similarities to tags\n",
    "     :type confession: str\n",
    "     :param tags: keywords for comparison\n",
    "     :type tags: list of str\n",
    "     :returns: dictionary of array len(tags)\n",
    "     \"\"\"\n",
    "    assert isinstance(confession, str)\n",
    "    assert isinstance(tags, list)\n",
    "    similarity_scores = {}\n",
    "    words = confession.split()\n",
    "\n",
    "    for i, word in enumerate(words):\n",
    "    #         print(word)\n",
    "    #         if str(word) not in model.wv.vocab:\n",
    "    #             words = words.remove(word)\n",
    "    #             print(confession)\n",
    "\n",
    "        try:\n",
    "            sim = [model.wv.similarity(str(word),tag) for tag in tags]\n",
    "            similarity_scores[i] = sim\n",
    "        except:\n",
    "#             print('Error')\n",
    "            similarity_scores[i] = list([0,0,0,0])\n",
    "    \n",
    "    return similarity_scores\n",
    "\n",
    "        \n",
    "    \n",
    "#create dict for similarity scores of each word in the confession to each top_10 words for the tags"
   ]
  },
  {
   "cell_type": "code",
   "execution_count": 77,
   "metadata": {},
   "outputs": [],
   "source": [
    "def generate_tag_suggestions(scores, tags):\n",
    "    \"\"\"\"\"\n",
    "     \n",
    "     :param scores: similarities to  tags\n",
    "     :type scores: dictionary\n",
    "     :param tags: keywords for comparison\n",
    "     :type tags: list of str\n",
    "     :returns: dictionary of array len(tags)\n",
    "     \"\"\"\n",
    "    assert isinstance(scores,dict)\n",
    "    assert isinstance(tags,list)\n",
    "    \n",
    "    results = []\n",
    "    for key, value in similarity_scores.items():\n",
    "        for i, sim in enumerate(value):\n",
    "             if sim > 0.75:\n",
    "                results.append(tags[i])\n",
    "                \n",
    "    return results\n",
    "        "
   ]
  },
  {
   "cell_type": "markdown",
   "metadata": {},
   "source": [
    "# Proof of Concept: Auto-Tag Suggestion\n",
    "\n",
    "### computes similarities of all words in the confession to every tag, thresholds to select candidates"
   ]
  },
  {
   "cell_type": "code",
   "execution_count": 80,
   "metadata": {},
   "outputs": [],
   "source": [
    "## Define tags, load in new confession to be tagged.\n",
    "tags = ['stressed','sad','relationship','school' ]\n",
    "confession = \"I am having a really rough day, my girl just dumped with me, AND I failed an exam.\""
   ]
  },
  {
   "cell_type": "code",
   "execution_count": 81,
   "metadata": {},
   "outputs": [
    {
     "name": "stdout",
     "output_type": "stream",
     "text": [
      "['sad']\n"
     ]
    }
   ],
   "source": [
    "similarity_scores = compute_similarity_scores(confession, tags)\n",
    "suggest_tags = generate_tag_suggestions(similarity_scores, tags)\n",
    "print(suggest_tags)"
   ]
  },
  {
   "cell_type": "code",
   "execution_count": null,
   "metadata": {},
   "outputs": [],
   "source": []
  }
 ],
 "metadata": {
  "kernelspec": {
   "display_name": "Python 3",
   "language": "python",
   "name": "python3"
  },
  "language_info": {
   "codemirror_mode": {
    "name": "ipython",
    "version": 3
   },
   "file_extension": ".py",
   "mimetype": "text/x-python",
   "name": "python",
   "nbconvert_exporter": "python",
   "pygments_lexer": "ipython3",
   "version": "3.7.1"
  }
 },
 "nbformat": 4,
 "nbformat_minor": 2
}
