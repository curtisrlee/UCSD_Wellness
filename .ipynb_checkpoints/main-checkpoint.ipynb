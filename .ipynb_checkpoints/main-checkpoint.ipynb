{
 "cells": [
  {
   "cell_type": "markdown",
   "metadata": {},
   "source": [
    "# UCSD Confessions"
   ]
  },
  {
   "cell_type": "code",
   "execution_count": 1,
   "metadata": {},
   "outputs": [],
   "source": [
    "# supress warnings\n",
    "import warnings\n",
    "warnings.simplefilter(action='ignore', category=FutureWarning)\n",
    "import pandas as pd\n",
    "pd.options.mode.chained_assignment = None  # default='warn'"
   ]
  },
  {
   "cell_type": "markdown",
   "metadata": {},
   "source": [
    "## Loading Dataset"
   ]
  },
  {
   "cell_type": "code",
   "execution_count": 2,
   "metadata": {},
   "outputs": [
    {
     "data": {
      "text/html": [
       "<div>\n",
       "<style scoped>\n",
       "    .dataframe tbody tr th:only-of-type {\n",
       "        vertical-align: middle;\n",
       "    }\n",
       "\n",
       "    .dataframe tbody tr th {\n",
       "        vertical-align: top;\n",
       "    }\n",
       "\n",
       "    .dataframe thead th {\n",
       "        text-align: right;\n",
       "    }\n",
       "</style>\n",
       "<table border=\"1\" class=\"dataframe\">\n",
       "  <thead>\n",
       "    <tr style=\"text-align: right;\">\n",
       "      <th></th>\n",
       "      <th>id</th>\n",
       "      <th>content</th>\n",
       "      <th>contact</th>\n",
       "      <th>tags</th>\n",
       "      <th>note</th>\n",
       "      <th>comment</th>\n",
       "    </tr>\n",
       "    <tr>\n",
       "      <th>timestamp</th>\n",
       "      <th></th>\n",
       "      <th></th>\n",
       "      <th></th>\n",
       "      <th></th>\n",
       "      <th></th>\n",
       "      <th></th>\n",
       "    </tr>\n",
       "  </thead>\n",
       "  <tbody>\n",
       "    <tr>\n",
       "      <td>2018-10-22 16:02:47.236</td>\n",
       "      <td>6001</td>\n",
       "      <td>can y’all tag your friends with cute dogs that...</td>\n",
       "      <td>NaN</td>\n",
       "      <td>NaN</td>\n",
       "      <td>NaN</td>\n",
       "      <td>NaN</td>\n",
       "    </tr>\n",
       "    <tr>\n",
       "      <td>2018-10-22 16:33:13.204</td>\n",
       "      <td>6002</td>\n",
       "      <td>why do i get chills or an adrenaline rush when...</td>\n",
       "      <td>NaN</td>\n",
       "      <td>NaN</td>\n",
       "      <td>NaN</td>\n",
       "      <td>NaN</td>\n",
       "    </tr>\n",
       "    <tr>\n",
       "      <td>2018-10-22 17:02:03.596</td>\n",
       "      <td>6003</td>\n",
       "      <td>yo anyone else remember that confession where ...</td>\n",
       "      <td>NaN</td>\n",
       "      <td>NaN</td>\n",
       "      <td>NaN</td>\n",
       "      <td>NaN</td>\n",
       "    </tr>\n",
       "    <tr>\n",
       "      <td>2018-10-22 17:08:51.309</td>\n",
       "      <td>6004</td>\n",
       "      <td>I wish I had a sugar daddy</td>\n",
       "      <td>NaN</td>\n",
       "      <td>NaN</td>\n",
       "      <td>NaN</td>\n",
       "      <td>NaN</td>\n",
       "    </tr>\n",
       "    <tr>\n",
       "      <td>2018-10-22 17:35:54.654</td>\n",
       "      <td>6005</td>\n",
       "      <td>Jaime, stop shitting into my shoes, I know tha...</td>\n",
       "      <td>NaN</td>\n",
       "      <td>NaN</td>\n",
       "      <td>NaN</td>\n",
       "      <td>NaN</td>\n",
       "    </tr>\n",
       "    <tr>\n",
       "      <td>...</td>\n",
       "      <td>...</td>\n",
       "      <td>...</td>\n",
       "      <td>...</td>\n",
       "      <td>...</td>\n",
       "      <td>...</td>\n",
       "      <td>...</td>\n",
       "    </tr>\n",
       "    <tr>\n",
       "      <td>2019-10-10 19:10:20.000</td>\n",
       "      <td>14438</td>\n",
       "      <td>To the person who was playing the trumpet outs...</td>\n",
       "      <td>NaN</td>\n",
       "      <td>wholesome</td>\n",
       "      <td>NaN</td>\n",
       "      <td>NaN</td>\n",
       "    </tr>\n",
       "    <tr>\n",
       "      <td>2019-10-11 15:58:00.000</td>\n",
       "      <td>14439</td>\n",
       "      <td>Just out of curiosity, on a scale of one to te...</td>\n",
       "      <td>NaN</td>\n",
       "      <td>NaN</td>\n",
       "      <td>NaN</td>\n",
       "      <td>NaN</td>\n",
       "    </tr>\n",
       "    <tr>\n",
       "      <td>2019-10-11 17:03:50.000</td>\n",
       "      <td>14440</td>\n",
       "      <td>There is an abnormal amount of hot girls that ...</td>\n",
       "      <td>NaN</td>\n",
       "      <td>NaN</td>\n",
       "      <td>NaN</td>\n",
       "      <td>NaN</td>\n",
       "    </tr>\n",
       "    <tr>\n",
       "      <td>2019-10-12 13:22:03.000</td>\n",
       "      <td>14441</td>\n",
       "      <td>If I never met you, I would never have gotten ...</td>\n",
       "      <td>NaN</td>\n",
       "      <td>serious</td>\n",
       "      <td>NaN</td>\n",
       "      <td>NaN</td>\n",
       "    </tr>\n",
       "    <tr>\n",
       "      <td>2019-10-12 17:05:24.000</td>\n",
       "      <td>14442</td>\n",
       "      <td>I’m super excited for homecoming next weekend ...</td>\n",
       "      <td>NaN</td>\n",
       "      <td>NaN</td>\n",
       "      <td>NaN</td>\n",
       "      <td>NaN</td>\n",
       "    </tr>\n",
       "  </tbody>\n",
       "</table>\n",
       "<p>9093 rows × 6 columns</p>\n",
       "</div>"
      ],
      "text/plain": [
       "                            id  \\\n",
       "timestamp                        \n",
       "2018-10-22 16:02:47.236   6001   \n",
       "2018-10-22 16:33:13.204   6002   \n",
       "2018-10-22 17:02:03.596   6003   \n",
       "2018-10-22 17:08:51.309   6004   \n",
       "2018-10-22 17:35:54.654   6005   \n",
       "...                        ...   \n",
       "2019-10-10 19:10:20.000  14438   \n",
       "2019-10-11 15:58:00.000  14439   \n",
       "2019-10-11 17:03:50.000  14440   \n",
       "2019-10-12 13:22:03.000  14441   \n",
       "2019-10-12 17:05:24.000  14442   \n",
       "\n",
       "                                                                   content  \\\n",
       "timestamp                                                                    \n",
       "2018-10-22 16:02:47.236  can y’all tag your friends with cute dogs that...   \n",
       "2018-10-22 16:33:13.204  why do i get chills or an adrenaline rush when...   \n",
       "2018-10-22 17:02:03.596  yo anyone else remember that confession where ...   \n",
       "2018-10-22 17:08:51.309                        I wish I had a sugar daddy    \n",
       "2018-10-22 17:35:54.654  Jaime, stop shitting into my shoes, I know tha...   \n",
       "...                                                                    ...   \n",
       "2019-10-10 19:10:20.000  To the person who was playing the trumpet outs...   \n",
       "2019-10-11 15:58:00.000  Just out of curiosity, on a scale of one to te...   \n",
       "2019-10-11 17:03:50.000  There is an abnormal amount of hot girls that ...   \n",
       "2019-10-12 13:22:03.000  If I never met you, I would never have gotten ...   \n",
       "2019-10-12 17:05:24.000  I’m super excited for homecoming next weekend ...   \n",
       "\n",
       "                        contact       tags note comment  \n",
       "timestamp                                                \n",
       "2018-10-22 16:02:47.236     NaN        NaN  NaN     NaN  \n",
       "2018-10-22 16:33:13.204     NaN        NaN  NaN     NaN  \n",
       "2018-10-22 17:02:03.596     NaN        NaN  NaN     NaN  \n",
       "2018-10-22 17:08:51.309     NaN        NaN  NaN     NaN  \n",
       "2018-10-22 17:35:54.654     NaN        NaN  NaN     NaN  \n",
       "...                         ...        ...  ...     ...  \n",
       "2019-10-10 19:10:20.000     NaN  wholesome  NaN     NaN  \n",
       "2019-10-11 15:58:00.000     NaN        NaN  NaN     NaN  \n",
       "2019-10-11 17:03:50.000     NaN        NaN  NaN     NaN  \n",
       "2019-10-12 13:22:03.000     NaN    serious  NaN     NaN  \n",
       "2019-10-12 17:05:24.000     NaN        NaN  NaN     NaN  \n",
       "\n",
       "[9093 rows x 6 columns]"
      ]
     },
     "execution_count": 2,
     "metadata": {},
     "output_type": "execute_result"
    }
   ],
   "source": [
    "#import data loader modules\n",
    "from code.load_data import load_data\n",
    "from code.load_data import load_calendar\n",
    "from code.load_data import load_corpus\n",
    "\n",
    "# load data\n",
    "df_main = load_data()\n",
    "calendar = load_calendar()\n",
    "\n",
    "# verify it loaded properly\n",
    "df_main"
   ]
  },
  {
   "cell_type": "markdown",
   "metadata": {},
   "source": [
    "## Tag Analysis"
   ]
  },
  {
   "cell_type": "code",
   "execution_count": 3,
   "metadata": {
    "scrolled": true
   },
   "outputs": [],
   "source": [
    "from code.tag import preprocess_data as tag_preprocess\n",
    "from code.tag import tag_plot\n",
    "from code.tag import tag_num_plot\n",
    "\n",
    "# compute tag information\n",
    "df_tags=tag_preprocess(df_main.copy())"
   ]
  },
  {
   "cell_type": "code",
   "execution_count": 4,
   "metadata": {},
   "outputs": [
    {
     "data": {
      "image/png": "[encoded data removed]",
      "text/plain": [
       "<Figure size 432x216 with 1 Axes>"
      ]
     },
     "metadata": {},
     "output_type": "display_data"
    }
   ],
   "source": [
    "# plot tag number pie chart\n",
    "tag_num_plot(df_tags)"
   ]
  },
  {
   "cell_type": "code",
   "execution_count": 5,
   "metadata": {},
   "outputs": [
    {
     "data": {
      "image/png": "[encoded data removed]",
      "text/plain": [
       "<Figure size 1008x288 with 1 Axes>"
      ]
     },
     "metadata": {
      "needs_background": "light"
     },
     "output_type": "display_data"
    }
   ],
   "source": [
    "# plot tag type frequency\n",
    "tag_plot(df_tags)"
   ]
  },
  {
   "cell_type": "markdown",
   "metadata": {},
   "source": [
    "## Sentiment Analysis"
   ]
  },
  {
   "cell_type": "code",
   "execution_count": 6,
   "metadata": {
    "scrolled": true
   },
   "outputs": [
    {
     "ename": "NameError",
     "evalue": "name 'confessions' is not defined",
     "output_type": "error",
     "traceback": [
      "\u001b[1;31m---------------------------------------------------------------------------\u001b[0m",
      "\u001b[1;31mFileNotFoundError\u001b[0m                         Traceback (most recent call last)",
      "\u001b[1;32m<ipython-input-6-da6bc90926d3>\u001b[0m in \u001b[0;36m<module>\u001b[1;34m\u001b[0m\n\u001b[0;32m      8\u001b[0m \u001b[1;32mtry\u001b[0m\u001b[1;33m:\u001b[0m\u001b[1;33m\u001b[0m\u001b[1;33m\u001b[0m\u001b[0m\n\u001b[1;32m----> 9\u001b[1;33m     \u001b[0msentiments_of_word\u001b[0m\u001b[1;33m,\u001b[0m \u001b[0mconfessions\u001b[0m \u001b[1;33m=\u001b[0m \u001b[0mpickle\u001b[0m\u001b[1;33m.\u001b[0m\u001b[0mload\u001b[0m\u001b[1;33m(\u001b[0m \u001b[0mopen\u001b[0m\u001b[1;33m(\u001b[0m \u001b[1;34m'sentiments_cache.dat'\u001b[0m\u001b[1;33m,\u001b[0m \u001b[1;34m\"rb\"\u001b[0m \u001b[1;33m)\u001b[0m \u001b[1;33m)\u001b[0m\u001b[1;33m\u001b[0m\u001b[1;33m\u001b[0m\u001b[0m\n\u001b[0m\u001b[0;32m     10\u001b[0m \u001b[1;32mexcept\u001b[0m \u001b[0mFileNotFoundError\u001b[0m\u001b[1;33m:\u001b[0m\u001b[1;33m\u001b[0m\u001b[1;33m\u001b[0m\u001b[0m\n",
      "\u001b[1;31mFileNotFoundError\u001b[0m: [Errno 2] No such file or directory: 'sentiments_cache.dat'",
      "\nDuring handling of the above exception, another exception occurred:\n",
      "\u001b[1;31mNameError\u001b[0m                                 Traceback (most recent call last)",
      "\u001b[1;32m<ipython-input-6-da6bc90926d3>\u001b[0m in \u001b[0;36m<module>\u001b[1;34m\u001b[0m\n\u001b[0;32m     12\u001b[0m     \u001b[0msentiments_of_word\u001b[0m \u001b[1;33m=\u001b[0m \u001b[0mload_sentiment_dict\u001b[0m\u001b[1;33m(\u001b[0m\u001b[1;33m)\u001b[0m\u001b[1;33m\u001b[0m\u001b[1;33m\u001b[0m\u001b[0m\n\u001b[0;32m     13\u001b[0m     \u001b[0mdf_sentiment\u001b[0m \u001b[1;33m=\u001b[0m \u001b[0msentiment_preprocess\u001b[0m\u001b[1;33m(\u001b[0m\u001b[0msentiments_of_word\u001b[0m\u001b[1;33m,\u001b[0m \u001b[0mdf_main\u001b[0m\u001b[1;33m.\u001b[0m\u001b[0mcopy\u001b[0m\u001b[1;33m(\u001b[0m\u001b[1;33m)\u001b[0m\u001b[1;33m)\u001b[0m\u001b[1;33m\u001b[0m\u001b[1;33m\u001b[0m\u001b[0m\n\u001b[1;32m---> 14\u001b[1;33m     \u001b[0mpickle\u001b[0m\u001b[1;33m.\u001b[0m\u001b[0mdump\u001b[0m\u001b[1;33m(\u001b[0m \u001b[1;33m(\u001b[0m\u001b[0msentiments_of_word\u001b[0m\u001b[1;33m,\u001b[0m \u001b[0mconfessions\u001b[0m\u001b[1;33m)\u001b[0m\u001b[1;33m,\u001b[0m \u001b[0mopen\u001b[0m\u001b[1;33m(\u001b[0m \u001b[1;34m'sentiments_cache.dat'\u001b[0m\u001b[1;33m,\u001b[0m \u001b[1;34m\"wb\"\u001b[0m \u001b[1;33m)\u001b[0m \u001b[1;33m)\u001b[0m\u001b[1;33m\u001b[0m\u001b[1;33m\u001b[0m\u001b[0m\n\u001b[0m",
      "\u001b[1;31mNameError\u001b[0m: name 'confessions' is not defined"
     ]
    }
   ],
   "source": [
    "from code.sentiment import pre_process as sentiment_preprocess\n",
    "from code.sentiment import load_sentiment_dict\n",
    "from code.sentiment import neg_pos_plot\n",
    "from code.sentiment import sentiment_plot\n",
    "from code.sentiment import weekday_diff_senti_plot\n",
    "\n",
    "import pickle\n",
    "try:\n",
    "    # use a pickle cache to save time\n",
    "    sentiments_of_word, df_sentiment = pickle.load( open( 'sentiments_cache.dat', \"rb\" ) )\n",
    "except FileNotFoundError:\n",
    "    # compute sentiment information\n",
    "    sentiments_of_word = load_sentiment_dict()\n",
    "    df_sentiment = sentiment_preprocess(sentiments_of_word, df_main.copy())\n",
    "    pickle.dump( (sentiments_of_word, confessions), open( 'sentiments_cache.dat', \"wb\" ) )"
   ]
  },
  {
   "cell_type": "code",
   "execution_count": null,
   "metadata": {},
   "outputs": [],
   "source": [
    "# plot negative vs positive confessions\n",
    "neg_pos_plot(df_sentiment)"
   ]
  },
  {
   "cell_type": "code",
   "execution_count": null,
   "metadata": {},
   "outputs": [],
   "source": [
    "# plot frequency of various sentiments\n",
    "sentiment_plot(df_sentiment)"
   ]
  },
  {
   "cell_type": "code",
   "execution_count": null,
   "metadata": {},
   "outputs": [],
   "source": [
    "# plot progression of sentiments across weekdays\n",
    "weekday_diff_senti_plot(df_sentiment)"
   ]
  },
  {
   "cell_type": "markdown",
   "metadata": {},
   "source": [
    "## Finding Trends and Applications"
   ]
  },
  {
   "cell_type": "code",
   "execution_count": null,
   "metadata": {},
   "outputs": [],
   "source": [
    "from code.dist import plot_custom\n",
    "from code.dist import submissions_over_time\n",
    "from code.quarters import hist_hourly_quarter_edges\n",
    "from code.quarters import hist_hourly_weekday_weekend\n",
    "from code.quarters import keywords_over_quarters\n",
    "\n",
    "df_trend = df_main.copy()"
   ]
  },
  {
   "cell_type": "markdown",
   "metadata": {},
   "source": [
    "### Total Submission History"
   ]
  },
  {
   "cell_type": "code",
   "execution_count": null,
   "metadata": {},
   "outputs": [],
   "source": [
    "# plot total submissions over time\n",
    "dist_total = submissions_over_time(df_trend, file='output/submission_history', show=True)"
   ]
  },
  {
   "cell_type": "markdown",
   "metadata": {},
   "source": [
    "### Sleep Patterns over Quarter System"
   ]
  },
  {
   "cell_type": "code",
   "execution_count": null,
   "metadata": {},
   "outputs": [],
   "source": [
    "# plot hourly distribution for different parts of the quarter\n",
    "hist_comb = hist_hourly_quarter_edges(df_trend, calendar, span=3)\n",
    "plot_custom(hist_comb, 'line', \n",
    "            title='Hourly Submissions During Start vs End of Quarter', \n",
    "            file='output/hist_hourly_quarter_edges', xlabel='Hour', ylabel='Count',\n",
    "            colors=['tab:green', 'tab:red'])"
   ]
  },
  {
   "cell_type": "code",
   "execution_count": null,
   "metadata": {},
   "outputs": [],
   "source": [
    "# plot hourly distribution for different parts of the week\n",
    "plot_custom(hist_comb, 'line', \n",
    "            title='Hourly Submissions Over the Weekdays', \n",
    "            file='output/hist_hourly_weekday_weeked', xlabel='Hour', ylabel='Count',\n",
    "            colors=['tab:red', 'tab:green'],\n",
    "            show=False)"
   ]
  },
  {
   "cell_type": "markdown",
   "metadata": {},
   "source": [
    "### Trending Topics over Quarter System"
   ]
  },
  {
   "cell_type": "code",
   "execution_count": null,
   "metadata": {},
   "outputs": [],
   "source": [
    "# individual corpus analysis plot\n",
    "stress_words = load_corpus('data/stress_corpus.txt')\n",
    "df_result = keywords_over_quarters(stress_words, calendar, df_trend, \n",
    "                title='Stress & Depression over typical Quarter', \n",
    "                file='output/plot_stress',\n",
    "                colors=['lightgrey', 'tab:red', 'tab:green'],\n",
    "                show=False)"
   ]
  },
  {
   "cell_type": "code",
   "execution_count": null,
   "metadata": {},
   "outputs": [],
   "source": [
    "# individual corpus analysis plot\n",
    "thirst_words = load_corpus('data/thirst_corpus.txt')\n",
    "df_result = keywords_over_quarters(thirst_words, calendar, df_trend, \n",
    "                title='Romantic Attraction over typical Quarter', \n",
    "                file='output/plot_thirst',\n",
    "                colors=['lightgrey', 'tab:purple'],\n",
    "                show=False)"
   ]
  },
  {
   "cell_type": "code",
   "execution_count": null,
   "metadata": {},
   "outputs": [],
   "source": []
  },
  {
   "cell_type": "code",
   "execution_count": null,
   "metadata": {},
   "outputs": [],
   "source": []
  },
  {
   "cell_type": "code",
   "execution_count": null,
   "metadata": {},
   "outputs": [],
   "source": []
  }
 ],
 "metadata": {
  "kernelspec": {
   "display_name": "Python 3",
   "language": "python",
   "name": "python3"
  },
  "language_info": {
   "codemirror_mode": {
    "name": "ipython",
    "version": 3
   },
   "file_extension": ".py",
   "mimetype": "text/x-python",
   "name": "python",
   "nbconvert_exporter": "python",
   "pygments_lexer": "ipython3",
   "version": "3.7.4"
  }
 },
 "nbformat": 4,
 "nbformat_minor": 2
}
