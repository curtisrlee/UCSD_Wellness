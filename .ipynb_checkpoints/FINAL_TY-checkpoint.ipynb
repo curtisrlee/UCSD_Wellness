{
 "cells": [
  {
   "cell_type": "markdown",
   "metadata": {},
   "source": [
    "# Import utilities module"
   ]
  },
  {
   "cell_type": "code",
   "execution_count": 1,
   "metadata": {},
   "outputs": [
    {
     "name": "stderr",
     "output_type": "stream",
     "text": [
      "[nltk_data] Downloading package vader_lexicon to\n",
      "[nltk_data]     /Users/tyler/nltk_data...\n",
      "[nltk_data]   Package vader_lexicon is already up-to-date!\n",
      "[nltk_data] Downloading package opinion_lexicon to\n",
      "[nltk_data]     /Users/tyler/nltk_data...\n",
      "[nltk_data]   Package opinion_lexicon is already up-to-date!\n",
      "[nltk_data] Downloading package stopwords to /Users/tyler/nltk_data...\n",
      "[nltk_data]   Package stopwords is already up-to-date!\n",
      "[nltk_data] Downloading package punkt to /Users/tyler/nltk_data...\n",
      "[nltk_data]   Package punkt is already up-to-date!\n",
      "[nltk_data] Downloading package averaged_perceptron_tagger to\n",
      "[nltk_data]     /Users/tyler/nltk_data...\n",
      "[nltk_data]   Package averaged_perceptron_tagger is already up-to-\n",
      "[nltk_data]       date!\n"
     ]
    }
   ],
   "source": [
    "from utility import *\n",
    "%matplotlib inline"
   ]
  },
  {
   "cell_type": "markdown",
   "metadata": {},
   "source": [
    "## Load and preprocess confessions dataset"
   ]
  },
  {
   "cell_type": "code",
   "execution_count": 2,
   "metadata": {},
   "outputs": [],
   "source": [
    "path = '/Users/tyler/UCSD_Wellness/analysis/Final_Tyler/data/data1.csv'\n",
    "confessions=pd.read_csv(path)"
   ]
  },
  {
   "cell_type": "code",
   "execution_count": 3,
   "metadata": {},
   "outputs": [
    {
     "data": {
      "text/html": [
       "<div>\n",
       "<style scoped>\n",
       "    .dataframe tbody tr th:only-of-type {\n",
       "        vertical-align: middle;\n",
       "    }\n",
       "\n",
       "    .dataframe tbody tr th {\n",
       "        vertical-align: top;\n",
       "    }\n",
       "\n",
       "    .dataframe thead th {\n",
       "        text-align: right;\n",
       "    }\n",
       "</style>\n",
       "<table border=\"1\" class=\"dataframe\">\n",
       "  <thead>\n",
       "    <tr style=\"text-align: right;\">\n",
       "      <th></th>\n",
       "      <th>id</th>\n",
       "      <th>timestamp</th>\n",
       "      <th>content</th>\n",
       "      <th>contact</th>\n",
       "      <th>tags</th>\n",
       "      <th>note</th>\n",
       "      <th>weekday</th>\n",
       "    </tr>\n",
       "  </thead>\n",
       "  <tbody>\n",
       "    <tr>\n",
       "      <th>0</th>\n",
       "      <td>14442</td>\n",
       "      <td>2019-10-12 17:05:24</td>\n",
       "      <td>I’m super excited for homecoming next weekend ...</td>\n",
       "      <td>NaN</td>\n",
       "      <td>NaN</td>\n",
       "      <td>NaN</td>\n",
       "      <td>Sat</td>\n",
       "    </tr>\n",
       "    <tr>\n",
       "      <th>1</th>\n",
       "      <td>14441</td>\n",
       "      <td>2019-10-12 13:22:03</td>\n",
       "      <td>If I never met you, I would never have gotten ...</td>\n",
       "      <td>NaN</td>\n",
       "      <td>serious</td>\n",
       "      <td>NaN</td>\n",
       "      <td>Sat</td>\n",
       "    </tr>\n",
       "    <tr>\n",
       "      <th>2</th>\n",
       "      <td>14440</td>\n",
       "      <td>2019-10-11 17:03:50</td>\n",
       "      <td>There is an abnormal amount of hot girls that ...</td>\n",
       "      <td>NaN</td>\n",
       "      <td>NaN</td>\n",
       "      <td>NaN</td>\n",
       "      <td>Fri</td>\n",
       "    </tr>\n",
       "    <tr>\n",
       "      <th>3</th>\n",
       "      <td>14439</td>\n",
       "      <td>2019-10-11 15:58:00</td>\n",
       "      <td>Just out of curiosity, on a scale of one to te...</td>\n",
       "      <td>NaN</td>\n",
       "      <td>NaN</td>\n",
       "      <td>NaN</td>\n",
       "      <td>Fri</td>\n",
       "    </tr>\n",
       "    <tr>\n",
       "      <th>4</th>\n",
       "      <td>14438</td>\n",
       "      <td>2019-10-10 19:10:20</td>\n",
       "      <td>To the person who was playing the trumpet outs...</td>\n",
       "      <td>NaN</td>\n",
       "      <td>wholesome</td>\n",
       "      <td>NaN</td>\n",
       "      <td>Thu</td>\n",
       "    </tr>\n",
       "  </tbody>\n",
       "</table>\n",
       "</div>"
      ],
      "text/plain": [
       "      id           timestamp  \\\n",
       "0  14442 2019-10-12 17:05:24   \n",
       "1  14441 2019-10-12 13:22:03   \n",
       "2  14440 2019-10-11 17:03:50   \n",
       "3  14439 2019-10-11 15:58:00   \n",
       "4  14438 2019-10-10 19:10:20   \n",
       "\n",
       "                                             content contact       tags note  \\\n",
       "0  I’m super excited for homecoming next weekend ...     NaN        NaN  NaN   \n",
       "1  If I never met you, I would never have gotten ...     NaN    serious  NaN   \n",
       "2  There is an abnormal amount of hot girls that ...     NaN        NaN  NaN   \n",
       "3  Just out of curiosity, on a scale of one to te...     NaN        NaN  NaN   \n",
       "4  To the person who was playing the trumpet outs...     NaN  wholesome  NaN   \n",
       "\n",
       "  weekday  \n",
       "0     Sat  \n",
       "1     Sat  \n",
       "2     Fri  \n",
       "3     Fri  \n",
       "4     Thu  "
      ]
     },
     "execution_count": 3,
     "metadata": {},
     "output_type": "execute_result"
    }
   ],
   "source": [
    "confessions['timestamp']=pd.to_datetime(confessions.timestamp)\n",
    "confessions['weekday']=confessions.timestamp.dt.strftime('%a')\n",
    "confessions['weekday']=pd.Categorical(confessions['weekday'],categories=['Mon','Tue','Wed','Thu','Fri','Sat','Sun'],ordered=True)\n",
    "\n",
    "confessions.head()"
   ]
  },
  {
   "cell_type": "code",
   "execution_count": 4,
   "metadata": {},
   "outputs": [
    {
     "name": "stdout",
     "output_type": "stream",
     "text": [
      "Total time: 0.8407697677612305 secs\n"
     ]
    }
   ],
   "source": [
    "start = time.time();\n",
    "clean_text(confessions['content'], './data/extra_clean_comments.txt')\n",
    "print('Total time: ' + str((time.time() - start)) + ' secs')"
   ]
  },
  {
   "cell_type": "code",
   "execution_count": 5,
   "metadata": {},
   "outputs": [],
   "source": [
    "extra_clean_txt_file = r\"./data/extra_clean_comments.txt\"\n",
    "extra_clean_csv_file = r\"extra_clean_comments.csv\""
   ]
  },
  {
   "cell_type": "code",
   "execution_count": 6,
   "metadata": {},
   "outputs": [],
   "source": [
    "clean_confessions = txt_to_csv(extra_clean_txt_file, extra_clean_csv_file, header=None)\n",
    "clean_content = clean_confessions[0].tolist()"
   ]
  },
  {
   "cell_type": "markdown",
   "metadata": {},
   "source": [
    "# Load pos/neg lexicon"
   ]
  },
  {
   "cell_type": "code",
   "execution_count": 7,
   "metadata": {},
   "outputs": [],
   "source": [
    "# This takes a while to run, load in the result in the cell below\n",
    "# compute_pos_neg_scores(clean_content)"
   ]
  },
  {
   "cell_type": "code",
   "execution_count": 8,
   "metadata": {},
   "outputs": [],
   "source": [
    "pkl_file = open('pn_lex_score.pkl', 'rb')\n",
    "pn_lex_score = pickle.load(pkl_file)\n",
    "pkl_file.close()"
   ]
  },
  {
   "cell_type": "code",
   "execution_count": 9,
   "metadata": {},
   "outputs": [],
   "source": [
    "temp = pd.DataFrame.from_dict(pn_lex_score, orient='index', columns=['#POS', '#NEG'])\n",
    "new_1 = pd.concat([confessions,temp],axis=1)"
   ]
  },
  {
   "cell_type": "markdown",
   "metadata": {},
   "source": [
    "## Load in VAD analysis"
   ]
  },
  {
   "cell_type": "code",
   "execution_count": 10,
   "metadata": {},
   "outputs": [],
   "source": [
    "#setup vars for VAD lexicon load\n",
    "vad_text_file = r\"./data/NRC-VAD-Lexicon.txt\"\n",
    "vad_csv_file = r\"vad_lex.csv\"\n",
    "vad_lex = txt_to_csv(vad_text_file, vad_csv_file, header=0)"
   ]
  },
  {
   "cell_type": "code",
   "execution_count": 11,
   "metadata": {},
   "outputs": [],
   "source": [
    "# This takes a while to run, load in the result in the cell below\n",
    "# compute_VAD_scores(clean_content, vad_lex)"
   ]
  },
  {
   "cell_type": "code",
   "execution_count": 12,
   "metadata": {},
   "outputs": [],
   "source": [
    "import pickle\n",
    "import pandas as pd\n",
    "pkl_file = open('all_VAD_scores.pkl', 'rb')\n",
    "all_VAD_scores = pickle.load(pkl_file)\n",
    "pkl_file.close()"
   ]
  },
  {
   "cell_type": "code",
   "execution_count": 13,
   "metadata": {},
   "outputs": [],
   "source": [
    "temp_VAD = pd.DataFrame.from_dict(all_VAD_scores, orient='index', columns=['Valence','Arousal','Dominance'])\n",
    "new = pd.concat([new_1,temp_VAD],axis=1)"
   ]
  },
  {
   "cell_type": "markdown",
   "metadata": {},
   "source": [
    "# Load nltk Vader analysis"
   ]
  },
  {
   "cell_type": "code",
   "execution_count": 14,
   "metadata": {},
   "outputs": [],
   "source": [
    "# This takes a while to run, load in the result in the cell below\n",
    "# compute_nltk_vader_scores(clean_content)"
   ]
  },
  {
   "cell_type": "code",
   "execution_count": 15,
   "metadata": {},
   "outputs": [],
   "source": [
    "pkl_file = open('all_nltk_vader_scores.pkl', 'rb')\n",
    "all_nltk_vader_scores = pickle.load(pkl_file)\n",
    "pkl_file.close()"
   ]
  },
  {
   "cell_type": "code",
   "execution_count": 16,
   "metadata": {},
   "outputs": [
    {
     "data": {
      "text/html": [
       "<div>\n",
       "<style scoped>\n",
       "    .dataframe tbody tr th:only-of-type {\n",
       "        vertical-align: middle;\n",
       "    }\n",
       "\n",
       "    .dataframe tbody tr th {\n",
       "        vertical-align: top;\n",
       "    }\n",
       "\n",
       "    .dataframe thead th {\n",
       "        text-align: right;\n",
       "    }\n",
       "</style>\n",
       "<table border=\"1\" class=\"dataframe\">\n",
       "  <thead>\n",
       "    <tr style=\"text-align: right;\">\n",
       "      <th></th>\n",
       "      <th>id</th>\n",
       "      <th>timestamp</th>\n",
       "      <th>content</th>\n",
       "      <th>contact</th>\n",
       "      <th>tags</th>\n",
       "      <th>note</th>\n",
       "      <th>weekday</th>\n",
       "      <th>#POS</th>\n",
       "      <th>#NEG</th>\n",
       "      <th>Valence</th>\n",
       "      <th>Arousal</th>\n",
       "      <th>Dominance</th>\n",
       "      <th>neg</th>\n",
       "      <th>neu</th>\n",
       "      <th>pos</th>\n",
       "      <th>compound</th>\n",
       "      <th>hour</th>\n",
       "    </tr>\n",
       "  </thead>\n",
       "  <tbody>\n",
       "    <tr>\n",
       "      <th>0</th>\n",
       "      <td>14442</td>\n",
       "      <td>2019-10-12 17:05:24</td>\n",
       "      <td>I’m super excited for homecoming next weekend ...</td>\n",
       "      <td>NaN</td>\n",
       "      <td>NaN</td>\n",
       "      <td>NaN</td>\n",
       "      <td>Sat</td>\n",
       "      <td>6.0</td>\n",
       "      <td>1.0</td>\n",
       "      <td>12.933</td>\n",
       "      <td>16.362</td>\n",
       "      <td>7.857</td>\n",
       "      <td>0.107</td>\n",
       "      <td>0.597</td>\n",
       "      <td>0.295</td>\n",
       "      <td>0.9397</td>\n",
       "      <td>17</td>\n",
       "    </tr>\n",
       "    <tr>\n",
       "      <th>1</th>\n",
       "      <td>14441</td>\n",
       "      <td>2019-10-12 13:22:03</td>\n",
       "      <td>If I never met you, I would never have gotten ...</td>\n",
       "      <td>NaN</td>\n",
       "      <td>serious</td>\n",
       "      <td>NaN</td>\n",
       "      <td>Sat</td>\n",
       "      <td>4.0</td>\n",
       "      <td>6.0</td>\n",
       "      <td>28.600</td>\n",
       "      <td>34.980</td>\n",
       "      <td>15.510</td>\n",
       "      <td>0.103</td>\n",
       "      <td>0.754</td>\n",
       "      <td>0.143</td>\n",
       "      <td>0.8731</td>\n",
       "      <td>13</td>\n",
       "    </tr>\n",
       "    <tr>\n",
       "      <th>2</th>\n",
       "      <td>14440</td>\n",
       "      <td>2019-10-11 17:03:50</td>\n",
       "      <td>There is an abnormal amount of hot girls that ...</td>\n",
       "      <td>NaN</td>\n",
       "      <td>NaN</td>\n",
       "      <td>NaN</td>\n",
       "      <td>Fri</td>\n",
       "      <td>3.0</td>\n",
       "      <td>1.0</td>\n",
       "      <td>4.270</td>\n",
       "      <td>4.900</td>\n",
       "      <td>4.370</td>\n",
       "      <td>0.000</td>\n",
       "      <td>0.757</td>\n",
       "      <td>0.243</td>\n",
       "      <td>0.7269</td>\n",
       "      <td>17</td>\n",
       "    </tr>\n",
       "    <tr>\n",
       "      <th>3</th>\n",
       "      <td>14439</td>\n",
       "      <td>2019-10-11 15:58:00</td>\n",
       "      <td>Just out of curiosity, on a scale of one to te...</td>\n",
       "      <td>NaN</td>\n",
       "      <td>NaN</td>\n",
       "      <td>NaN</td>\n",
       "      <td>Fri</td>\n",
       "      <td>0.0</td>\n",
       "      <td>0.0</td>\n",
       "      <td>3.080</td>\n",
       "      <td>3.256</td>\n",
       "      <td>2.304</td>\n",
       "      <td>0.000</td>\n",
       "      <td>0.950</td>\n",
       "      <td>0.050</td>\n",
       "      <td>0.0258</td>\n",
       "      <td>15</td>\n",
       "    </tr>\n",
       "    <tr>\n",
       "      <th>4</th>\n",
       "      <td>14438</td>\n",
       "      <td>2019-10-10 19:10:20</td>\n",
       "      <td>To the person who was playing the trumpet outs...</td>\n",
       "      <td>NaN</td>\n",
       "      <td>wholesome</td>\n",
       "      <td>NaN</td>\n",
       "      <td>Thu</td>\n",
       "      <td>3.0</td>\n",
       "      <td>0.0</td>\n",
       "      <td>5.610</td>\n",
       "      <td>3.036</td>\n",
       "      <td>5.335</td>\n",
       "      <td>0.000</td>\n",
       "      <td>0.759</td>\n",
       "      <td>0.241</td>\n",
       "      <td>0.9072</td>\n",
       "      <td>19</td>\n",
       "    </tr>\n",
       "  </tbody>\n",
       "</table>\n",
       "</div>"
      ],
      "text/plain": [
       "      id           timestamp  \\\n",
       "0  14442 2019-10-12 17:05:24   \n",
       "1  14441 2019-10-12 13:22:03   \n",
       "2  14440 2019-10-11 17:03:50   \n",
       "3  14439 2019-10-11 15:58:00   \n",
       "4  14438 2019-10-10 19:10:20   \n",
       "\n",
       "                                             content contact       tags note  \\\n",
       "0  I’m super excited for homecoming next weekend ...     NaN        NaN  NaN   \n",
       "1  If I never met you, I would never have gotten ...     NaN    serious  NaN   \n",
       "2  There is an abnormal amount of hot girls that ...     NaN        NaN  NaN   \n",
       "3  Just out of curiosity, on a scale of one to te...     NaN        NaN  NaN   \n",
       "4  To the person who was playing the trumpet outs...     NaN  wholesome  NaN   \n",
       "\n",
       "  weekday  #POS  #NEG  Valence  Arousal  Dominance    neg    neu    pos  \\\n",
       "0     Sat   6.0   1.0   12.933   16.362      7.857  0.107  0.597  0.295   \n",
       "1     Sat   4.0   6.0   28.600   34.980     15.510  0.103  0.754  0.143   \n",
       "2     Fri   3.0   1.0    4.270    4.900      4.370  0.000  0.757  0.243   \n",
       "3     Fri   0.0   0.0    3.080    3.256      2.304  0.000  0.950  0.050   \n",
       "4     Thu   3.0   0.0    5.610    3.036      5.335  0.000  0.759  0.241   \n",
       "\n",
       "   compound hour  \n",
       "0    0.9397   17  \n",
       "1    0.8731   13  \n",
       "2    0.7269   17  \n",
       "3    0.0258   15  \n",
       "4    0.9072   19  "
      ]
     },
     "execution_count": 16,
     "metadata": {},
     "output_type": "execute_result"
    }
   ],
   "source": [
    "nltk_vader = pd.DataFrame.from_dict(all_nltk_vader_scores, orient='index', columns=['neg','neu','pos','compound'])\n",
    "nltk_vader.head()\n",
    "df = pd.concat([new,nltk_vader],axis=1)\n",
    "\n",
    "df['hour']=confessions.timestamp.dt.strftime('%H')\n",
    "df.head()"
   ]
  },
  {
   "cell_type": "code",
   "execution_count": 17,
   "metadata": {},
   "outputs": [],
   "source": [
    "df.to_csv(r'/Users/tyler/UCSD_Wellness/analysis/df_FULL_metrics.csv',index=False)"
   ]
  },
  {
   "cell_type": "markdown",
   "metadata": {},
   "source": [
    "## Visualize VAD Scores across Week"
   ]
  },
  {
   "cell_type": "code",
   "execution_count": 18,
   "metadata": {},
   "outputs": [
    {
     "data": {
      "image/png": "[encoded data removed]",
      "text/plain": [
       "<Figure size 432x288 with 1 Axes>"
      ]
     },
     "metadata": {
      "needs_background": "light"
     },
     "output_type": "display_data"
    }
   ],
   "source": [
    "plot_vad_weekday_scores(new)"
   ]
  },
  {
   "cell_type": "markdown",
   "metadata": {},
   "source": [
    "# Visualize nltk Vader across Week"
   ]
  },
  {
   "cell_type": "code",
   "execution_count": 19,
   "metadata": {},
   "outputs": [
    {
     "data": {
      "image/png": "[encoded data removed]",
      "text/plain": [
       "<Figure size 432x288 with 1 Axes>"
      ]
     },
     "metadata": {
      "needs_background": "light"
     },
     "output_type": "display_data"
    }
   ],
   "source": [
    "plot_nltk_vader_scores(df)"
   ]
  },
  {
   "cell_type": "markdown",
   "metadata": {},
   "source": [
    "# Create pos/neg filtered dataframes"
   ]
  },
  {
   "cell_type": "code",
   "execution_count": 20,
   "metadata": {},
   "outputs": [],
   "source": [
    "df_pos = df[df['compound'] > 0]\n",
    "df_pos.to_csv(r'/Users/tyler/UCSD_Wellness/analysis/df_pos_filters.csv',index=False)"
   ]
  },
  {
   "cell_type": "code",
   "execution_count": 21,
   "metadata": {},
   "outputs": [],
   "source": [
    "df_neg = df[df['compound'] < 0]\n",
    "df_neg.to_csv(r'/Users/tyler/UCSD_Wellness/analysis/df_neg_filters.csv',index=False)"
   ]
  },
  {
   "cell_type": "markdown",
   "metadata": {},
   "source": [
    "## Train a Word2Vec Model"
   ]
  },
  {
   "cell_type": "code",
   "execution_count": 22,
   "metadata": {},
   "outputs": [
    {
     "name": "stderr",
     "output_type": "stream",
     "text": [
      "2019-12-06 17:27:20,925 : INFO : collecting all words and their counts\n",
      "2019-12-06 17:27:20,926 : INFO : PROGRESS: at sentence #0, processed 0 words, keeping 0 word types\n",
      "2019-12-06 17:27:21,094 : INFO : collected 22487 word types from a corpus of 562667 raw words and 8215 sentences\n",
      "2019-12-06 17:27:21,095 : INFO : Loading a fresh vocabulary\n",
      "2019-12-06 17:27:21,104 : INFO : effective_min_count=35 retains 1341 unique words (5% of original 22487, drops 21146)\n",
      "2019-12-06 17:27:21,106 : INFO : effective_min_count=35 leaves 485939 word corpus (86% of original 562667, drops 76728)\n",
      "2019-12-06 17:27:21,111 : INFO : deleting the raw counts dictionary of 22487 items\n",
      "2019-12-06 17:27:21,113 : INFO : sample=0.001 downsamples 70 most-common words\n",
      "2019-12-06 17:27:21,114 : INFO : downsampling leaves estimated 323394 word corpus (66.6% of prior 485939)\n",
      "2019-12-06 17:27:21,119 : INFO : estimated required memory for 1341 words and 100 dimensions: 1743300 bytes\n",
      "2019-12-06 17:27:21,120 : INFO : resetting layer weights\n"
     ]
    },
    {
     "name": "stdout",
     "output_type": "stream",
     "text": [
      "Training model...\n"
     ]
    },
    {
     "name": "stderr",
     "output_type": "stream",
     "text": [
      "2019-12-06 17:27:21,149 : INFO : training model with 8 workers on 1341 vocabulary and 100 features, using sg=0 hs=0 sample=0.001 negative=5 window=8\n",
      "2019-12-06 17:27:21,422 : INFO : worker thread finished; awaiting finish of 7 more threads\n",
      "2019-12-06 17:27:21,427 : INFO : worker thread finished; awaiting finish of 6 more threads\n",
      "2019-12-06 17:27:21,428 : INFO : worker thread finished; awaiting finish of 5 more threads\n",
      "2019-12-06 17:27:21,429 : INFO : worker thread finished; awaiting finish of 4 more threads\n",
      "2019-12-06 17:27:21,430 : INFO : worker thread finished; awaiting finish of 3 more threads\n",
      "2019-12-06 17:27:21,433 : INFO : worker thread finished; awaiting finish of 2 more threads\n",
      "2019-12-06 17:27:21,436 : INFO : worker thread finished; awaiting finish of 1 more threads\n",
      "2019-12-06 17:27:21,438 : INFO : worker thread finished; awaiting finish of 0 more threads\n",
      "2019-12-06 17:27:21,439 : INFO : EPOCH - 1 : training on 562667 raw words (323589 effective words) took 0.3s, 1134350 effective words/s\n",
      "2019-12-06 17:27:21,683 : INFO : worker thread finished; awaiting finish of 7 more threads\n",
      "2019-12-06 17:27:21,688 : INFO : worker thread finished; awaiting finish of 6 more threads\n",
      "2019-12-06 17:27:21,689 : INFO : worker thread finished; awaiting finish of 5 more threads\n",
      "2019-12-06 17:27:21,690 : INFO : worker thread finished; awaiting finish of 4 more threads\n",
      "2019-12-06 17:27:21,692 : INFO : worker thread finished; awaiting finish of 3 more threads\n",
      "2019-12-06 17:27:21,695 : INFO : worker thread finished; awaiting finish of 2 more threads\n",
      "2019-12-06 17:27:21,696 : INFO : worker thread finished; awaiting finish of 1 more threads\n",
      "2019-12-06 17:27:21,697 : INFO : worker thread finished; awaiting finish of 0 more threads\n",
      "2019-12-06 17:27:21,698 : INFO : EPOCH - 2 : training on 562667 raw words (323188 effective words) took 0.3s, 1265748 effective words/s\n",
      "2019-12-06 17:27:21,946 : INFO : worker thread finished; awaiting finish of 7 more threads\n",
      "2019-12-06 17:27:21,950 : INFO : worker thread finished; awaiting finish of 6 more threads\n",
      "2019-12-06 17:27:21,957 : INFO : worker thread finished; awaiting finish of 5 more threads\n",
      "2019-12-06 17:27:21,958 : INFO : worker thread finished; awaiting finish of 4 more threads\n",
      "2019-12-06 17:27:21,962 : INFO : worker thread finished; awaiting finish of 3 more threads\n",
      "2019-12-06 17:27:21,964 : INFO : worker thread finished; awaiting finish of 2 more threads\n",
      "2019-12-06 17:27:21,964 : INFO : worker thread finished; awaiting finish of 1 more threads\n",
      "2019-12-06 17:27:21,966 : INFO : worker thread finished; awaiting finish of 0 more threads\n",
      "2019-12-06 17:27:21,967 : INFO : EPOCH - 3 : training on 562667 raw words (323359 effective words) took 0.3s, 1227794 effective words/s\n",
      "2019-12-06 17:27:22,236 : INFO : worker thread finished; awaiting finish of 7 more threads\n",
      "2019-12-06 17:27:22,237 : INFO : worker thread finished; awaiting finish of 6 more threads\n",
      "2019-12-06 17:27:22,241 : INFO : worker thread finished; awaiting finish of 5 more threads\n",
      "2019-12-06 17:27:22,242 : INFO : worker thread finished; awaiting finish of 4 more threads\n",
      "2019-12-06 17:27:22,245 : INFO : worker thread finished; awaiting finish of 3 more threads\n",
      "2019-12-06 17:27:22,247 : INFO : worker thread finished; awaiting finish of 2 more threads\n",
      "2019-12-06 17:27:22,249 : INFO : worker thread finished; awaiting finish of 1 more threads\n",
      "2019-12-06 17:27:22,250 : INFO : worker thread finished; awaiting finish of 0 more threads\n",
      "2019-12-06 17:27:22,251 : INFO : EPOCH - 4 : training on 562667 raw words (323540 effective words) took 0.3s, 1155255 effective words/s\n",
      "2019-12-06 17:27:22,490 : INFO : worker thread finished; awaiting finish of 7 more threads\n",
      "2019-12-06 17:27:22,495 : INFO : worker thread finished; awaiting finish of 6 more threads\n",
      "2019-12-06 17:27:22,497 : INFO : worker thread finished; awaiting finish of 5 more threads\n",
      "2019-12-06 17:27:22,498 : INFO : worker thread finished; awaiting finish of 4 more threads\n",
      "2019-12-06 17:27:22,499 : INFO : worker thread finished; awaiting finish of 3 more threads\n",
      "2019-12-06 17:27:22,501 : INFO : worker thread finished; awaiting finish of 2 more threads\n",
      "2019-12-06 17:27:22,505 : INFO : worker thread finished; awaiting finish of 1 more threads\n",
      "2019-12-06 17:27:22,507 : INFO : worker thread finished; awaiting finish of 0 more threads\n",
      "2019-12-06 17:27:22,508 : INFO : EPOCH - 5 : training on 562667 raw words (323496 effective words) took 0.3s, 1282230 effective words/s\n",
      "2019-12-06 17:27:22,508 : INFO : training on a 2813335 raw words (1617172 effective words) took 1.4s, 1190578 effective words/s\n",
      "2019-12-06 17:27:22,509 : INFO : precomputing L2-norms of word weight vectors\n",
      "2019-12-06 17:27:22,512 : INFO : saving Word2Vec object under model_extra_clean_comments.csv, separately None\n",
      "2019-12-06 17:27:22,512 : INFO : not storing attribute vectors_norm\n",
      "2019-12-06 17:27:22,513 : INFO : not storing attribute cum_table\n",
      "2019-12-06 17:27:22,528 : INFO : saved model_extra_clean_comments.csv\n"
     ]
    },
    {
     "name": "stdout",
     "output_type": "stream",
     "text": [
      "Total time: 1.6044628620147705 secs\n"
     ]
    }
   ],
   "source": [
    "num_features = 100    # Dimensionality of the hidden layer representation\n",
    "min_word_count = 35\n",
    "context = 8\n",
    "downsampling = 1e-3\n",
    "model = train_word2vec('extra_clean_comments.csv', num_features,min_word_count,context,downsampling)"
   ]
  },
  {
   "cell_type": "code",
   "execution_count": 23,
   "metadata": {},
   "outputs": [
    {
     "name": "stderr",
     "output_type": "stream",
     "text": [
      "/Users/tyler/anaconda3/lib/python3.7/site-packages/ipykernel_launcher.py:1: DeprecationWarning: Call to deprecated `syn0` (Attribute will be removed in 4.0.0, use self.vectors instead).\n",
      "  \"\"\"Entry point for launching an IPython kernel.\n"
     ]
    }
   ],
   "source": [
    "Z = model.wv.syn0"
   ]
  },
  {
   "cell_type": "markdown",
   "metadata": {},
   "source": [
    "# Cluster and Visualize Word Clouds"
   ]
  },
  {
   "cell_type": "code",
   "execution_count": 24,
   "metadata": {},
   "outputs": [
    {
     "name": "stdout",
     "output_type": "stream",
     "text": [
      "['speaking', 'rush', \"too']\", 'death', \"friends']\", \"shit']\", 'drinking', 'hearing', \"mind']\", 'killing', 'nut', 'poor', 'example', 'legit', 'positive', 'shows', 'stuck', 'sexy', 'pressure', \"here']\", 'alcohol', 'forward', 'plus', 'loving', 'note', 'considered', 'near', 'stress', 'building', 'photos']\n"
     ]
    },
    {
     "name": "stderr",
     "output_type": "stream",
     "text": [
      "/Users/tyler/anaconda3/lib/python3.7/site-packages/sklearn/metrics/pairwise.py:276: RuntimeWarning: invalid value encountered in maximum\n",
      "  np.maximum(distances, 0, out=distances)\n",
      "/Users/tyler/anaconda3/lib/python3.7/site-packages/sklearn/metrics/pairwise.py:276: RuntimeWarning: invalid value encountered in maximum\n",
      "  np.maximum(distances, 0, out=distances)\n",
      "/Users/tyler/anaconda3/lib/python3.7/site-packages/sklearn/cluster/k_means_.py:625: RuntimeWarning: invalid value encountered in multiply\n",
      "  inertia = (mindist * sample_weight).sum()\n",
      "/Users/tyler/anaconda3/lib/python3.7/site-packages/numpy/core/_methods.py:36: RuntimeWarning: overflow encountered in reduce\n",
      "  return umr_sum(a, axis, dtype, out, keepdims, initial)\n",
      "/Users/tyler/anaconda3/lib/python3.7/site-packages/sklearn/metrics/pairwise.py:276: RuntimeWarning: invalid value encountered in maximum\n",
      "  np.maximum(distances, 0, out=distances)\n",
      "/Users/tyler/anaconda3/lib/python3.7/site-packages/sklearn/metrics/pairwise.py:276: RuntimeWarning: invalid value encountered in maximum\n",
      "  np.maximum(distances, 0, out=distances)\n"
     ]
    }
   ],
   "source": [
    "centers, clusters = clustering_on_wordvecs(Z, 1);\n",
    "centroid_map = dict(zip(model.wv.index2word, clusters));\n",
    "top_words = get_top_words(model.wv.index2word, 30, centers, Z);"
   ]
  },
  {
   "cell_type": "code",
   "execution_count": 25,
   "metadata": {},
   "outputs": [
    {
     "name": "stdout",
     "output_type": "stream",
     "text": [
      "rainbow\n"
     ]
    },
    {
     "data": {
      "image/png": "[encoded data removed]",
      "text/plain": [
       "<Figure size 432x288 with 1 Axes>"
      ]
     },
     "metadata": {
      "needs_background": "light"
     },
     "output_type": "display_data"
    }
   ],
   "source": [
    "cmaps = 'rainbow'\n",
    "for i in range(1):\n",
    "    col = cmaps;\n",
    "    print(col)\n",
    "    display_cloud(i, col, top_words, label='total')"
   ]
  },
  {
   "cell_type": "markdown",
   "metadata": {},
   "source": [
    "## Visualize similarity table"
   ]
  },
  {
   "cell_type": "code",
   "execution_count": 26,
   "metadata": {},
   "outputs": [
    {
     "name": "stdout",
     "output_type": "stream",
     "text": [
      "     stressed        sad relationship    school\n",
      "0   depressed        bad          sex      high\n",
      "1     anxious   insecure     distance   classes\n",
      "2      boring    feeling       having   quarter\n",
      "3       quite      happy         lost   college\n",
      "4    accepted    awkward          fwb      year\n",
      "5    negative     guilty    boyfriend       gpa\n",
      "6     healthy     scared     feelings    mental\n",
      "7   potential     afraid         long       old\n",
      "8        busy  depressed      serious  studying\n",
      "9  frustrated     really      feeling    coming\n"
     ]
    }
   ],
   "source": [
    "tags = ['stressed','sad','relationship','school' ]\n",
    "tables = [];\n",
    "for tag in tags:\n",
    "    tables.append(get_word_table(model.wv.similar_by_word(tag), tag, show_sim=False))\n",
    "    \n",
    "similarity_table = pd.concat(tables, axis=1)\n",
    "print(similarity_table)"
   ]
  },
  {
   "cell_type": "markdown",
   "metadata": {},
   "source": [
    "## Demo of auto-tagging a new confession"
   ]
  },
  {
   "cell_type": "code",
   "execution_count": 27,
   "metadata": {},
   "outputs": [],
   "source": [
    "## Define tags, load in new confession to be tagged.\n",
    "\n",
    "confession = \"I am having a really rough day, my girl just dumped with me, AND I failed an exam.\""
   ]
  },
  {
   "cell_type": "code",
   "execution_count": 28,
   "metadata": {},
   "outputs": [
    {
     "name": "stdout",
     "output_type": "stream",
     "text": [
      "['sad']\n"
     ]
    }
   ],
   "source": [
    "similarity_scores = compute_similarity_scores(confession, tags, model)\n",
    "suggest_tags = generate_tag_suggestions(similarity_scores, tags, threshold=0.75)\n",
    "print(suggest_tags)"
   ]
  },
  {
   "cell_type": "code",
   "execution_count": null,
   "metadata": {},
   "outputs": [],
   "source": []
  },
  {
   "cell_type": "code",
   "execution_count": null,
   "metadata": {},
   "outputs": [],
   "source": []
  }
 ],
 "metadata": {
  "kernelspec": {
   "display_name": "Python 3",
   "language": "python",
   "name": "python3"
  },
  "language_info": {
   "codemirror_mode": {
    "name": "ipython",
    "version": 3
   },
   "file_extension": ".py",
   "mimetype": "text/x-python",
   "name": "python",
   "nbconvert_exporter": "python",
   "pygments_lexer": "ipython3",
   "version": "3.7.4"
  }
 },
 "nbformat": 4,
 "nbformat_minor": 2
}
